{
 "cells": [
  {
   "cell_type": "markdown",
   "id": "02795aa1",
   "metadata": {},
   "source": [
    "# <center>Определение стоимости автомобилей</center>"
   ]
  },
  {
   "cell_type": "markdown",
   "id": "29599808",
   "metadata": {},
   "source": [
    "## <center>Введение</center>"
   ]
  },
  {
   "cell_type": "markdown",
   "id": "45cef402",
   "metadata": {},
   "source": [
    "Целью проекта является построение модели для определения рыночной стоимости автомобилей. Датасет содержит дату скачивания анкеты из базы данных по продажам `DateCrawled`, тип кузова `VehicleType`;\n",
    "+ год регистрации автомобиля `RegistrationYear`\n",
    "+ месяц регистрации автомобиля ` RegistrationMonth`\n",
    "\n",
    "<br>тип коробки передач `Gearbox`, мощность (л. с.) `Power`, модель `Model`, пробег в км `Kilometer `, тип топлива `FuelType`, марка автомобиля `Brand`, была машина в ремонте или нет `NotRepaired`, дата создания анкеты `DataCreated`, количество фотографий автомобиля `NumberOfPictures`, почтовый индекс владельца автомобиля `PostalCode` и дата последней активности пользователя `LastSeen`.\n",
    "\n",
    "<br>**Целевой признак**, то есть цена автомобиля в евро - `Price`."
   ]
  },
  {
   "cell_type": "markdown",
   "id": "2526475d",
   "metadata": {},
   "source": [
    "## <center>План проекта</center>"
   ]
  },
  {
   "cell_type": "markdown",
   "id": "0f826326",
   "metadata": {},
   "source": [
    "<br>**Импорт библиотек**\n",
    "<br>**Предобработка данных**\n",
    "<br>**\"Тупая\" модель**\n",
    "<br>**Модели sklearn:**\n",
    "+ Линейная регрессия\n",
    "+ Дерево решений\n",
    "+ Случайный лес\n",
    "\n",
    "<br>**LightGBM**\n",
    "<br>**Вывод**"
   ]
  },
  {
   "cell_type": "markdown",
   "id": "dae796bb",
   "metadata": {},
   "source": [
    "## <center>Импорт библиотек</center>"
   ]
  },
  {
   "cell_type": "code",
   "execution_count": 1,
   "id": "0422cdf2",
   "metadata": {},
   "outputs": [],
   "source": [
    "import pandas as pd\n",
    "import numpy as np\n",
    "from sklearn.compose import ColumnTransformer\n",
    "from sklearn.pipeline import make_pipeline, Pipeline\n",
    "from sklearn.preprocessing import StandardScaler, OneHotEncoder\n",
    "from sklearn.model_selection import train_test_split, GridSearchCV, cross_val_score\n",
    "from sklearn.metrics import make_scorer\n",
    "from sklearn.metrics import mean_squared_error\n",
    "from sklearn.dummy import DummyRegressor\n",
    "from sklearn.linear_model import LinearRegression\n",
    "from sklearn.tree import DecisionTreeRegressor\n",
    "from sklearn.ensemble import RandomForestRegressor\n",
    "\n",
    "#!pip install lightgbm\n",
    "from lightgbm import LGBMRegressor"
   ]
  },
  {
   "cell_type": "markdown",
   "id": "e11bbe2f",
   "metadata": {},
   "source": [
    "## <center>Предобработка данных<center>"
   ]
  },
  {
   "cell_type": "markdown",
   "id": "20de1aa7",
   "metadata": {},
   "source": [
    "Считаем данные и посмотрим на них:"
   ]
  },
  {
   "cell_type": "code",
   "execution_count": 2,
   "id": "792c2c1a",
   "metadata": {},
   "outputs": [
    {
     "data": {
      "text/html": [
       "<div>\n",
       "<style scoped>\n",
       "    .dataframe tbody tr th:only-of-type {\n",
       "        vertical-align: middle;\n",
       "    }\n",
       "\n",
       "    .dataframe tbody tr th {\n",
       "        vertical-align: top;\n",
       "    }\n",
       "\n",
       "    .dataframe thead th {\n",
       "        text-align: right;\n",
       "    }\n",
       "</style>\n",
       "<table border=\"1\" class=\"dataframe\">\n",
       "  <thead>\n",
       "    <tr style=\"text-align: right;\">\n",
       "      <th></th>\n",
       "      <th>DateCrawled</th>\n",
       "      <th>Price</th>\n",
       "      <th>VehicleType</th>\n",
       "      <th>RegistrationYear</th>\n",
       "      <th>Gearbox</th>\n",
       "      <th>Power</th>\n",
       "      <th>Model</th>\n",
       "      <th>Kilometer</th>\n",
       "      <th>RegistrationMonth</th>\n",
       "      <th>FuelType</th>\n",
       "      <th>Brand</th>\n",
       "      <th>NotRepaired</th>\n",
       "      <th>DateCreated</th>\n",
       "      <th>NumberOfPictures</th>\n",
       "      <th>PostalCode</th>\n",
       "      <th>LastSeen</th>\n",
       "    </tr>\n",
       "  </thead>\n",
       "  <tbody>\n",
       "    <tr>\n",
       "      <th>0</th>\n",
       "      <td>2016-03-24 11:52:17</td>\n",
       "      <td>480</td>\n",
       "      <td>NaN</td>\n",
       "      <td>1993</td>\n",
       "      <td>manual</td>\n",
       "      <td>0</td>\n",
       "      <td>golf</td>\n",
       "      <td>150000</td>\n",
       "      <td>0</td>\n",
       "      <td>petrol</td>\n",
       "      <td>volkswagen</td>\n",
       "      <td>NaN</td>\n",
       "      <td>2016-03-24 00:00:00</td>\n",
       "      <td>0</td>\n",
       "      <td>70435</td>\n",
       "      <td>2016-04-07 03:16:57</td>\n",
       "    </tr>\n",
       "    <tr>\n",
       "      <th>1</th>\n",
       "      <td>2016-03-24 10:58:45</td>\n",
       "      <td>18300</td>\n",
       "      <td>coupe</td>\n",
       "      <td>2011</td>\n",
       "      <td>manual</td>\n",
       "      <td>190</td>\n",
       "      <td>NaN</td>\n",
       "      <td>125000</td>\n",
       "      <td>5</td>\n",
       "      <td>gasoline</td>\n",
       "      <td>audi</td>\n",
       "      <td>yes</td>\n",
       "      <td>2016-03-24 00:00:00</td>\n",
       "      <td>0</td>\n",
       "      <td>66954</td>\n",
       "      <td>2016-04-07 01:46:50</td>\n",
       "    </tr>\n",
       "    <tr>\n",
       "      <th>2</th>\n",
       "      <td>2016-03-14 12:52:21</td>\n",
       "      <td>9800</td>\n",
       "      <td>suv</td>\n",
       "      <td>2004</td>\n",
       "      <td>auto</td>\n",
       "      <td>163</td>\n",
       "      <td>grand</td>\n",
       "      <td>125000</td>\n",
       "      <td>8</td>\n",
       "      <td>gasoline</td>\n",
       "      <td>jeep</td>\n",
       "      <td>NaN</td>\n",
       "      <td>2016-03-14 00:00:00</td>\n",
       "      <td>0</td>\n",
       "      <td>90480</td>\n",
       "      <td>2016-04-05 12:47:46</td>\n",
       "    </tr>\n",
       "    <tr>\n",
       "      <th>3</th>\n",
       "      <td>2016-03-17 16:54:04</td>\n",
       "      <td>1500</td>\n",
       "      <td>small</td>\n",
       "      <td>2001</td>\n",
       "      <td>manual</td>\n",
       "      <td>75</td>\n",
       "      <td>golf</td>\n",
       "      <td>150000</td>\n",
       "      <td>6</td>\n",
       "      <td>petrol</td>\n",
       "      <td>volkswagen</td>\n",
       "      <td>no</td>\n",
       "      <td>2016-03-17 00:00:00</td>\n",
       "      <td>0</td>\n",
       "      <td>91074</td>\n",
       "      <td>2016-03-17 17:40:17</td>\n",
       "    </tr>\n",
       "    <tr>\n",
       "      <th>4</th>\n",
       "      <td>2016-03-31 17:25:20</td>\n",
       "      <td>3600</td>\n",
       "      <td>small</td>\n",
       "      <td>2008</td>\n",
       "      <td>manual</td>\n",
       "      <td>69</td>\n",
       "      <td>fabia</td>\n",
       "      <td>90000</td>\n",
       "      <td>7</td>\n",
       "      <td>gasoline</td>\n",
       "      <td>skoda</td>\n",
       "      <td>no</td>\n",
       "      <td>2016-03-31 00:00:00</td>\n",
       "      <td>0</td>\n",
       "      <td>60437</td>\n",
       "      <td>2016-04-06 10:17:21</td>\n",
       "    </tr>\n",
       "    <tr>\n",
       "      <th>5</th>\n",
       "      <td>2016-04-04 17:36:23</td>\n",
       "      <td>650</td>\n",
       "      <td>sedan</td>\n",
       "      <td>1995</td>\n",
       "      <td>manual</td>\n",
       "      <td>102</td>\n",
       "      <td>3er</td>\n",
       "      <td>150000</td>\n",
       "      <td>10</td>\n",
       "      <td>petrol</td>\n",
       "      <td>bmw</td>\n",
       "      <td>yes</td>\n",
       "      <td>2016-04-04 00:00:00</td>\n",
       "      <td>0</td>\n",
       "      <td>33775</td>\n",
       "      <td>2016-04-06 19:17:07</td>\n",
       "    </tr>\n",
       "    <tr>\n",
       "      <th>6</th>\n",
       "      <td>2016-04-01 20:48:51</td>\n",
       "      <td>2200</td>\n",
       "      <td>convertible</td>\n",
       "      <td>2004</td>\n",
       "      <td>manual</td>\n",
       "      <td>109</td>\n",
       "      <td>2_reihe</td>\n",
       "      <td>150000</td>\n",
       "      <td>8</td>\n",
       "      <td>petrol</td>\n",
       "      <td>peugeot</td>\n",
       "      <td>no</td>\n",
       "      <td>2016-04-01 00:00:00</td>\n",
       "      <td>0</td>\n",
       "      <td>67112</td>\n",
       "      <td>2016-04-05 18:18:39</td>\n",
       "    </tr>\n",
       "    <tr>\n",
       "      <th>7</th>\n",
       "      <td>2016-03-21 18:54:38</td>\n",
       "      <td>0</td>\n",
       "      <td>sedan</td>\n",
       "      <td>1980</td>\n",
       "      <td>manual</td>\n",
       "      <td>50</td>\n",
       "      <td>other</td>\n",
       "      <td>40000</td>\n",
       "      <td>7</td>\n",
       "      <td>petrol</td>\n",
       "      <td>volkswagen</td>\n",
       "      <td>no</td>\n",
       "      <td>2016-03-21 00:00:00</td>\n",
       "      <td>0</td>\n",
       "      <td>19348</td>\n",
       "      <td>2016-03-25 16:47:58</td>\n",
       "    </tr>\n",
       "    <tr>\n",
       "      <th>8</th>\n",
       "      <td>2016-04-04 23:42:13</td>\n",
       "      <td>14500</td>\n",
       "      <td>bus</td>\n",
       "      <td>2014</td>\n",
       "      <td>manual</td>\n",
       "      <td>125</td>\n",
       "      <td>c_max</td>\n",
       "      <td>30000</td>\n",
       "      <td>8</td>\n",
       "      <td>petrol</td>\n",
       "      <td>ford</td>\n",
       "      <td>NaN</td>\n",
       "      <td>2016-04-04 00:00:00</td>\n",
       "      <td>0</td>\n",
       "      <td>94505</td>\n",
       "      <td>2016-04-04 23:42:13</td>\n",
       "    </tr>\n",
       "    <tr>\n",
       "      <th>9</th>\n",
       "      <td>2016-03-17 10:53:50</td>\n",
       "      <td>999</td>\n",
       "      <td>small</td>\n",
       "      <td>1998</td>\n",
       "      <td>manual</td>\n",
       "      <td>101</td>\n",
       "      <td>golf</td>\n",
       "      <td>150000</td>\n",
       "      <td>0</td>\n",
       "      <td>NaN</td>\n",
       "      <td>volkswagen</td>\n",
       "      <td>NaN</td>\n",
       "      <td>2016-03-17 00:00:00</td>\n",
       "      <td>0</td>\n",
       "      <td>27472</td>\n",
       "      <td>2016-03-31 17:17:06</td>\n",
       "    </tr>\n",
       "    <tr>\n",
       "      <th>10</th>\n",
       "      <td>2016-03-26 19:54:18</td>\n",
       "      <td>2000</td>\n",
       "      <td>sedan</td>\n",
       "      <td>2004</td>\n",
       "      <td>manual</td>\n",
       "      <td>105</td>\n",
       "      <td>3_reihe</td>\n",
       "      <td>150000</td>\n",
       "      <td>12</td>\n",
       "      <td>petrol</td>\n",
       "      <td>mazda</td>\n",
       "      <td>no</td>\n",
       "      <td>2016-03-26 00:00:00</td>\n",
       "      <td>0</td>\n",
       "      <td>96224</td>\n",
       "      <td>2016-04-06 10:45:34</td>\n",
       "    </tr>\n",
       "    <tr>\n",
       "      <th>11</th>\n",
       "      <td>2016-04-07 10:06:22</td>\n",
       "      <td>2799</td>\n",
       "      <td>wagon</td>\n",
       "      <td>2005</td>\n",
       "      <td>manual</td>\n",
       "      <td>140</td>\n",
       "      <td>passat</td>\n",
       "      <td>150000</td>\n",
       "      <td>12</td>\n",
       "      <td>gasoline</td>\n",
       "      <td>volkswagen</td>\n",
       "      <td>yes</td>\n",
       "      <td>2016-04-07 00:00:00</td>\n",
       "      <td>0</td>\n",
       "      <td>57290</td>\n",
       "      <td>2016-04-07 10:25:17</td>\n",
       "    </tr>\n",
       "    <tr>\n",
       "      <th>12</th>\n",
       "      <td>2016-03-15 22:49:09</td>\n",
       "      <td>999</td>\n",
       "      <td>wagon</td>\n",
       "      <td>1995</td>\n",
       "      <td>manual</td>\n",
       "      <td>115</td>\n",
       "      <td>passat</td>\n",
       "      <td>150000</td>\n",
       "      <td>11</td>\n",
       "      <td>petrol</td>\n",
       "      <td>volkswagen</td>\n",
       "      <td>NaN</td>\n",
       "      <td>2016-03-15 00:00:00</td>\n",
       "      <td>0</td>\n",
       "      <td>37269</td>\n",
       "      <td>2016-04-01 13:16:16</td>\n",
       "    </tr>\n",
       "    <tr>\n",
       "      <th>13</th>\n",
       "      <td>2016-03-21 21:37:40</td>\n",
       "      <td>2500</td>\n",
       "      <td>wagon</td>\n",
       "      <td>2004</td>\n",
       "      <td>manual</td>\n",
       "      <td>131</td>\n",
       "      <td>passat</td>\n",
       "      <td>150000</td>\n",
       "      <td>2</td>\n",
       "      <td>NaN</td>\n",
       "      <td>volkswagen</td>\n",
       "      <td>no</td>\n",
       "      <td>2016-03-21 00:00:00</td>\n",
       "      <td>0</td>\n",
       "      <td>90762</td>\n",
       "      <td>2016-03-23 02:50:54</td>\n",
       "    </tr>\n",
       "    <tr>\n",
       "      <th>14</th>\n",
       "      <td>2016-03-21 12:57:01</td>\n",
       "      <td>17999</td>\n",
       "      <td>suv</td>\n",
       "      <td>2011</td>\n",
       "      <td>manual</td>\n",
       "      <td>190</td>\n",
       "      <td>navara</td>\n",
       "      <td>70000</td>\n",
       "      <td>3</td>\n",
       "      <td>gasoline</td>\n",
       "      <td>nissan</td>\n",
       "      <td>no</td>\n",
       "      <td>2016-03-21 00:00:00</td>\n",
       "      <td>0</td>\n",
       "      <td>4177</td>\n",
       "      <td>2016-04-06 07:45:42</td>\n",
       "    </tr>\n",
       "    <tr>\n",
       "      <th>15</th>\n",
       "      <td>2016-03-11 21:39:15</td>\n",
       "      <td>450</td>\n",
       "      <td>small</td>\n",
       "      <td>1910</td>\n",
       "      <td>NaN</td>\n",
       "      <td>0</td>\n",
       "      <td>ka</td>\n",
       "      <td>5000</td>\n",
       "      <td>0</td>\n",
       "      <td>petrol</td>\n",
       "      <td>ford</td>\n",
       "      <td>NaN</td>\n",
       "      <td>2016-03-11 00:00:00</td>\n",
       "      <td>0</td>\n",
       "      <td>24148</td>\n",
       "      <td>2016-03-19 08:46:47</td>\n",
       "    </tr>\n",
       "    <tr>\n",
       "      <th>16</th>\n",
       "      <td>2016-04-01 12:46:46</td>\n",
       "      <td>300</td>\n",
       "      <td>NaN</td>\n",
       "      <td>2016</td>\n",
       "      <td>NaN</td>\n",
       "      <td>60</td>\n",
       "      <td>polo</td>\n",
       "      <td>150000</td>\n",
       "      <td>0</td>\n",
       "      <td>petrol</td>\n",
       "      <td>volkswagen</td>\n",
       "      <td>NaN</td>\n",
       "      <td>2016-04-01 00:00:00</td>\n",
       "      <td>0</td>\n",
       "      <td>38871</td>\n",
       "      <td>2016-04-01 12:46:46</td>\n",
       "    </tr>\n",
       "    <tr>\n",
       "      <th>17</th>\n",
       "      <td>2016-03-20 10:25:19</td>\n",
       "      <td>1750</td>\n",
       "      <td>small</td>\n",
       "      <td>2004</td>\n",
       "      <td>auto</td>\n",
       "      <td>75</td>\n",
       "      <td>twingo</td>\n",
       "      <td>150000</td>\n",
       "      <td>2</td>\n",
       "      <td>petrol</td>\n",
       "      <td>renault</td>\n",
       "      <td>no</td>\n",
       "      <td>2016-03-20 00:00:00</td>\n",
       "      <td>0</td>\n",
       "      <td>65599</td>\n",
       "      <td>2016-04-06 13:16:07</td>\n",
       "    </tr>\n",
       "    <tr>\n",
       "      <th>18</th>\n",
       "      <td>2016-03-23 15:48:05</td>\n",
       "      <td>7550</td>\n",
       "      <td>bus</td>\n",
       "      <td>2007</td>\n",
       "      <td>manual</td>\n",
       "      <td>136</td>\n",
       "      <td>c_max</td>\n",
       "      <td>150000</td>\n",
       "      <td>6</td>\n",
       "      <td>gasoline</td>\n",
       "      <td>ford</td>\n",
       "      <td>no</td>\n",
       "      <td>2016-03-23 00:00:00</td>\n",
       "      <td>0</td>\n",
       "      <td>88361</td>\n",
       "      <td>2016-04-05 18:45:11</td>\n",
       "    </tr>\n",
       "    <tr>\n",
       "      <th>19</th>\n",
       "      <td>2016-04-01 22:55:47</td>\n",
       "      <td>1850</td>\n",
       "      <td>bus</td>\n",
       "      <td>2004</td>\n",
       "      <td>manual</td>\n",
       "      <td>102</td>\n",
       "      <td>a_klasse</td>\n",
       "      <td>150000</td>\n",
       "      <td>1</td>\n",
       "      <td>petrol</td>\n",
       "      <td>mercedes_benz</td>\n",
       "      <td>no</td>\n",
       "      <td>2016-04-01 00:00:00</td>\n",
       "      <td>0</td>\n",
       "      <td>49565</td>\n",
       "      <td>2016-04-05 22:46:05</td>\n",
       "    </tr>\n",
       "  </tbody>\n",
       "</table>\n",
       "</div>"
      ],
      "text/plain": [
       "            DateCrawled  Price  VehicleType  RegistrationYear Gearbox  Power  \\\n",
       "0   2016-03-24 11:52:17    480          NaN              1993  manual      0   \n",
       "1   2016-03-24 10:58:45  18300        coupe              2011  manual    190   \n",
       "2   2016-03-14 12:52:21   9800          suv              2004    auto    163   \n",
       "3   2016-03-17 16:54:04   1500        small              2001  manual     75   \n",
       "4   2016-03-31 17:25:20   3600        small              2008  manual     69   \n",
       "5   2016-04-04 17:36:23    650        sedan              1995  manual    102   \n",
       "6   2016-04-01 20:48:51   2200  convertible              2004  manual    109   \n",
       "7   2016-03-21 18:54:38      0        sedan              1980  manual     50   \n",
       "8   2016-04-04 23:42:13  14500          bus              2014  manual    125   \n",
       "9   2016-03-17 10:53:50    999        small              1998  manual    101   \n",
       "10  2016-03-26 19:54:18   2000        sedan              2004  manual    105   \n",
       "11  2016-04-07 10:06:22   2799        wagon              2005  manual    140   \n",
       "12  2016-03-15 22:49:09    999        wagon              1995  manual    115   \n",
       "13  2016-03-21 21:37:40   2500        wagon              2004  manual    131   \n",
       "14  2016-03-21 12:57:01  17999          suv              2011  manual    190   \n",
       "15  2016-03-11 21:39:15    450        small              1910     NaN      0   \n",
       "16  2016-04-01 12:46:46    300          NaN              2016     NaN     60   \n",
       "17  2016-03-20 10:25:19   1750        small              2004    auto     75   \n",
       "18  2016-03-23 15:48:05   7550          bus              2007  manual    136   \n",
       "19  2016-04-01 22:55:47   1850          bus              2004  manual    102   \n",
       "\n",
       "       Model  Kilometer  RegistrationMonth  FuelType          Brand  \\\n",
       "0       golf     150000                  0    petrol     volkswagen   \n",
       "1        NaN     125000                  5  gasoline           audi   \n",
       "2      grand     125000                  8  gasoline           jeep   \n",
       "3       golf     150000                  6    petrol     volkswagen   \n",
       "4      fabia      90000                  7  gasoline          skoda   \n",
       "5        3er     150000                 10    petrol            bmw   \n",
       "6    2_reihe     150000                  8    petrol        peugeot   \n",
       "7      other      40000                  7    petrol     volkswagen   \n",
       "8      c_max      30000                  8    petrol           ford   \n",
       "9       golf     150000                  0       NaN     volkswagen   \n",
       "10   3_reihe     150000                 12    petrol          mazda   \n",
       "11    passat     150000                 12  gasoline     volkswagen   \n",
       "12    passat     150000                 11    petrol     volkswagen   \n",
       "13    passat     150000                  2       NaN     volkswagen   \n",
       "14    navara      70000                  3  gasoline         nissan   \n",
       "15        ka       5000                  0    petrol           ford   \n",
       "16      polo     150000                  0    petrol     volkswagen   \n",
       "17    twingo     150000                  2    petrol        renault   \n",
       "18     c_max     150000                  6  gasoline           ford   \n",
       "19  a_klasse     150000                  1    petrol  mercedes_benz   \n",
       "\n",
       "   NotRepaired          DateCreated  NumberOfPictures  PostalCode  \\\n",
       "0          NaN  2016-03-24 00:00:00                 0       70435   \n",
       "1          yes  2016-03-24 00:00:00                 0       66954   \n",
       "2          NaN  2016-03-14 00:00:00                 0       90480   \n",
       "3           no  2016-03-17 00:00:00                 0       91074   \n",
       "4           no  2016-03-31 00:00:00                 0       60437   \n",
       "5          yes  2016-04-04 00:00:00                 0       33775   \n",
       "6           no  2016-04-01 00:00:00                 0       67112   \n",
       "7           no  2016-03-21 00:00:00                 0       19348   \n",
       "8          NaN  2016-04-04 00:00:00                 0       94505   \n",
       "9          NaN  2016-03-17 00:00:00                 0       27472   \n",
       "10          no  2016-03-26 00:00:00                 0       96224   \n",
       "11         yes  2016-04-07 00:00:00                 0       57290   \n",
       "12         NaN  2016-03-15 00:00:00                 0       37269   \n",
       "13          no  2016-03-21 00:00:00                 0       90762   \n",
       "14          no  2016-03-21 00:00:00                 0        4177   \n",
       "15         NaN  2016-03-11 00:00:00                 0       24148   \n",
       "16         NaN  2016-04-01 00:00:00                 0       38871   \n",
       "17          no  2016-03-20 00:00:00                 0       65599   \n",
       "18          no  2016-03-23 00:00:00                 0       88361   \n",
       "19          no  2016-04-01 00:00:00                 0       49565   \n",
       "\n",
       "               LastSeen  \n",
       "0   2016-04-07 03:16:57  \n",
       "1   2016-04-07 01:46:50  \n",
       "2   2016-04-05 12:47:46  \n",
       "3   2016-03-17 17:40:17  \n",
       "4   2016-04-06 10:17:21  \n",
       "5   2016-04-06 19:17:07  \n",
       "6   2016-04-05 18:18:39  \n",
       "7   2016-03-25 16:47:58  \n",
       "8   2016-04-04 23:42:13  \n",
       "9   2016-03-31 17:17:06  \n",
       "10  2016-04-06 10:45:34  \n",
       "11  2016-04-07 10:25:17  \n",
       "12  2016-04-01 13:16:16  \n",
       "13  2016-03-23 02:50:54  \n",
       "14  2016-04-06 07:45:42  \n",
       "15  2016-03-19 08:46:47  \n",
       "16  2016-04-01 12:46:46  \n",
       "17  2016-04-06 13:16:07  \n",
       "18  2016-04-05 18:45:11  \n",
       "19  2016-04-05 22:46:05  "
      ]
     },
     "metadata": {},
     "output_type": "display_data"
    },
    {
     "name": "stdout",
     "output_type": "stream",
     "text": [
      "<class 'pandas.core.frame.DataFrame'>\n",
      "RangeIndex: 354369 entries, 0 to 354368\n",
      "Data columns (total 16 columns):\n",
      " #   Column             Non-Null Count   Dtype \n",
      "---  ------             --------------   ----- \n",
      " 0   DateCrawled        354369 non-null  object\n",
      " 1   Price              354369 non-null  int64 \n",
      " 2   VehicleType        316879 non-null  object\n",
      " 3   RegistrationYear   354369 non-null  int64 \n",
      " 4   Gearbox            334536 non-null  object\n",
      " 5   Power              354369 non-null  int64 \n",
      " 6   Model              334664 non-null  object\n",
      " 7   Kilometer          354369 non-null  int64 \n",
      " 8   RegistrationMonth  354369 non-null  int64 \n",
      " 9   FuelType           321474 non-null  object\n",
      " 10  Brand              354369 non-null  object\n",
      " 11  NotRepaired        283215 non-null  object\n",
      " 12  DateCreated        354369 non-null  object\n",
      " 13  NumberOfPictures   354369 non-null  int64 \n",
      " 14  PostalCode         354369 non-null  int64 \n",
      " 15  LastSeen           354369 non-null  object\n",
      "dtypes: int64(7), object(9)\n",
      "memory usage: 43.3+ MB\n",
      "None\n"
     ]
    }
   ],
   "source": [
    "data = pd.read_csv('autos.csv')\n",
    "\n",
    "display(data.head(20))\n",
    "print(data.info())"
   ]
  },
  {
   "cell_type": "markdown",
   "id": "596b0b56",
   "metadata": {},
   "source": [
    "Проблем много: и пропуски, и типы - начнём с самого простого. Уберём всё то, что нам не нужно.\n",
    "\n",
    "Наша задача - построить модель, которая определяет рыночную стоимость автомобиля по его характеристикам, то есть в нашем датасете лишние **очевидно**:"
   ]
  },
  {
   "cell_type": "markdown",
   "id": "a5421d34",
   "metadata": {},
   "source": [
    "+ `DateCrawled` — дата скачивания анкеты из базы, причём здесь она :)\n",
    "+ `LastSeen` — дата последней активности пользователя, она здесь тоже ни при чём :)"
   ]
  },
  {
   "cell_type": "markdown",
   "id": "af428d64",
   "metadata": {},
   "source": [
    "Дальнейшие решения более рискованные, однако если наша цель - построить модель, вычисляющую стоимость **чисто по характеристикам**, то так же лишние:"
   ]
  },
  {
   "cell_type": "markdown",
   "id": "99a86fce",
   "metadata": {},
   "source": [
    "+ `PostalCode` — почтовый индекс владельца анкеты (пользователя). Вообще местонахождение продавца может оказывать некое влияние на стоимость - однако это должно отражаться иначе, быть категориальным признаком. Превращать этот столбец в категорию \"местонахождение\" - большая головная боль, плюс местонахождение продавца технической характеристикой автомобиля **не** является.\n",
    "+ `NumberOfPictures` — количество фотографий автомобиля. Вообще презентация так же может оказывать определённое влияние, однако количество фоточек тоже НЕ является технической характеристикой автомобиля;\n",
    "+ `DateCreated` — дата создания анкеты. Влияние может оказывать, но снова не техническая характеристика;\n",
    "+ `RegistrationMonth` — месяц регистрации автомобиля. **Год** явно имеет большое значение, старые машины (полагаю) стоят дешевле, чем новые (либо в некоторых случаях наоборот, дороже, ибо винтаж такой винтаж), однако **месяц** - история странная, от неё, пожалуй, можно избавиться.\n",
    "\n",
    "Итого:"
   ]
  },
  {
   "cell_type": "code",
   "execution_count": 3,
   "id": "f0c4dade",
   "metadata": {},
   "outputs": [
    {
     "data": {
      "text/html": [
       "<div>\n",
       "<style scoped>\n",
       "    .dataframe tbody tr th:only-of-type {\n",
       "        vertical-align: middle;\n",
       "    }\n",
       "\n",
       "    .dataframe tbody tr th {\n",
       "        vertical-align: top;\n",
       "    }\n",
       "\n",
       "    .dataframe thead th {\n",
       "        text-align: right;\n",
       "    }\n",
       "</style>\n",
       "<table border=\"1\" class=\"dataframe\">\n",
       "  <thead>\n",
       "    <tr style=\"text-align: right;\">\n",
       "      <th></th>\n",
       "      <th>Price</th>\n",
       "      <th>VehicleType</th>\n",
       "      <th>RegistrationYear</th>\n",
       "      <th>Gearbox</th>\n",
       "      <th>Power</th>\n",
       "      <th>Model</th>\n",
       "      <th>Kilometer</th>\n",
       "      <th>FuelType</th>\n",
       "      <th>Brand</th>\n",
       "      <th>NotRepaired</th>\n",
       "    </tr>\n",
       "  </thead>\n",
       "  <tbody>\n",
       "    <tr>\n",
       "      <th>0</th>\n",
       "      <td>480</td>\n",
       "      <td>NaN</td>\n",
       "      <td>1993</td>\n",
       "      <td>manual</td>\n",
       "      <td>0</td>\n",
       "      <td>golf</td>\n",
       "      <td>150000</td>\n",
       "      <td>petrol</td>\n",
       "      <td>volkswagen</td>\n",
       "      <td>NaN</td>\n",
       "    </tr>\n",
       "    <tr>\n",
       "      <th>1</th>\n",
       "      <td>18300</td>\n",
       "      <td>coupe</td>\n",
       "      <td>2011</td>\n",
       "      <td>manual</td>\n",
       "      <td>190</td>\n",
       "      <td>NaN</td>\n",
       "      <td>125000</td>\n",
       "      <td>gasoline</td>\n",
       "      <td>audi</td>\n",
       "      <td>yes</td>\n",
       "    </tr>\n",
       "    <tr>\n",
       "      <th>2</th>\n",
       "      <td>9800</td>\n",
       "      <td>suv</td>\n",
       "      <td>2004</td>\n",
       "      <td>auto</td>\n",
       "      <td>163</td>\n",
       "      <td>grand</td>\n",
       "      <td>125000</td>\n",
       "      <td>gasoline</td>\n",
       "      <td>jeep</td>\n",
       "      <td>NaN</td>\n",
       "    </tr>\n",
       "    <tr>\n",
       "      <th>3</th>\n",
       "      <td>1500</td>\n",
       "      <td>small</td>\n",
       "      <td>2001</td>\n",
       "      <td>manual</td>\n",
       "      <td>75</td>\n",
       "      <td>golf</td>\n",
       "      <td>150000</td>\n",
       "      <td>petrol</td>\n",
       "      <td>volkswagen</td>\n",
       "      <td>no</td>\n",
       "    </tr>\n",
       "    <tr>\n",
       "      <th>4</th>\n",
       "      <td>3600</td>\n",
       "      <td>small</td>\n",
       "      <td>2008</td>\n",
       "      <td>manual</td>\n",
       "      <td>69</td>\n",
       "      <td>fabia</td>\n",
       "      <td>90000</td>\n",
       "      <td>gasoline</td>\n",
       "      <td>skoda</td>\n",
       "      <td>no</td>\n",
       "    </tr>\n",
       "    <tr>\n",
       "      <th>5</th>\n",
       "      <td>650</td>\n",
       "      <td>sedan</td>\n",
       "      <td>1995</td>\n",
       "      <td>manual</td>\n",
       "      <td>102</td>\n",
       "      <td>3er</td>\n",
       "      <td>150000</td>\n",
       "      <td>petrol</td>\n",
       "      <td>bmw</td>\n",
       "      <td>yes</td>\n",
       "    </tr>\n",
       "    <tr>\n",
       "      <th>6</th>\n",
       "      <td>2200</td>\n",
       "      <td>convertible</td>\n",
       "      <td>2004</td>\n",
       "      <td>manual</td>\n",
       "      <td>109</td>\n",
       "      <td>2_reihe</td>\n",
       "      <td>150000</td>\n",
       "      <td>petrol</td>\n",
       "      <td>peugeot</td>\n",
       "      <td>no</td>\n",
       "    </tr>\n",
       "    <tr>\n",
       "      <th>7</th>\n",
       "      <td>0</td>\n",
       "      <td>sedan</td>\n",
       "      <td>1980</td>\n",
       "      <td>manual</td>\n",
       "      <td>50</td>\n",
       "      <td>other</td>\n",
       "      <td>40000</td>\n",
       "      <td>petrol</td>\n",
       "      <td>volkswagen</td>\n",
       "      <td>no</td>\n",
       "    </tr>\n",
       "    <tr>\n",
       "      <th>8</th>\n",
       "      <td>14500</td>\n",
       "      <td>bus</td>\n",
       "      <td>2014</td>\n",
       "      <td>manual</td>\n",
       "      <td>125</td>\n",
       "      <td>c_max</td>\n",
       "      <td>30000</td>\n",
       "      <td>petrol</td>\n",
       "      <td>ford</td>\n",
       "      <td>NaN</td>\n",
       "    </tr>\n",
       "    <tr>\n",
       "      <th>9</th>\n",
       "      <td>999</td>\n",
       "      <td>small</td>\n",
       "      <td>1998</td>\n",
       "      <td>manual</td>\n",
       "      <td>101</td>\n",
       "      <td>golf</td>\n",
       "      <td>150000</td>\n",
       "      <td>NaN</td>\n",
       "      <td>volkswagen</td>\n",
       "      <td>NaN</td>\n",
       "    </tr>\n",
       "    <tr>\n",
       "      <th>10</th>\n",
       "      <td>2000</td>\n",
       "      <td>sedan</td>\n",
       "      <td>2004</td>\n",
       "      <td>manual</td>\n",
       "      <td>105</td>\n",
       "      <td>3_reihe</td>\n",
       "      <td>150000</td>\n",
       "      <td>petrol</td>\n",
       "      <td>mazda</td>\n",
       "      <td>no</td>\n",
       "    </tr>\n",
       "    <tr>\n",
       "      <th>11</th>\n",
       "      <td>2799</td>\n",
       "      <td>wagon</td>\n",
       "      <td>2005</td>\n",
       "      <td>manual</td>\n",
       "      <td>140</td>\n",
       "      <td>passat</td>\n",
       "      <td>150000</td>\n",
       "      <td>gasoline</td>\n",
       "      <td>volkswagen</td>\n",
       "      <td>yes</td>\n",
       "    </tr>\n",
       "    <tr>\n",
       "      <th>12</th>\n",
       "      <td>999</td>\n",
       "      <td>wagon</td>\n",
       "      <td>1995</td>\n",
       "      <td>manual</td>\n",
       "      <td>115</td>\n",
       "      <td>passat</td>\n",
       "      <td>150000</td>\n",
       "      <td>petrol</td>\n",
       "      <td>volkswagen</td>\n",
       "      <td>NaN</td>\n",
       "    </tr>\n",
       "    <tr>\n",
       "      <th>13</th>\n",
       "      <td>2500</td>\n",
       "      <td>wagon</td>\n",
       "      <td>2004</td>\n",
       "      <td>manual</td>\n",
       "      <td>131</td>\n",
       "      <td>passat</td>\n",
       "      <td>150000</td>\n",
       "      <td>NaN</td>\n",
       "      <td>volkswagen</td>\n",
       "      <td>no</td>\n",
       "    </tr>\n",
       "    <tr>\n",
       "      <th>14</th>\n",
       "      <td>17999</td>\n",
       "      <td>suv</td>\n",
       "      <td>2011</td>\n",
       "      <td>manual</td>\n",
       "      <td>190</td>\n",
       "      <td>navara</td>\n",
       "      <td>70000</td>\n",
       "      <td>gasoline</td>\n",
       "      <td>nissan</td>\n",
       "      <td>no</td>\n",
       "    </tr>\n",
       "    <tr>\n",
       "      <th>15</th>\n",
       "      <td>450</td>\n",
       "      <td>small</td>\n",
       "      <td>1910</td>\n",
       "      <td>NaN</td>\n",
       "      <td>0</td>\n",
       "      <td>ka</td>\n",
       "      <td>5000</td>\n",
       "      <td>petrol</td>\n",
       "      <td>ford</td>\n",
       "      <td>NaN</td>\n",
       "    </tr>\n",
       "    <tr>\n",
       "      <th>16</th>\n",
       "      <td>300</td>\n",
       "      <td>NaN</td>\n",
       "      <td>2016</td>\n",
       "      <td>NaN</td>\n",
       "      <td>60</td>\n",
       "      <td>polo</td>\n",
       "      <td>150000</td>\n",
       "      <td>petrol</td>\n",
       "      <td>volkswagen</td>\n",
       "      <td>NaN</td>\n",
       "    </tr>\n",
       "    <tr>\n",
       "      <th>17</th>\n",
       "      <td>1750</td>\n",
       "      <td>small</td>\n",
       "      <td>2004</td>\n",
       "      <td>auto</td>\n",
       "      <td>75</td>\n",
       "      <td>twingo</td>\n",
       "      <td>150000</td>\n",
       "      <td>petrol</td>\n",
       "      <td>renault</td>\n",
       "      <td>no</td>\n",
       "    </tr>\n",
       "    <tr>\n",
       "      <th>18</th>\n",
       "      <td>7550</td>\n",
       "      <td>bus</td>\n",
       "      <td>2007</td>\n",
       "      <td>manual</td>\n",
       "      <td>136</td>\n",
       "      <td>c_max</td>\n",
       "      <td>150000</td>\n",
       "      <td>gasoline</td>\n",
       "      <td>ford</td>\n",
       "      <td>no</td>\n",
       "    </tr>\n",
       "    <tr>\n",
       "      <th>19</th>\n",
       "      <td>1850</td>\n",
       "      <td>bus</td>\n",
       "      <td>2004</td>\n",
       "      <td>manual</td>\n",
       "      <td>102</td>\n",
       "      <td>a_klasse</td>\n",
       "      <td>150000</td>\n",
       "      <td>petrol</td>\n",
       "      <td>mercedes_benz</td>\n",
       "      <td>no</td>\n",
       "    </tr>\n",
       "  </tbody>\n",
       "</table>\n",
       "</div>"
      ],
      "text/plain": [
       "    Price  VehicleType  RegistrationYear Gearbox  Power     Model  Kilometer  \\\n",
       "0     480          NaN              1993  manual      0      golf     150000   \n",
       "1   18300        coupe              2011  manual    190       NaN     125000   \n",
       "2    9800          suv              2004    auto    163     grand     125000   \n",
       "3    1500        small              2001  manual     75      golf     150000   \n",
       "4    3600        small              2008  manual     69     fabia      90000   \n",
       "5     650        sedan              1995  manual    102       3er     150000   \n",
       "6    2200  convertible              2004  manual    109   2_reihe     150000   \n",
       "7       0        sedan              1980  manual     50     other      40000   \n",
       "8   14500          bus              2014  manual    125     c_max      30000   \n",
       "9     999        small              1998  manual    101      golf     150000   \n",
       "10   2000        sedan              2004  manual    105   3_reihe     150000   \n",
       "11   2799        wagon              2005  manual    140    passat     150000   \n",
       "12    999        wagon              1995  manual    115    passat     150000   \n",
       "13   2500        wagon              2004  manual    131    passat     150000   \n",
       "14  17999          suv              2011  manual    190    navara      70000   \n",
       "15    450        small              1910     NaN      0        ka       5000   \n",
       "16    300          NaN              2016     NaN     60      polo     150000   \n",
       "17   1750        small              2004    auto     75    twingo     150000   \n",
       "18   7550          bus              2007  manual    136     c_max     150000   \n",
       "19   1850          bus              2004  manual    102  a_klasse     150000   \n",
       "\n",
       "    FuelType          Brand NotRepaired  \n",
       "0     petrol     volkswagen         NaN  \n",
       "1   gasoline           audi         yes  \n",
       "2   gasoline           jeep         NaN  \n",
       "3     petrol     volkswagen          no  \n",
       "4   gasoline          skoda          no  \n",
       "5     petrol            bmw         yes  \n",
       "6     petrol        peugeot          no  \n",
       "7     petrol     volkswagen          no  \n",
       "8     petrol           ford         NaN  \n",
       "9        NaN     volkswagen         NaN  \n",
       "10    petrol          mazda          no  \n",
       "11  gasoline     volkswagen         yes  \n",
       "12    petrol     volkswagen         NaN  \n",
       "13       NaN     volkswagen          no  \n",
       "14  gasoline         nissan          no  \n",
       "15    petrol           ford         NaN  \n",
       "16    petrol     volkswagen         NaN  \n",
       "17    petrol        renault          no  \n",
       "18  gasoline           ford          no  \n",
       "19    petrol  mercedes_benz          no  "
      ]
     },
     "metadata": {},
     "output_type": "display_data"
    },
    {
     "name": "stdout",
     "output_type": "stream",
     "text": [
      "<class 'pandas.core.frame.DataFrame'>\n",
      "RangeIndex: 354369 entries, 0 to 354368\n",
      "Data columns (total 10 columns):\n",
      " #   Column            Non-Null Count   Dtype \n",
      "---  ------            --------------   ----- \n",
      " 0   Price             354369 non-null  int64 \n",
      " 1   VehicleType       316879 non-null  object\n",
      " 2   RegistrationYear  354369 non-null  int64 \n",
      " 3   Gearbox           334536 non-null  object\n",
      " 4   Power             354369 non-null  int64 \n",
      " 5   Model             334664 non-null  object\n",
      " 6   Kilometer         354369 non-null  int64 \n",
      " 7   FuelType          321474 non-null  object\n",
      " 8   Brand             354369 non-null  object\n",
      " 9   NotRepaired       283215 non-null  object\n",
      "dtypes: int64(4), object(6)\n",
      "memory usage: 27.0+ MB\n",
      "None\n"
     ]
    }
   ],
   "source": [
    "data = data.drop(['DateCrawled', 'LastSeen', 'PostalCode', 'NumberOfPictures', \n",
    "                  'DateCreated', 'RegistrationMonth'], axis=1)\n",
    "\n",
    "display(data.head(20))\n",
    "print(data.info())"
   ]
  },
  {
   "cell_type": "markdown",
   "id": "93377166",
   "metadata": {},
   "source": [
    "Так-то лучше :) Вопрос вызывает 7-ая строка - с ценой в ноль. Посмотрим, сколько у нас таких записей:"
   ]
  },
  {
   "cell_type": "code",
   "execution_count": 4,
   "id": "9d2e1c69",
   "metadata": {},
   "outputs": [
    {
     "name": "stdout",
     "output_type": "stream",
     "text": [
      "10772\n"
     ]
    }
   ],
   "source": [
    "print(len(data[data['Price'] == 0]))"
   ]
  },
  {
   "cell_type": "markdown",
   "id": "ac47bb09",
   "metadata": {},
   "source": [
    "Вообще не так много, можно было бы и выбросить, цена 0 очень похожа на ошибку... Но возможно, ошибкой не является - запомним, что такое есть, и оставим. И попробуем разобраться с пропусками.\n",
    "\n",
    "Логично предположить, что если данных о ремонте нет, то скорее всего машина в ремонте **не** была, то есть `NotRepaired` - это `yes`. Далее:"
   ]
  },
  {
   "cell_type": "code",
   "execution_count": 5,
   "id": "57f94d36",
   "metadata": {},
   "outputs": [
    {
     "name": "stdout",
     "output_type": "stream",
     "text": [
      "manual    268251\n",
      "auto       66285\n",
      "Name: Gearbox, dtype: int64\n",
      "petrol      216352\n",
      "gasoline     98720\n",
      "lpg           5310\n",
      "cng            565\n",
      "hybrid         233\n",
      "other          204\n",
      "electric        90\n",
      "Name: FuelType, dtype: int64\n"
     ]
    }
   ],
   "source": [
    "print(data['Gearbox'].value_counts())\n",
    "print(data['FuelType'].value_counts())"
   ]
  },
  {
   "cell_type": "markdown",
   "id": "63001ae2",
   "metadata": {},
   "source": [
    "Ручная коробка передач встречается чаще автоматической, её можно взять \"значением по умолчанию\" - как и бензин. "
   ]
  },
  {
   "cell_type": "code",
   "execution_count": 6,
   "id": "26b5c707",
   "metadata": {},
   "outputs": [
    {
     "name": "stdout",
     "output_type": "stream",
     "text": [
      "sedan          91457\n",
      "small          79831\n",
      "wagon          65166\n",
      "bus            28775\n",
      "convertible    20203\n",
      "coupe          16163\n",
      "suv            11996\n",
      "other           3288\n",
      "Name: VehicleType, dtype: int64\n",
      "golf                  29232\n",
      "other                 24421\n",
      "3er                   19761\n",
      "polo                  13066\n",
      "corsa                 12570\n",
      "                      ...  \n",
      "i3                        8\n",
      "serie_3                   4\n",
      "rangerover                4\n",
      "range_rover_evoque        2\n",
      "serie_1                   2\n",
      "Name: Model, Length: 250, dtype: int64\n"
     ]
    }
   ],
   "source": [
    "print(data['VehicleType'].value_counts())\n",
    "print(data['Model'].value_counts())"
   ]
  },
  {
   "cell_type": "markdown",
   "id": "3babd590",
   "metadata": {},
   "source": [
    "С типом кузова и моделью гадать на кофейной гуще как-то вообще глупо, наверное - введём новое значение `NA`, означающее \"не указано\". Это, наверное, создаст определённые проблемы при обучении, но что делать - выкидывать 30к записей жалко."
   ]
  },
  {
   "cell_type": "markdown",
   "id": "a8cad50c",
   "metadata": {},
   "source": [
    "Заполнение вручную реализуем на **копии** сета: "
   ]
  },
  {
   "cell_type": "code",
   "execution_count": 7,
   "id": "d64813f4",
   "metadata": {},
   "outputs": [
    {
     "data": {
      "text/html": [
       "<div>\n",
       "<style scoped>\n",
       "    .dataframe tbody tr th:only-of-type {\n",
       "        vertical-align: middle;\n",
       "    }\n",
       "\n",
       "    .dataframe tbody tr th {\n",
       "        vertical-align: top;\n",
       "    }\n",
       "\n",
       "    .dataframe thead th {\n",
       "        text-align: right;\n",
       "    }\n",
       "</style>\n",
       "<table border=\"1\" class=\"dataframe\">\n",
       "  <thead>\n",
       "    <tr style=\"text-align: right;\">\n",
       "      <th></th>\n",
       "      <th>Price</th>\n",
       "      <th>VehicleType</th>\n",
       "      <th>RegistrationYear</th>\n",
       "      <th>Gearbox</th>\n",
       "      <th>Power</th>\n",
       "      <th>Model</th>\n",
       "      <th>Kilometer</th>\n",
       "      <th>FuelType</th>\n",
       "      <th>Brand</th>\n",
       "      <th>NotRepaired</th>\n",
       "    </tr>\n",
       "  </thead>\n",
       "  <tbody>\n",
       "    <tr>\n",
       "      <th>0</th>\n",
       "      <td>480</td>\n",
       "      <td>NA</td>\n",
       "      <td>1993</td>\n",
       "      <td>manual</td>\n",
       "      <td>0</td>\n",
       "      <td>golf</td>\n",
       "      <td>150000</td>\n",
       "      <td>petrol</td>\n",
       "      <td>volkswagen</td>\n",
       "      <td>yes</td>\n",
       "    </tr>\n",
       "    <tr>\n",
       "      <th>1</th>\n",
       "      <td>18300</td>\n",
       "      <td>coupe</td>\n",
       "      <td>2011</td>\n",
       "      <td>manual</td>\n",
       "      <td>190</td>\n",
       "      <td>NA</td>\n",
       "      <td>125000</td>\n",
       "      <td>gasoline</td>\n",
       "      <td>audi</td>\n",
       "      <td>yes</td>\n",
       "    </tr>\n",
       "    <tr>\n",
       "      <th>2</th>\n",
       "      <td>9800</td>\n",
       "      <td>suv</td>\n",
       "      <td>2004</td>\n",
       "      <td>auto</td>\n",
       "      <td>163</td>\n",
       "      <td>grand</td>\n",
       "      <td>125000</td>\n",
       "      <td>gasoline</td>\n",
       "      <td>jeep</td>\n",
       "      <td>yes</td>\n",
       "    </tr>\n",
       "    <tr>\n",
       "      <th>3</th>\n",
       "      <td>1500</td>\n",
       "      <td>small</td>\n",
       "      <td>2001</td>\n",
       "      <td>manual</td>\n",
       "      <td>75</td>\n",
       "      <td>golf</td>\n",
       "      <td>150000</td>\n",
       "      <td>petrol</td>\n",
       "      <td>volkswagen</td>\n",
       "      <td>no</td>\n",
       "    </tr>\n",
       "    <tr>\n",
       "      <th>4</th>\n",
       "      <td>3600</td>\n",
       "      <td>small</td>\n",
       "      <td>2008</td>\n",
       "      <td>manual</td>\n",
       "      <td>69</td>\n",
       "      <td>fabia</td>\n",
       "      <td>90000</td>\n",
       "      <td>gasoline</td>\n",
       "      <td>skoda</td>\n",
       "      <td>no</td>\n",
       "    </tr>\n",
       "    <tr>\n",
       "      <th>5</th>\n",
       "      <td>650</td>\n",
       "      <td>sedan</td>\n",
       "      <td>1995</td>\n",
       "      <td>manual</td>\n",
       "      <td>102</td>\n",
       "      <td>3er</td>\n",
       "      <td>150000</td>\n",
       "      <td>petrol</td>\n",
       "      <td>bmw</td>\n",
       "      <td>yes</td>\n",
       "    </tr>\n",
       "    <tr>\n",
       "      <th>6</th>\n",
       "      <td>2200</td>\n",
       "      <td>convertible</td>\n",
       "      <td>2004</td>\n",
       "      <td>manual</td>\n",
       "      <td>109</td>\n",
       "      <td>2_reihe</td>\n",
       "      <td>150000</td>\n",
       "      <td>petrol</td>\n",
       "      <td>peugeot</td>\n",
       "      <td>no</td>\n",
       "    </tr>\n",
       "    <tr>\n",
       "      <th>7</th>\n",
       "      <td>0</td>\n",
       "      <td>sedan</td>\n",
       "      <td>1980</td>\n",
       "      <td>manual</td>\n",
       "      <td>50</td>\n",
       "      <td>other</td>\n",
       "      <td>40000</td>\n",
       "      <td>petrol</td>\n",
       "      <td>volkswagen</td>\n",
       "      <td>no</td>\n",
       "    </tr>\n",
       "    <tr>\n",
       "      <th>8</th>\n",
       "      <td>14500</td>\n",
       "      <td>bus</td>\n",
       "      <td>2014</td>\n",
       "      <td>manual</td>\n",
       "      <td>125</td>\n",
       "      <td>c_max</td>\n",
       "      <td>30000</td>\n",
       "      <td>petrol</td>\n",
       "      <td>ford</td>\n",
       "      <td>yes</td>\n",
       "    </tr>\n",
       "    <tr>\n",
       "      <th>9</th>\n",
       "      <td>999</td>\n",
       "      <td>small</td>\n",
       "      <td>1998</td>\n",
       "      <td>manual</td>\n",
       "      <td>101</td>\n",
       "      <td>golf</td>\n",
       "      <td>150000</td>\n",
       "      <td>petrol</td>\n",
       "      <td>volkswagen</td>\n",
       "      <td>yes</td>\n",
       "    </tr>\n",
       "    <tr>\n",
       "      <th>10</th>\n",
       "      <td>2000</td>\n",
       "      <td>sedan</td>\n",
       "      <td>2004</td>\n",
       "      <td>manual</td>\n",
       "      <td>105</td>\n",
       "      <td>3_reihe</td>\n",
       "      <td>150000</td>\n",
       "      <td>petrol</td>\n",
       "      <td>mazda</td>\n",
       "      <td>no</td>\n",
       "    </tr>\n",
       "    <tr>\n",
       "      <th>11</th>\n",
       "      <td>2799</td>\n",
       "      <td>wagon</td>\n",
       "      <td>2005</td>\n",
       "      <td>manual</td>\n",
       "      <td>140</td>\n",
       "      <td>passat</td>\n",
       "      <td>150000</td>\n",
       "      <td>gasoline</td>\n",
       "      <td>volkswagen</td>\n",
       "      <td>yes</td>\n",
       "    </tr>\n",
       "    <tr>\n",
       "      <th>12</th>\n",
       "      <td>999</td>\n",
       "      <td>wagon</td>\n",
       "      <td>1995</td>\n",
       "      <td>manual</td>\n",
       "      <td>115</td>\n",
       "      <td>passat</td>\n",
       "      <td>150000</td>\n",
       "      <td>petrol</td>\n",
       "      <td>volkswagen</td>\n",
       "      <td>yes</td>\n",
       "    </tr>\n",
       "    <tr>\n",
       "      <th>13</th>\n",
       "      <td>2500</td>\n",
       "      <td>wagon</td>\n",
       "      <td>2004</td>\n",
       "      <td>manual</td>\n",
       "      <td>131</td>\n",
       "      <td>passat</td>\n",
       "      <td>150000</td>\n",
       "      <td>petrol</td>\n",
       "      <td>volkswagen</td>\n",
       "      <td>no</td>\n",
       "    </tr>\n",
       "    <tr>\n",
       "      <th>14</th>\n",
       "      <td>17999</td>\n",
       "      <td>suv</td>\n",
       "      <td>2011</td>\n",
       "      <td>manual</td>\n",
       "      <td>190</td>\n",
       "      <td>navara</td>\n",
       "      <td>70000</td>\n",
       "      <td>gasoline</td>\n",
       "      <td>nissan</td>\n",
       "      <td>no</td>\n",
       "    </tr>\n",
       "    <tr>\n",
       "      <th>15</th>\n",
       "      <td>450</td>\n",
       "      <td>small</td>\n",
       "      <td>1910</td>\n",
       "      <td>manual</td>\n",
       "      <td>0</td>\n",
       "      <td>ka</td>\n",
       "      <td>5000</td>\n",
       "      <td>petrol</td>\n",
       "      <td>ford</td>\n",
       "      <td>yes</td>\n",
       "    </tr>\n",
       "    <tr>\n",
       "      <th>16</th>\n",
       "      <td>300</td>\n",
       "      <td>NA</td>\n",
       "      <td>2016</td>\n",
       "      <td>manual</td>\n",
       "      <td>60</td>\n",
       "      <td>polo</td>\n",
       "      <td>150000</td>\n",
       "      <td>petrol</td>\n",
       "      <td>volkswagen</td>\n",
       "      <td>yes</td>\n",
       "    </tr>\n",
       "    <tr>\n",
       "      <th>17</th>\n",
       "      <td>1750</td>\n",
       "      <td>small</td>\n",
       "      <td>2004</td>\n",
       "      <td>auto</td>\n",
       "      <td>75</td>\n",
       "      <td>twingo</td>\n",
       "      <td>150000</td>\n",
       "      <td>petrol</td>\n",
       "      <td>renault</td>\n",
       "      <td>no</td>\n",
       "    </tr>\n",
       "    <tr>\n",
       "      <th>18</th>\n",
       "      <td>7550</td>\n",
       "      <td>bus</td>\n",
       "      <td>2007</td>\n",
       "      <td>manual</td>\n",
       "      <td>136</td>\n",
       "      <td>c_max</td>\n",
       "      <td>150000</td>\n",
       "      <td>gasoline</td>\n",
       "      <td>ford</td>\n",
       "      <td>no</td>\n",
       "    </tr>\n",
       "    <tr>\n",
       "      <th>19</th>\n",
       "      <td>1850</td>\n",
       "      <td>bus</td>\n",
       "      <td>2004</td>\n",
       "      <td>manual</td>\n",
       "      <td>102</td>\n",
       "      <td>a_klasse</td>\n",
       "      <td>150000</td>\n",
       "      <td>petrol</td>\n",
       "      <td>mercedes_benz</td>\n",
       "      <td>no</td>\n",
       "    </tr>\n",
       "  </tbody>\n",
       "</table>\n",
       "</div>"
      ],
      "text/plain": [
       "    Price  VehicleType  RegistrationYear Gearbox  Power     Model  Kilometer  \\\n",
       "0     480           NA              1993  manual      0      golf     150000   \n",
       "1   18300        coupe              2011  manual    190        NA     125000   \n",
       "2    9800          suv              2004    auto    163     grand     125000   \n",
       "3    1500        small              2001  manual     75      golf     150000   \n",
       "4    3600        small              2008  manual     69     fabia      90000   \n",
       "5     650        sedan              1995  manual    102       3er     150000   \n",
       "6    2200  convertible              2004  manual    109   2_reihe     150000   \n",
       "7       0        sedan              1980  manual     50     other      40000   \n",
       "8   14500          bus              2014  manual    125     c_max      30000   \n",
       "9     999        small              1998  manual    101      golf     150000   \n",
       "10   2000        sedan              2004  manual    105   3_reihe     150000   \n",
       "11   2799        wagon              2005  manual    140    passat     150000   \n",
       "12    999        wagon              1995  manual    115    passat     150000   \n",
       "13   2500        wagon              2004  manual    131    passat     150000   \n",
       "14  17999          suv              2011  manual    190    navara      70000   \n",
       "15    450        small              1910  manual      0        ka       5000   \n",
       "16    300           NA              2016  manual     60      polo     150000   \n",
       "17   1750        small              2004    auto     75    twingo     150000   \n",
       "18   7550          bus              2007  manual    136     c_max     150000   \n",
       "19   1850          bus              2004  manual    102  a_klasse     150000   \n",
       "\n",
       "    FuelType          Brand NotRepaired  \n",
       "0     petrol     volkswagen         yes  \n",
       "1   gasoline           audi         yes  \n",
       "2   gasoline           jeep         yes  \n",
       "3     petrol     volkswagen          no  \n",
       "4   gasoline          skoda          no  \n",
       "5     petrol            bmw         yes  \n",
       "6     petrol        peugeot          no  \n",
       "7     petrol     volkswagen          no  \n",
       "8     petrol           ford         yes  \n",
       "9     petrol     volkswagen         yes  \n",
       "10    petrol          mazda          no  \n",
       "11  gasoline     volkswagen         yes  \n",
       "12    petrol     volkswagen         yes  \n",
       "13    petrol     volkswagen          no  \n",
       "14  gasoline         nissan          no  \n",
       "15    petrol           ford         yes  \n",
       "16    petrol     volkswagen         yes  \n",
       "17    petrol        renault          no  \n",
       "18  gasoline           ford          no  \n",
       "19    petrol  mercedes_benz          no  "
      ]
     },
     "metadata": {},
     "output_type": "display_data"
    },
    {
     "name": "stdout",
     "output_type": "stream",
     "text": [
      "<class 'pandas.core.frame.DataFrame'>\n",
      "RangeIndex: 354369 entries, 0 to 354368\n",
      "Data columns (total 10 columns):\n",
      " #   Column            Non-Null Count   Dtype \n",
      "---  ------            --------------   ----- \n",
      " 0   Price             354369 non-null  int64 \n",
      " 1   VehicleType       354369 non-null  object\n",
      " 2   RegistrationYear  354369 non-null  int64 \n",
      " 3   Gearbox           354369 non-null  object\n",
      " 4   Power             354369 non-null  int64 \n",
      " 5   Model             354369 non-null  object\n",
      " 6   Kilometer         354369 non-null  int64 \n",
      " 7   FuelType          354369 non-null  object\n",
      " 8   Brand             354369 non-null  object\n",
      " 9   NotRepaired       354369 non-null  object\n",
      "dtypes: int64(4), object(6)\n",
      "memory usage: 27.0+ MB\n",
      "None\n"
     ]
    }
   ],
   "source": [
    "data_manual = data.copy()\n",
    "\n",
    "data_manual['Gearbox'] = data_manual['Gearbox'].fillna('manual')\n",
    "data_manual['FuelType'] = data_manual['FuelType'].fillna('petrol')\n",
    "data_manual['NotRepaired'] = data_manual['NotRepaired'].fillna('yes')\n",
    "data_manual['VehicleType'] = data_manual['VehicleType'].fillna('NA')\n",
    "data_manual['Model'] = data_manual['Model'].fillna('NA')\n",
    "\n",
    "display(data_manual.head(20))\n",
    "print(data_manual.info())"
   ]
  },
  {
   "cell_type": "markdown",
   "id": "3fc2247d",
   "metadata": {},
   "source": [
    "Замечательно - как и то, что проблема с неправильными типами решилась сама собой, их больше нет. Запомним, что здесь у нас численное, а что - категориальное (OHE будет сделано дальше в пайплайне):"
   ]
  },
  {
   "cell_type": "code",
   "execution_count": 8,
   "id": "55a846e3",
   "metadata": {},
   "outputs": [],
   "source": [
    "numeric_manual = ['RegistrationYear', 'Power', 'Kilometer']\n",
    "categorial_manual = ['VehicleType', 'Gearbox', 'Model', 'FuelType', 'Brand', 'NotRepaired']"
   ]
  },
  {
   "cell_type": "markdown",
   "id": "98f5eb51",
   "metadata": {},
   "source": [
    "Разделим на признаки и целевой:"
   ]
  },
  {
   "cell_type": "code",
   "execution_count": 9,
   "id": "2df0392b",
   "metadata": {},
   "outputs": [],
   "source": [
    "features = data_manual.drop(['Price'], axis=1)\n",
    "target = data_manual['Price']"
   ]
  },
  {
   "cell_type": "markdown",
   "id": "cad6bb02",
   "metadata": {},
   "source": [
    "И определимся с точкой отсчёта."
   ]
  },
  {
   "cell_type": "markdown",
   "id": "22fe7c6f",
   "metadata": {},
   "source": [
    "## <center>\"Тупая\" модель</center>"
   ]
  },
  {
   "cell_type": "markdown",
   "id": "6a081fce",
   "metadata": {},
   "source": [
    "Создадим два пайплайна: предобработку, которая пригодится нам и в дальнейшем, и реализацию тупой модели. Предобработка:"
   ]
  },
  {
   "cell_type": "code",
   "execution_count": 10,
   "id": "90d0b8ab",
   "metadata": {},
   "outputs": [],
   "source": [
    "numeric_transformer = StandardScaler()\n",
    "categorical_transformer = OneHotEncoder(handle_unknown='ignore')\n",
    "\n",
    "preprocessor = ColumnTransformer(\n",
    "    transformers=[\n",
    "        ('num', numeric_transformer, numeric_manual),\n",
    "        ('cat', categorical_transformer, categorial_manual)])"
   ]
  },
  {
   "cell_type": "markdown",
   "id": "03c4445c",
   "metadata": {},
   "source": [
    "\"Тупая\" модель:"
   ]
  },
  {
   "cell_type": "code",
   "execution_count": 11,
   "id": "df3e480e",
   "metadata": {},
   "outputs": [
    {
     "name": "stdout",
     "output_type": "stream",
     "text": [
      "RMSE, медиана: обучающая -  4817.5782; тестовая -  4877.1056\n"
     ]
    }
   ],
   "source": [
    "X_train, X_test, y_train, y_test = train_test_split(features, target, test_size=0.2, random_state=42) \n",
    "\n",
    "dummy_pipeline = make_pipeline(preprocessor, DummyRegressor(strategy='median'))\n",
    "dummy_pipeline.fit(X_train, y_train)\n",
    "predicted_train = dummy_pipeline.predict(X_train)\n",
    "predicted_test = dummy_pipeline.predict(X_test)\n",
    "\n",
    "dummy_rmse_train = mean_squared_error(y_train, predicted_train) ** 0.5\n",
    "dummy_rmse_test = mean_squared_error(y_test, predicted_test) ** 0.5\n",
    "print(f'RMSE, медиана: обучающая - {dummy_rmse_train: .4f}; тестовая - {dummy_rmse_test: .4f}')"
   ]
  },
  {
   "cell_type": "code",
   "execution_count": 12,
   "id": "95945c32",
   "metadata": {},
   "outputs": [
    {
     "name": "stdout",
     "output_type": "stream",
     "text": [
      "RMSE, среднее: обучающая -  4505.0852; тестовая -  4550.2920\n"
     ]
    }
   ],
   "source": [
    "dummy_pipeline = make_pipeline(preprocessor, DummyRegressor(strategy='mean'))\n",
    "dummy_pipeline.fit(X_train, y_train)\n",
    "predicted_train = dummy_pipeline.predict(X_train)\n",
    "predicted_test = dummy_pipeline.predict(X_test)\n",
    "\n",
    "dummy_rmse_train = mean_squared_error(y_train, predicted_train) ** 0.5\n",
    "dummy_rmse_test = mean_squared_error(y_test, predicted_test) ** 0.5\n",
    "print(f'RMSE, среднее: обучающая - {dummy_rmse_train: .4f}; тестовая - {dummy_rmse_test: .4f}')"
   ]
  },
  {
   "cell_type": "markdown",
   "id": "8e2484a8",
   "metadata": {},
   "source": [
    "Точка отсчёта ясна, попробуем сделать лучше."
   ]
  },
  {
   "cell_type": "markdown",
   "id": "e6173aa2",
   "metadata": {},
   "source": [
    "## <center>Модели sklearn</center>"
   ]
  },
  {
   "cell_type": "markdown",
   "id": "d43ae694",
   "metadata": {},
   "source": [
    "### <center>Линейная регрессия</center>"
   ]
  },
  {
   "cell_type": "markdown",
   "id": "7d251237",
   "metadata": {},
   "source": [
    "Начнём с самой обычной линейной регрессии:"
   ]
  },
  {
   "cell_type": "code",
   "execution_count": 13,
   "id": "e8fe030c",
   "metadata": {},
   "outputs": [],
   "source": [
    "lr_pipeline = make_pipeline(preprocessor, LinearRegression())"
   ]
  },
  {
   "cell_type": "code",
   "execution_count": 14,
   "id": "c43073fa",
   "metadata": {},
   "outputs": [
    {
     "name": "stdout",
     "output_type": "stream",
     "text": [
      "Wall time: 6.57 s\n"
     ]
    },
    {
     "data": {
      "text/plain": [
       "Pipeline(steps=[('columntransformer',\n",
       "                 ColumnTransformer(transformers=[('num', StandardScaler(),\n",
       "                                                  ['RegistrationYear', 'Power',\n",
       "                                                   'Kilometer']),\n",
       "                                                 ('cat',\n",
       "                                                  OneHotEncoder(handle_unknown='ignore'),\n",
       "                                                  ['VehicleType', 'Gearbox',\n",
       "                                                   'Model', 'FuelType', 'Brand',\n",
       "                                                   'NotRepaired'])])),\n",
       "                ('linearregression', LinearRegression())])"
      ]
     },
     "execution_count": 14,
     "metadata": {},
     "output_type": "execute_result"
    }
   ],
   "source": [
    "%%time\n",
    "lr_pipeline.fit(X_train, y_train)"
   ]
  },
  {
   "cell_type": "code",
   "execution_count": 15,
   "id": "07c57518",
   "metadata": {},
   "outputs": [
    {
     "name": "stdout",
     "output_type": "stream",
     "text": [
      "Wall time: 479 ms\n"
     ]
    }
   ],
   "source": [
    "%%time\n",
    "predicted_train = lr_pipeline.predict(X_train)"
   ]
  },
  {
   "cell_type": "code",
   "execution_count": 16,
   "id": "cc928a1c",
   "metadata": {},
   "outputs": [
    {
     "name": "stdout",
     "output_type": "stream",
     "text": [
      "Wall time: 116 ms\n"
     ]
    }
   ],
   "source": [
    "%%time\n",
    "predicted_test = lr_pipeline.predict(X_test)"
   ]
  },
  {
   "cell_type": "code",
   "execution_count": 17,
   "id": "b1c1c60a",
   "metadata": {},
   "outputs": [
    {
     "name": "stdout",
     "output_type": "stream",
     "text": [
      "RMSE: обучающая -  3168.6234; тестовая -  3226.1512\n"
     ]
    }
   ],
   "source": [
    "lr_rmse_train = mean_squared_error(y_train, predicted_train) ** 0.5\n",
    "lr_rmse_test = mean_squared_error(y_test, predicted_test) ** 0.5\n",
    "print(f'RMSE: обучающая - {lr_rmse_train: .4f}; тестовая - {lr_rmse_test: .4f}')"
   ]
  },
  {
   "cell_type": "markdown",
   "id": "8f9865fe",
   "metadata": {},
   "source": [
    "Не очень качественно, зато быстро: локально `Wall time` обучения - 6.89 s, а предсказания - 475 ms."
   ]
  },
  {
   "cell_type": "markdown",
   "id": "7ac7ff0e",
   "metadata": {},
   "source": [
    "## <center>Дерево решений</center>"
   ]
  },
  {
   "cell_type": "markdown",
   "id": "7287950f",
   "metadata": {},
   "source": [
    "Посмотрим, как справится дерево. Здесь уже будем производить поиск по сетке и без функции RMSE не обойтись:"
   ]
  },
  {
   "cell_type": "code",
   "execution_count": 18,
   "id": "c7ebbe97",
   "metadata": {},
   "outputs": [],
   "source": [
    "def rmse_score(y_true, y_predicted):\n",
    "    temp = (y_true - y_predicted) ** 2\n",
    "    return (temp.sum() / len(y_true)) ** 0.5"
   ]
  },
  {
   "cell_type": "code",
   "execution_count": 19,
   "id": "ea04207d",
   "metadata": {},
   "outputs": [],
   "source": [
    "#прогон долгий, поэтому код закомменчен :)\n",
    "\n",
    "#tree_pipeline = Pipeline(steps=[('prep', preprocessor), \n",
    "#                                ('est', DecisionTreeRegressor(random_state=42))])\n",
    "#tree_param = {'est__max_depth': [2, 3, 4, 5, 6, 7, 8, 9, 10]}\n",
    "#\n",
    "#gs_tree = GridSearchCV(tree_pipeline,\n",
    "#                      param_grid=tree_param,\n",
    "#                      scoring=make_scorer(rmse_score, greater_is_better=False),\n",
    "#                      cv=5, verbose=0)\n",
    "#gs_tree.fit(X_train, y_train)\n",
    "\n",
    "#print(gs_tree.best_score_)\n",
    "#print(gs_tree.best_params_)"
   ]
  },
  {
   "cell_type": "markdown",
   "id": "9cb745e4",
   "metadata": {},
   "source": [
    "`-2124.649080071005\n",
    "{'est__max_depth': 10}`. Максимум в 10, поэтому смотрим дальше:"
   ]
  },
  {
   "cell_type": "code",
   "execution_count": 20,
   "id": "0c6e1d08",
   "metadata": {},
   "outputs": [],
   "source": [
    "#tree_param = {'est__max_depth': [11, 12, 13, 14, 15, 16, 17, 18, 19, 20]}\n",
    "\n",
    "#gs_tree = GridSearchCV(tree_pipeline,\n",
    "#                      param_grid=tree_param,\n",
    "#                      scoring=make_scorer(rmse_score, greater_is_better=False),\n",
    "#                      cv=5, verbose=0)\n",
    "#gs_tree.fit(X_train, y_train)\n",
    "\n",
    "#print(gs_tree.best_score_)\n",
    "#print(gs_tree.best_params_)"
   ]
  },
  {
   "cell_type": "markdown",
   "id": "2e496e11",
   "metadata": {},
   "source": [
    "Результат: `-2032.0784768324706\n",
    "{'est__max_depth': 15}`. То есть дерево с глубиной 15 - посмотрим, как оно справляется с тестовой выборкой:"
   ]
  },
  {
   "cell_type": "code",
   "execution_count": 21,
   "id": "3b7e77cb",
   "metadata": {},
   "outputs": [],
   "source": [
    "tree_pipeline = Pipeline(steps=[('prep', preprocessor), \n",
    "                                ('est', DecisionTreeRegressor(max_depth=15, random_state=42))])"
   ]
  },
  {
   "cell_type": "code",
   "execution_count": 22,
   "id": "df23d135",
   "metadata": {},
   "outputs": [
    {
     "name": "stdout",
     "output_type": "stream",
     "text": [
      "Wall time: 14.6 s\n"
     ]
    },
    {
     "data": {
      "text/plain": [
       "Pipeline(steps=[('prep',\n",
       "                 ColumnTransformer(transformers=[('num', StandardScaler(),\n",
       "                                                  ['RegistrationYear', 'Power',\n",
       "                                                   'Kilometer']),\n",
       "                                                 ('cat',\n",
       "                                                  OneHotEncoder(handle_unknown='ignore'),\n",
       "                                                  ['VehicleType', 'Gearbox',\n",
       "                                                   'Model', 'FuelType', 'Brand',\n",
       "                                                   'NotRepaired'])])),\n",
       "                ('est', DecisionTreeRegressor(max_depth=15, random_state=42))])"
      ]
     },
     "execution_count": 22,
     "metadata": {},
     "output_type": "execute_result"
    }
   ],
   "source": [
    "%%time\n",
    "tree_pipeline.fit(X_train, y_train)"
   ]
  },
  {
   "cell_type": "code",
   "execution_count": 23,
   "id": "533a27fc",
   "metadata": {},
   "outputs": [
    {
     "name": "stdout",
     "output_type": "stream",
     "text": [
      "Wall time: 132 ms\n"
     ]
    }
   ],
   "source": [
    "%%time\n",
    "predicted_test = tree_pipeline.predict(X_test)"
   ]
  },
  {
   "cell_type": "code",
   "execution_count": 24,
   "id": "c7f94290",
   "metadata": {},
   "outputs": [
    {
     "name": "stdout",
     "output_type": "stream",
     "text": [
      "RMSE тестовая -  2044.9767\n"
     ]
    }
   ],
   "source": [
    "tree_rmse_test = mean_squared_error(y_test, predicted_test) ** 0.5\n",
    "print(f'RMSE тестовая - {tree_rmse_test: .4f}')"
   ]
  },
  {
   "cell_type": "markdown",
   "id": "a5bf2ec2",
   "metadata": {},
   "source": [
    "Со временем обучения здесь всё, конечно, уже хуже: `Wall time` - 12.6 s, предсказание - 128 ms. Однако всё ещё неплохо и результат симпатичнее. Однако \"плюс-минус две тыщи евро\" - это всё же не очень хорошо, попробуем сделать лучше."
   ]
  },
  {
   "cell_type": "markdown",
   "id": "31345af1",
   "metadata": {},
   "source": [
    "### <center>Случайный лес</center>"
   ]
  },
  {
   "cell_type": "markdown",
   "id": "fa5c44b6",
   "metadata": {},
   "source": [
    "Начнём с грубой прикидки:"
   ]
  },
  {
   "cell_type": "code",
   "execution_count": 25,
   "id": "75e27e1a",
   "metadata": {},
   "outputs": [],
   "source": [
    "#forest_pipeline = Pipeline(steps=[('prep', preprocessor), \n",
    "#                                ('est', RandomForestRegressor(random_state=42))])\n",
    "#forest_param = [{'est__max_depth': [5, 10, 15],\n",
    "#              'est__n_estimators': [5, 10, 20]}]\n",
    "\n",
    "#gs_forest = GridSearchCV(forest_pipeline,\n",
    "#                      param_grid=forest_param,\n",
    "#                      scoring=make_scorer(rmse_score, greater_is_better=False),\n",
    "#                      cv=5, verbose=0)\n",
    "#gs_forest.fit(X_train, y_train)\n",
    "\n",
    "#print(gs_forest.best_score_)\n",
    "#print(gs_forest.best_params_)"
   ]
  },
  {
   "cell_type": "markdown",
   "id": "febecd9d",
   "metadata": {},
   "source": [
    "Результат: `-1854.948631257735\n",
    "{'est__max_depth': 15, 'est__n_estimators': 20}`. Чуть получше, чем дерево, увеличим количество деревьев:"
   ]
  },
  {
   "cell_type": "code",
   "execution_count": 26,
   "id": "90111f85",
   "metadata": {},
   "outputs": [],
   "source": [
    "#forest_pipeline = Pipeline(steps=[('prep', preprocessor), \n",
    "#                                ('est', RandomForestRegressor(random_state=42))])\n",
    "#forest_param = [{'est__max_depth': [5, 10, 15],\n",
    "#              'est__n_estimators': [25, 30]}]\n",
    "\n",
    "#gs_forest = GridSearchCV(forest_pipeline,\n",
    "#                      param_grid=forest_param,\n",
    "#                      scoring=make_scorer(rmse_score, greater_is_better=False),\n",
    "#                      cv=5, verbose=0)\n",
    "#gs_forest.fit(X_train, y_train)\n",
    "\n",
    "#print(gs_forest.best_score_)\n",
    "#print(gs_forest.best_params_)"
   ]
  },
  {
   "cell_type": "markdown",
   "id": "8b702ea1",
   "metadata": {},
   "source": [
    "Результат: `-1850.6191146085728\n",
    "{'est__max_depth': 15, 'est__n_estimators': 30}`. Разница совсем не велика, остановимся на 20:"
   ]
  },
  {
   "cell_type": "code",
   "execution_count": 27,
   "id": "f18c4458",
   "metadata": {},
   "outputs": [],
   "source": [
    "forest_pipeline = Pipeline(steps=[('prep', preprocessor), \n",
    "                                ('est', RandomForestRegressor(max_depth=15, n_estimators=20, random_state=42))])"
   ]
  },
  {
   "cell_type": "code",
   "execution_count": 28,
   "id": "b1676ff8",
   "metadata": {},
   "outputs": [],
   "source": [
    "#%%time\n",
    "#forest_pipeline.fit(X_train, y_train)\n",
    "\n",
    "#это три минуты, так что закоммент "
   ]
  },
  {
   "cell_type": "code",
   "execution_count": 29,
   "id": "2c7e41d6",
   "metadata": {},
   "outputs": [],
   "source": [
    "#%%time\n",
    "#predicted_test = forest_pipeline.predict(X_test)"
   ]
  },
  {
   "cell_type": "code",
   "execution_count": 30,
   "id": "d08ae191",
   "metadata": {},
   "outputs": [],
   "source": [
    "#tree_rmse_test = mean_squared_error(y_test, predicted_test) ** 0.5\n",
    "#print(f'RMSE тестовая - {tree_rmse_test: .4f}')"
   ]
  },
  {
   "cell_type": "markdown",
   "id": "5048037c",
   "metadata": {},
   "source": [
    "3 минуты на обучение (`Wall time: 3min 22s`) - это, конечно, грустно, и выигрыш не то чтоб сильно большой: от ~2000 к ~1850 (`RMSE тестовая -  1861.9861`). Что ж, мы сделали всё, что могли - перейдём к градиентному бустингу."
   ]
  },
  {
   "cell_type": "markdown",
   "id": "230ae71f",
   "metadata": {},
   "source": [
    "## <center>LightGBM</center>"
   ]
  },
  {
   "cell_type": "markdown",
   "id": "7eb208b9",
   "metadata": {},
   "source": [
    "Вернёмся к оригинальному датасету - обозначим для бустинга категориальные признаки, и пусть он справляется с ними сам, как хочет:"
   ]
  },
  {
   "cell_type": "code",
   "execution_count": 31,
   "id": "cb4a6d92",
   "metadata": {},
   "outputs": [],
   "source": [
    "for feature in categorial_manual:\n",
    "    data[feature] = pd.Series(data[feature], dtype='category')\n",
    "    \n",
    "features = data.drop(['Price'], axis=1)\n",
    "target = data['Price']\n",
    "    \n",
    "X_train, X_test, y_train, y_test = train_test_split(features, target, test_size=0.2, random_state=42) "
   ]
  },
  {
   "cell_type": "markdown",
   "id": "33941e26",
   "metadata": {},
   "source": [
    "Начнём со 100 деревьев:"
   ]
  },
  {
   "cell_type": "code",
   "execution_count": 32,
   "id": "ff6c290d",
   "metadata": {},
   "outputs": [
    {
     "name": "stdout",
     "output_type": "stream",
     "text": [
      "RMSE; градиентный бустинг:  1790.4564\n"
     ]
    }
   ],
   "source": [
    "model = LGBMRegressor(boosting_type='gbdt', max_depth=15, n_estimators=100, random_state=42)\n",
    "\n",
    "model.fit(X_train, y_train)\n",
    "predicted_test = model.predict(X_test)\n",
    "rmse = rmse_score(predicted_test, y_test)\n",
    "print(f'RMSE; градиентный бустинг: {rmse: .4f}')"
   ]
  },
  {
   "cell_type": "markdown",
   "id": "19bc0b8d",
   "metadata": {},
   "source": [
    "А вот это - хороший результат, причём полученный очень быстро:"
   ]
  },
  {
   "cell_type": "code",
   "execution_count": 33,
   "id": "cbe4d7e4",
   "metadata": {},
   "outputs": [
    {
     "name": "stdout",
     "output_type": "stream",
     "text": [
      "Wall time: 881 ms\n"
     ]
    },
    {
     "data": {
      "text/plain": [
       "LGBMRegressor(max_depth=15, random_state=42)"
      ]
     },
     "execution_count": 33,
     "metadata": {},
     "output_type": "execute_result"
    }
   ],
   "source": [
    "%%time\n",
    "model.fit(X_train, y_train)"
   ]
  },
  {
   "cell_type": "code",
   "execution_count": 34,
   "id": "9b5ae59a",
   "metadata": {},
   "outputs": [
    {
     "name": "stdout",
     "output_type": "stream",
     "text": [
      "Wall time: 250 ms\n"
     ]
    }
   ],
   "source": [
    "%%time\n",
    "predicted_test = model.predict(X_test)"
   ]
  },
  {
   "cell_type": "markdown",
   "id": "76a7ac12",
   "metadata": {},
   "source": [
    "Бустинг справляется меньше, чем за секунду (`Wall time: 850 ms`) - попробуем аккуратно подобрать параметры:"
   ]
  },
  {
   "cell_type": "code",
   "execution_count": 35,
   "id": "06e177cd",
   "metadata": {},
   "outputs": [],
   "source": [
    "#model = LGBMRegressor(boosting_type='gbdt', random_state=42)\n",
    "\n",
    "#params = [{'max_depth': [12, 13, 14, 15, 16, 17],\n",
    "#           'n_estimators': [20, 40, 60, 80, 100, 120, 140, 160, 180, 200], \n",
    "#           'learning_rate': [0.025, 0.05, 0.075, 0.1, 0.15, 0.2, 0.25, 0.3]}]\n",
    "\n",
    "#gs_boost = GridSearchCV(model,\n",
    "#                      param_grid=params,\n",
    "#                      scoring=make_scorer(rmse_score, greater_is_better=False),\n",
    "#                      cv=5, verbose=0)\n",
    "#gs_boost.fit(X_train, y_train)\n",
    "\n",
    "#print(gs_boost.best_score_)\n",
    "#print(gs_boost.best_params_)"
   ]
  },
  {
   "cell_type": "markdown",
   "id": "7eacd0e6",
   "metadata": {},
   "source": [
    "Результат: `-1725.3042835426743\n",
    "{'learning_rate': 0.3, 'max_depth': 17, 'n_estimators': 200}`. Попробуем пойти дальше:"
   ]
  },
  {
   "cell_type": "code",
   "execution_count": 36,
   "id": "75d1cfc5",
   "metadata": {},
   "outputs": [],
   "source": [
    "#model = LGBMRegressor(boosting_type='gbdt', random_state=42)\n",
    "\n",
    "#params = [{'max_depth': [15, 16, 17, 18, 19, 20],\n",
    "#           'n_estimators': [200, 250, 300, 350, 400], \n",
    "#           'learning_rate': [0.2, 0.3, 0.4]}]\n",
    "\n",
    "#gs_boost = GridSearchCV(model,\n",
    "#                      param_grid=params,\n",
    "#                      scoring=make_scorer(rmse_score, greater_is_better=False),\n",
    "#                      cv=5, verbose=0)\n",
    "#gs_boost.fit(X_train, y_train)\n",
    "\n",
    "#print(gs_boost.best_score_)\n",
    "#print(gs_boost.best_params_)"
   ]
  },
  {
   "cell_type": "markdown",
   "id": "e44a0212",
   "metadata": {},
   "source": [
    "Результат: `-1707.3579470552186\n",
    "{'learning_rate': 0.2, 'max_depth': 15, 'n_estimators': 400}`. На самом деле, я бы сказала, что ковырять дальше нет смысла - выигрыш очень небольшой, а деревьев и так уже много. Мы будем увеличивать время работы модели ради почти ничего. Но ради любопытства можно посмотреть и дальше:"
   ]
  },
  {
   "cell_type": "code",
   "execution_count": 37,
   "id": "632ef28d",
   "metadata": {},
   "outputs": [],
   "source": [
    "#model = LGBMRegressor(boosting_type='gbdt', random_state=42)\n",
    "\n",
    "#params = [{'max_depth': [13, 14, 15, 16, 17, 18],\n",
    "#           'n_estimators': [400, 500, 600], \n",
    "#           'learning_rate': [0.1, 0.15, 0.2, 0.3]}]\n",
    "\n",
    "#gs_boost = GridSearchCV(model,\n",
    "#                      param_grid=params,\n",
    "#                      scoring=make_scorer(rmse_score, greater_is_better=False),\n",
    "#                      cv=5, verbose=0)\n",
    "#gs_boost.fit(X_train, y_train)\n",
    "\n",
    "#print(gs_boost.best_score_)\n",
    "#print(gs_boost.best_params_)"
   ]
  },
  {
   "cell_type": "markdown",
   "id": "65bfc3ca",
   "metadata": {},
   "source": [
    "Результат: `-1697.8620878244099\n",
    "{'learning_rate': 0.15, 'max_depth': 17, 'n_estimators': 600}`. Да, разница всё меньше. Остановимся на исходной модели `{'learning_rate': 0.3, 'max_depth': 17, 'n_estimators': 200}`:"
   ]
  },
  {
   "cell_type": "code",
   "execution_count": 38,
   "id": "0bd7b8ad",
   "metadata": {},
   "outputs": [],
   "source": [
    "model = LGBMRegressor(boosting_type='gbdt', max_depth=17, n_estimators=200, learning_rate=0.3, random_state=42)"
   ]
  },
  {
   "cell_type": "code",
   "execution_count": 39,
   "id": "0239f699",
   "metadata": {},
   "outputs": [
    {
     "name": "stdout",
     "output_type": "stream",
     "text": [
      "Wall time: 1.08 s\n"
     ]
    },
    {
     "data": {
      "text/plain": [
       "LGBMRegressor(learning_rate=0.3, max_depth=17, n_estimators=200,\n",
       "              random_state=42)"
      ]
     },
     "execution_count": 39,
     "metadata": {},
     "output_type": "execute_result"
    }
   ],
   "source": [
    "%%time\n",
    "model.fit(X_train, y_train)"
   ]
  },
  {
   "cell_type": "code",
   "execution_count": 40,
   "id": "ca4afbde",
   "metadata": {},
   "outputs": [
    {
     "name": "stdout",
     "output_type": "stream",
     "text": [
      "Wall time: 305 ms\n"
     ]
    }
   ],
   "source": [
    "%%time\n",
    "predicted_test = model.predict(X_test)"
   ]
  },
  {
   "cell_type": "code",
   "execution_count": 41,
   "id": "126b8a60",
   "metadata": {},
   "outputs": [
    {
     "name": "stdout",
     "output_type": "stream",
     "text": [
      "RMSE; градиентный бустинг:  1733.0255\n"
     ]
    }
   ],
   "source": [
    "rmse = rmse_score(predicted_test, y_test)\n",
    "print(f'RMSE; градиентный бустинг: {rmse: .4f}')"
   ]
  },
  {
   "cell_type": "markdown",
   "id": "080a82bb",
   "metadata": {},
   "source": [
    "~1700 при обучении в секунду (`Wall time: 1.16 s`) - это, конечно, сильно, даже линейная регрессия с её ужасным результатом не обучалась так быстро."
   ]
  },
  {
   "cell_type": "markdown",
   "id": "04f05543",
   "metadata": {},
   "source": [
    "## <center>Вывод</center>"
   ]
  },
  {
   "cell_type": "markdown",
   "id": "e5a1c778",
   "metadata": {},
   "source": [
    "Сводная таблица моделей:"
   ]
  },
  {
   "cell_type": "code",
   "execution_count": 42,
   "id": "14b425d0",
   "metadata": {},
   "outputs": [
    {
     "data": {
      "text/html": [
       "<div>\n",
       "<style scoped>\n",
       "    .dataframe tbody tr th:only-of-type {\n",
       "        vertical-align: middle;\n",
       "    }\n",
       "\n",
       "    .dataframe tbody tr th {\n",
       "        vertical-align: top;\n",
       "    }\n",
       "\n",
       "    .dataframe thead th {\n",
       "        text-align: right;\n",
       "    }\n",
       "</style>\n",
       "<table border=\"1\" class=\"dataframe\">\n",
       "  <thead>\n",
       "    <tr style=\"text-align: right;\">\n",
       "      <th></th>\n",
       "      <th>Скорость обучения</th>\n",
       "      <th>Скорость предсказания</th>\n",
       "      <th>Качество</th>\n",
       "    </tr>\n",
       "  </thead>\n",
       "  <tbody>\n",
       "    <tr>\n",
       "      <th>Линейная регрессия (sklearn)</th>\n",
       "      <td>Высокая (6 с)</td>\n",
       "      <td>Высокая (100 мс)</td>\n",
       "      <td>Низкое (3200)</td>\n",
       "    </tr>\n",
       "    <tr>\n",
       "      <th>Дерево решений (sklearn)</th>\n",
       "      <td>Низкая (13 c)</td>\n",
       "      <td>Высокая (140 мс)</td>\n",
       "      <td>Среднее (2050)</td>\n",
       "    </tr>\n",
       "    <tr>\n",
       "      <th>Случайный лес (sklearn)</th>\n",
       "      <td>Очень низкая (3 м)</td>\n",
       "      <td>Средняя (350 мс)</td>\n",
       "      <td>Высокое (1850)</td>\n",
       "    </tr>\n",
       "    <tr>\n",
       "      <th>Градиентный бустинг (LightGBM)</th>\n",
       "      <td>Очень высокая (1 с)</td>\n",
       "      <td>Средняя (300 мс)</td>\n",
       "      <td>Высокое (1750)</td>\n",
       "    </tr>\n",
       "  </tbody>\n",
       "</table>\n",
       "</div>"
      ],
      "text/plain": [
       "                                  Скорость обучения Скорость предсказания  \\\n",
       "Линейная регрессия (sklearn)          Высокая (6 с)      Высокая (100 мс)   \n",
       "Дерево решений (sklearn)              Низкая (13 c)      Высокая (140 мс)   \n",
       "Случайный лес (sklearn)          Очень низкая (3 м)      Средняя (350 мс)   \n",
       "Градиентный бустинг (LightGBM)  Очень высокая (1 с)      Средняя (300 мс)   \n",
       "\n",
       "                                      Качество  \n",
       "Линейная регрессия (sklearn)     Низкое (3200)  \n",
       "Дерево решений (sklearn)        Среднее (2050)  \n",
       "Случайный лес (sklearn)         Высокое (1850)  \n",
       "Градиентный бустинг (LightGBM)  Высокое (1750)  "
      ]
     },
     "metadata": {},
     "output_type": "display_data"
    }
   ],
   "source": [
    "models = {'Линейная регрессия (sklearn)':['Высокая (6 с)', 'Высокая (100 мс)', 'Низкое (3200)'],\n",
    "          'Дерево решений (sklearn)':['Низкая (13 c)', 'Высокая (140 мс)', 'Среднее (2050)'], \n",
    "          'Случайный лес (sklearn)':['Очень низкая (3 м)', 'Средняя (350 мс)', 'Высокое (1850)'],\n",
    "         'Градиентный бустинг (LightGBM)':['Очень высокая (1 с)', 'Средняя (300 мс)', 'Высокое (1750)'],}\n",
    "df_models = pd.DataFrame.from_dict(models, orient='index', \n",
    "                                   columns=['Скорость обучения', 'Скорость предсказания', 'Качество'])\n",
    "\n",
    "display(df_models)"
   ]
  },
  {
   "cell_type": "markdown",
   "id": "1964c255",
   "metadata": {},
   "source": [
    "Бустинг LightGBM выигрывает по всем статьям, кроме скорости предсказания - но, на мой взгляд, это не та разница, ради которой стоит брать дерево и заметно жертвовать точностью и скоростью обучения. Скорость предсказания всё равно не велика, это не минуты и даже не секунды - так что останавливаемся на нём."
   ]
  }
 ],
 "metadata": {
  "kernelspec": {
   "display_name": "Python 3 (ipykernel)",
   "language": "python",
   "name": "python3"
  },
  "language_info": {
   "codemirror_mode": {
    "name": "ipython",
    "version": 3
   },
   "file_extension": ".py",
   "mimetype": "text/x-python",
   "name": "python",
   "nbconvert_exporter": "python",
   "pygments_lexer": "ipython3",
   "version": "3.8.8"
  },
  "toc": {
   "base_numbering": 1,
   "nav_menu": {},
   "number_sections": true,
   "sideBar": true,
   "skip_h1_title": true,
   "title_cell": "Table of Contents",
   "title_sidebar": "Contents",
   "toc_cell": false,
   "toc_position": {},
   "toc_section_display": true,
   "toc_window_display": false
  }
 },
 "nbformat": 4,
 "nbformat_minor": 5
}
