{
 "cells": [
  {
   "cell_type": "markdown",
   "id": "11dba24d",
   "metadata": {},
   "source": [
    "# <center>Предсказание температуры стали</center>\n",
    "\n",
    "**Введение**\n",
    "\n",
    "**Предобработка данных**\n",
    "+ Импорт библиотек и считывание данных\n",
    "+ Целевая переменная и определение количества партий\n",
    "+ Проверка на адекватность\n",
    "+ Составление итогового сета\n",
    "\n",
    "**Проверка на мультиколлинеарность**\n",
    "\n",
    "**\"Тупые\" модели**\n",
    "\n",
    "**Линейная регрессия**\n",
    "\n",
    "**Дерево решений**\n",
    "\n",
    "**Случайный лес**\n",
    "\n",
    "**LightGBM**\n",
    "+ Предварительные подборы\n",
    "+ Финальный подбор\n",
    "+ Важность факторов и удаление ненужных признаков"
   ]
  },
  {
   "cell_type": "markdown",
   "id": "2c790dc3",
   "metadata": {},
   "source": [
    "# <center>Введение</center>"
   ]
  },
  {
   "cell_type": "markdown",
   "id": "633bcbc8",
   "metadata": {},
   "source": [
    "Заказчиком проекта является металлургический комбинат; цель - построение модели, предсказывающей итоговую температуру стали на основе данных по различным этапам процесса, с MAE < 6."
   ]
  },
  {
   "cell_type": "markdown",
   "id": "d664e2f3",
   "metadata": {},
   "source": [
    "# <center>Предобработка данных</center>"
   ]
  },
  {
   "cell_type": "markdown",
   "id": "fa2cb98b",
   "metadata": {},
   "source": [
    "## <center>Импорт библиотек и считывание данных</center>"
   ]
  },
  {
   "cell_type": "markdown",
   "id": "66dca301",
   "metadata": {},
   "source": [
    "Импорт всего, что нам нужно:"
   ]
  },
  {
   "cell_type": "code",
   "execution_count": 1,
   "id": "aef977a4",
   "metadata": {},
   "outputs": [],
   "source": [
    "import pandas as pd\n",
    "import matplotlib.pyplot as plt\n",
    "import seaborn as sns\n",
    "\n",
    "from sklearn.pipeline import make_pipeline, Pipeline\n",
    "from sklearn.preprocessing import StandardScaler\n",
    "from sklearn.model_selection import train_test_split, GridSearchCV, cross_val_score\n",
    "from sklearn.metrics import make_scorer\n",
    "from sklearn.metrics import mean_absolute_error\n",
    "from sklearn.dummy import DummyRegressor\n",
    "from sklearn.linear_model import LinearRegression\n",
    "from sklearn.tree import DecisionTreeRegressor\n",
    "from sklearn.ensemble import RandomForestRegressor\n",
    "\n",
    "#!pip install lightgbm\n",
    "from lightgbm import LGBMRegressor"
   ]
  },
  {
   "cell_type": "markdown",
   "id": "69e67407",
   "metadata": {},
   "source": [
    "Cчитаем данные:"
   ]
  },
  {
   "cell_type": "code",
   "execution_count": 2,
   "id": "5b7a3b3e",
   "metadata": {},
   "outputs": [],
   "source": [
    "data_arc = pd.read_csv('data_arc.csv')\n",
    "data_bulk = pd.read_csv('data_bulk.csv')\n",
    "data_bulk_time = pd.read_csv('data_bulk_time.csv')\n",
    "data_gas = pd.read_csv('data_gas.csv')\n",
    "data_temp = pd.read_csv('data_temp.csv')\n",
    "data_wire = pd.read_csv('data_wire.csv')\n",
    "data_wire_time = pd.read_csv('data_wire_time.csv')"
   ]
  },
  {
   "cell_type": "code",
   "execution_count": 3,
   "id": "951e1a1b",
   "metadata": {},
   "outputs": [
    {
     "name": "stdout",
     "output_type": "stream",
     "text": [
      "   key Начало нагрева дугой  Конец нагрева дугой  Активная мощность  \\\n",
      "0    1  2019-05-03 11:02:14  2019-05-03 11:06:02           0.976059   \n",
      "1    1  2019-05-03 11:07:28  2019-05-03 11:10:33           0.805607   \n",
      "2    1  2019-05-03 11:11:44  2019-05-03 11:14:36           0.744363   \n",
      "3    1  2019-05-03 11:18:14  2019-05-03 11:24:19           1.659363   \n",
      "4    1  2019-05-03 11:26:09  2019-05-03 11:28:37           0.692755   \n",
      "\n",
      "   Реактивная мощность  \n",
      "0             0.687084  \n",
      "1             0.520285  \n",
      "2             0.498805  \n",
      "3             1.062669  \n",
      "4             0.414397  \n",
      "<class 'pandas.core.frame.DataFrame'>\n",
      "RangeIndex: 14876 entries, 0 to 14875\n",
      "Data columns (total 5 columns):\n",
      " #   Column                Non-Null Count  Dtype  \n",
      "---  ------                --------------  -----  \n",
      " 0   key                   14876 non-null  int64  \n",
      " 1   Начало нагрева дугой  14876 non-null  object \n",
      " 2   Конец нагрева дугой   14876 non-null  object \n",
      " 3   Активная мощность     14876 non-null  float64\n",
      " 4   Реактивная мощность   14876 non-null  float64\n",
      "dtypes: float64(2), int64(1), object(2)\n",
      "memory usage: 581.2+ KB\n",
      "None\n"
     ]
    }
   ],
   "source": [
    "print(data_arc.head())\n",
    "print(data_arc.info())"
   ]
  },
  {
   "cell_type": "code",
   "execution_count": 4,
   "id": "6b1e0357",
   "metadata": {},
   "outputs": [
    {
     "name": "stdout",
     "output_type": "stream",
     "text": [
      "   key  Bulk 1  Bulk 2  Bulk 3  Bulk 4  Bulk 5  Bulk 6  Bulk 7  Bulk 8  \\\n",
      "0    1     NaN     NaN     NaN    43.0     NaN     NaN     NaN     NaN   \n",
      "1    2     NaN     NaN     NaN    73.0     NaN     NaN     NaN     NaN   \n",
      "2    3     NaN     NaN     NaN    34.0     NaN     NaN     NaN     NaN   \n",
      "3    4     NaN     NaN     NaN    81.0     NaN     NaN     NaN     NaN   \n",
      "4    5     NaN     NaN     NaN    78.0     NaN     NaN     NaN     NaN   \n",
      "\n",
      "   Bulk 9  Bulk 10  Bulk 11  Bulk 12  Bulk 13  Bulk 14  Bulk 15  \n",
      "0     NaN      NaN      NaN    206.0      NaN    150.0    154.0  \n",
      "1     NaN      NaN      NaN    206.0      NaN    149.0    154.0  \n",
      "2     NaN      NaN      NaN    205.0      NaN    152.0    153.0  \n",
      "3     NaN      NaN      NaN    207.0      NaN    153.0    154.0  \n",
      "4     NaN      NaN      NaN    203.0      NaN    151.0    152.0  \n",
      "<class 'pandas.core.frame.DataFrame'>\n",
      "RangeIndex: 3129 entries, 0 to 3128\n",
      "Data columns (total 16 columns):\n",
      " #   Column   Non-Null Count  Dtype  \n",
      "---  ------   --------------  -----  \n",
      " 0   key      3129 non-null   int64  \n",
      " 1   Bulk 1   252 non-null    float64\n",
      " 2   Bulk 2   22 non-null     float64\n",
      " 3   Bulk 3   1298 non-null   float64\n",
      " 4   Bulk 4   1014 non-null   float64\n",
      " 5   Bulk 5   77 non-null     float64\n",
      " 6   Bulk 6   576 non-null    float64\n",
      " 7   Bulk 7   25 non-null     float64\n",
      " 8   Bulk 8   1 non-null      float64\n",
      " 9   Bulk 9   19 non-null     float64\n",
      " 10  Bulk 10  176 non-null    float64\n",
      " 11  Bulk 11  177 non-null    float64\n",
      " 12  Bulk 12  2450 non-null   float64\n",
      " 13  Bulk 13  18 non-null     float64\n",
      " 14  Bulk 14  2806 non-null   float64\n",
      " 15  Bulk 15  2248 non-null   float64\n",
      "dtypes: float64(15), int64(1)\n",
      "memory usage: 391.2 KB\n",
      "None\n"
     ]
    }
   ],
   "source": [
    "print(data_bulk.head())\n",
    "print(data_bulk.info())"
   ]
  },
  {
   "cell_type": "code",
   "execution_count": 5,
   "id": "a61c40c6",
   "metadata": {},
   "outputs": [
    {
     "name": "stdout",
     "output_type": "stream",
     "text": [
      "   key Bulk 1 Bulk 2 Bulk 3               Bulk 4 Bulk 5 Bulk 6 Bulk 7 Bulk 8  \\\n",
      "0    1    NaN    NaN    NaN  2019-05-03 11:21:30    NaN    NaN    NaN    NaN   \n",
      "1    2    NaN    NaN    NaN  2019-05-03 11:46:38    NaN    NaN    NaN    NaN   \n",
      "2    3    NaN    NaN    NaN  2019-05-03 12:31:06    NaN    NaN    NaN    NaN   \n",
      "3    4    NaN    NaN    NaN  2019-05-03 12:48:43    NaN    NaN    NaN    NaN   \n",
      "4    5    NaN    NaN    NaN  2019-05-03 13:18:50    NaN    NaN    NaN    NaN   \n",
      "\n",
      "  Bulk 9 Bulk 10 Bulk 11              Bulk 12 Bulk 13              Bulk 14  \\\n",
      "0    NaN     NaN     NaN  2019-05-03 11:03:52     NaN  2019-05-03 11:03:52   \n",
      "1    NaN     NaN     NaN  2019-05-03 11:40:20     NaN  2019-05-03 11:40:20   \n",
      "2    NaN     NaN     NaN  2019-05-03 12:09:40     NaN  2019-05-03 12:09:40   \n",
      "3    NaN     NaN     NaN  2019-05-03 12:41:24     NaN  2019-05-03 12:41:24   \n",
      "4    NaN     NaN     NaN  2019-05-03 13:12:56     NaN  2019-05-03 13:12:56   \n",
      "\n",
      "               Bulk 15  \n",
      "0  2019-05-03 11:03:52  \n",
      "1  2019-05-03 11:40:20  \n",
      "2  2019-05-03 12:09:40  \n",
      "3  2019-05-03 12:41:24  \n",
      "4  2019-05-03 13:12:56  \n",
      "<class 'pandas.core.frame.DataFrame'>\n",
      "RangeIndex: 3129 entries, 0 to 3128\n",
      "Data columns (total 16 columns):\n",
      " #   Column   Non-Null Count  Dtype \n",
      "---  ------   --------------  ----- \n",
      " 0   key      3129 non-null   int64 \n",
      " 1   Bulk 1   252 non-null    object\n",
      " 2   Bulk 2   22 non-null     object\n",
      " 3   Bulk 3   1298 non-null   object\n",
      " 4   Bulk 4   1014 non-null   object\n",
      " 5   Bulk 5   77 non-null     object\n",
      " 6   Bulk 6   576 non-null    object\n",
      " 7   Bulk 7   25 non-null     object\n",
      " 8   Bulk 8   1 non-null      object\n",
      " 9   Bulk 9   19 non-null     object\n",
      " 10  Bulk 10  176 non-null    object\n",
      " 11  Bulk 11  177 non-null    object\n",
      " 12  Bulk 12  2450 non-null   object\n",
      " 13  Bulk 13  18 non-null     object\n",
      " 14  Bulk 14  2806 non-null   object\n",
      " 15  Bulk 15  2248 non-null   object\n",
      "dtypes: int64(1), object(15)\n",
      "memory usage: 391.2+ KB\n",
      "None\n"
     ]
    }
   ],
   "source": [
    "print(data_bulk_time.head())\n",
    "print(data_bulk_time.info())"
   ]
  },
  {
   "cell_type": "code",
   "execution_count": 6,
   "id": "13fa9c83",
   "metadata": {},
   "outputs": [
    {
     "name": "stdout",
     "output_type": "stream",
     "text": [
      "   key      Газ 1\n",
      "0    1  29.749986\n",
      "1    2  12.555561\n",
      "2    3  28.554793\n",
      "3    4  18.841219\n",
      "4    5   5.413692\n",
      "<class 'pandas.core.frame.DataFrame'>\n",
      "RangeIndex: 3239 entries, 0 to 3238\n",
      "Data columns (total 2 columns):\n",
      " #   Column  Non-Null Count  Dtype  \n",
      "---  ------  --------------  -----  \n",
      " 0   key     3239 non-null   int64  \n",
      " 1   Газ 1   3239 non-null   float64\n",
      "dtypes: float64(1), int64(1)\n",
      "memory usage: 50.7 KB\n",
      "None\n"
     ]
    }
   ],
   "source": [
    "print(data_gas.head())\n",
    "print(data_gas.info())"
   ]
  },
  {
   "cell_type": "code",
   "execution_count": 7,
   "id": "ebb3b2d7",
   "metadata": {},
   "outputs": [
    {
     "name": "stdout",
     "output_type": "stream",
     "text": [
      "   key         Время замера  Температура\n",
      "0    1  2019-05-03 11:16:18       1571.0\n",
      "1    1  2019-05-03 11:25:53       1604.0\n",
      "2    1  2019-05-03 11:29:11       1618.0\n",
      "3    1  2019-05-03 11:30:01       1601.0\n",
      "4    1  2019-05-03 11:30:39       1613.0\n",
      "<class 'pandas.core.frame.DataFrame'>\n",
      "RangeIndex: 15907 entries, 0 to 15906\n",
      "Data columns (total 3 columns):\n",
      " #   Column        Non-Null Count  Dtype  \n",
      "---  ------        --------------  -----  \n",
      " 0   key           15907 non-null  int64  \n",
      " 1   Время замера  15907 non-null  object \n",
      " 2   Температура   13006 non-null  float64\n",
      "dtypes: float64(1), int64(1), object(1)\n",
      "memory usage: 372.9+ KB\n",
      "None\n"
     ]
    }
   ],
   "source": [
    "print(data_temp.head())\n",
    "print(data_temp.info())"
   ]
  },
  {
   "cell_type": "code",
   "execution_count": 8,
   "id": "aac54719",
   "metadata": {},
   "outputs": [
    {
     "name": "stdout",
     "output_type": "stream",
     "text": [
      "   key     Wire 1   Wire 2  Wire 3  Wire 4  Wire 5  Wire 6  Wire 7  Wire 8  \\\n",
      "0    1  60.059998      NaN     NaN     NaN     NaN     NaN     NaN     NaN   \n",
      "1    2  96.052315      NaN     NaN     NaN     NaN     NaN     NaN     NaN   \n",
      "2    3  91.160157      NaN     NaN     NaN     NaN     NaN     NaN     NaN   \n",
      "3    4  89.063515      NaN     NaN     NaN     NaN     NaN     NaN     NaN   \n",
      "4    5  89.238236  9.11456     NaN     NaN     NaN     NaN     NaN     NaN   \n",
      "\n",
      "   Wire 9  \n",
      "0     NaN  \n",
      "1     NaN  \n",
      "2     NaN  \n",
      "3     NaN  \n",
      "4     NaN  \n",
      "<class 'pandas.core.frame.DataFrame'>\n",
      "RangeIndex: 3081 entries, 0 to 3080\n",
      "Data columns (total 10 columns):\n",
      " #   Column  Non-Null Count  Dtype  \n",
      "---  ------  --------------  -----  \n",
      " 0   key     3081 non-null   int64  \n",
      " 1   Wire 1  3055 non-null   float64\n",
      " 2   Wire 2  1079 non-null   float64\n",
      " 3   Wire 3  63 non-null     float64\n",
      " 4   Wire 4  14 non-null     float64\n",
      " 5   Wire 5  1 non-null      float64\n",
      " 6   Wire 6  73 non-null     float64\n",
      " 7   Wire 7  11 non-null     float64\n",
      " 8   Wire 8  19 non-null     float64\n",
      " 9   Wire 9  29 non-null     float64\n",
      "dtypes: float64(9), int64(1)\n",
      "memory usage: 240.8 KB\n",
      "None\n"
     ]
    }
   ],
   "source": [
    "print(data_wire.head())\n",
    "print(data_wire.info())"
   ]
  },
  {
   "cell_type": "code",
   "execution_count": 9,
   "id": "ee01c6aa",
   "metadata": {},
   "outputs": [
    {
     "name": "stdout",
     "output_type": "stream",
     "text": [
      "   key               Wire 1               Wire 2 Wire 3 Wire 4 Wire 5 Wire 6  \\\n",
      "0    1  2019-05-03 11:11:41                  NaN    NaN    NaN    NaN    NaN   \n",
      "1    2  2019-05-03 11:46:10                  NaN    NaN    NaN    NaN    NaN   \n",
      "2    3  2019-05-03 12:13:47                  NaN    NaN    NaN    NaN    NaN   \n",
      "3    4  2019-05-03 12:48:05                  NaN    NaN    NaN    NaN    NaN   \n",
      "4    5  2019-05-03 13:18:15  2019-05-03 13:32:06    NaN    NaN    NaN    NaN   \n",
      "\n",
      "  Wire 7 Wire 8 Wire 9  \n",
      "0    NaN    NaN    NaN  \n",
      "1    NaN    NaN    NaN  \n",
      "2    NaN    NaN    NaN  \n",
      "3    NaN    NaN    NaN  \n",
      "4    NaN    NaN    NaN  \n",
      "<class 'pandas.core.frame.DataFrame'>\n",
      "RangeIndex: 3081 entries, 0 to 3080\n",
      "Data columns (total 10 columns):\n",
      " #   Column  Non-Null Count  Dtype \n",
      "---  ------  --------------  ----- \n",
      " 0   key     3081 non-null   int64 \n",
      " 1   Wire 1  3055 non-null   object\n",
      " 2   Wire 2  1079 non-null   object\n",
      " 3   Wire 3  63 non-null     object\n",
      " 4   Wire 4  14 non-null     object\n",
      " 5   Wire 5  1 non-null      object\n",
      " 6   Wire 6  73 non-null     object\n",
      " 7   Wire 7  11 non-null     object\n",
      " 8   Wire 8  19 non-null     object\n",
      " 9   Wire 9  29 non-null     object\n",
      "dtypes: int64(1), object(9)\n",
      "memory usage: 240.8+ KB\n",
      "None\n"
     ]
    }
   ],
   "source": [
    "print(data_wire_time.head())\n",
    "print(data_wire_time.info())"
   ]
  },
  {
   "cell_type": "markdown",
   "id": "c4f63b76",
   "metadata": {},
   "source": [
    "Всё считалось, но дыр множество, с типами проблемами, ничего не ясно - будем разбираться по порядку."
   ]
  },
  {
   "cell_type": "markdown",
   "id": "58ec1a60",
   "metadata": {},
   "source": [
    "## <center>Целевая переменная и определение количества партий</center>"
   ]
  },
  {
   "cell_type": "markdown",
   "id": "c470591a",
   "metadata": {},
   "source": [
    "Сделаем неожиданную вещь: сначала чуть внимательнее посмотрим на **газ**:"
   ]
  },
  {
   "cell_type": "code",
   "execution_count": 10,
   "id": "e40381fd",
   "metadata": {},
   "outputs": [
    {
     "name": "stdout",
     "output_type": "stream",
     "text": [
      "   key      Газ 1\n",
      "0    1  29.749986\n",
      "1    2  12.555561\n",
      "2    3  28.554793\n",
      "3    4  18.841219\n",
      "4    5   5.413692\n",
      "       key      Газ 1\n",
      "3234  3237   5.543905\n",
      "3235  3238   6.745669\n",
      "3236  3239  16.023518\n",
      "3237  3240  11.863103\n",
      "3238  3241  12.680959\n"
     ]
    }
   ],
   "source": [
    "print(data_gas.head())\n",
    "print(data_gas.tail())"
   ]
  },
  {
   "cell_type": "markdown",
   "id": "ce4300bb",
   "metadata": {},
   "source": [
    "Последний ключ - 3241, запомним это число. И посмотрим на конец `arc`:"
   ]
  },
  {
   "cell_type": "code",
   "execution_count": 11,
   "id": "0ab1a3b0",
   "metadata": {},
   "outputs": [
    {
     "name": "stdout",
     "output_type": "stream",
     "text": [
      "        key Начало нагрева дугой  Конец нагрева дугой  Активная мощность  \\\n",
      "14871  3241  2019-09-01 03:58:58  2019-09-01 04:01:35           0.533670   \n",
      "14872  3241  2019-09-01 04:05:04  2019-09-01 04:08:04           0.676604   \n",
      "14873  3241  2019-09-01 04:16:41  2019-09-01 04:19:45           0.733899   \n",
      "14874  3241  2019-09-01 04:31:51  2019-09-01 04:32:48           0.220694   \n",
      "14875  3241  2019-09-01 04:34:47  2019-09-01 04:36:08           0.306580   \n",
      "\n",
      "       Реактивная мощность  \n",
      "14871             0.354439  \n",
      "14872             0.523631  \n",
      "14873             0.475654  \n",
      "14874             0.145768  \n",
      "14875             0.196708  \n"
     ]
    }
   ],
   "source": [
    "print(data_arc.tail())"
   ]
  },
  {
   "cell_type": "markdown",
   "id": "2d7b5e55",
   "metadata": {},
   "source": [
    "Ага - и здесь те же 3241. Наконец внимательнее посмотрим на температуру:"
   ]
  },
  {
   "cell_type": "code",
   "execution_count": 12,
   "id": "723560fa",
   "metadata": {
    "scrolled": true
   },
   "outputs": [
    {
     "name": "stdout",
     "output_type": "stream",
     "text": [
      "    key         Время замера  Температура\n",
      "0     1  2019-05-03 11:16:18       1571.0\n",
      "1     1  2019-05-03 11:25:53       1604.0\n",
      "2     1  2019-05-03 11:29:11       1618.0\n",
      "3     1  2019-05-03 11:30:01       1601.0\n",
      "4     1  2019-05-03 11:30:39       1613.0\n",
      "5     2  2019-05-03 11:37:27       1581.0\n",
      "6     2  2019-05-03 11:38:00       1577.0\n",
      "7     2  2019-05-03 11:49:38       1589.0\n",
      "8     2  2019-05-03 11:55:50       1604.0\n",
      "9     2  2019-05-03 11:58:24       1608.0\n",
      "10    2  2019-05-03 11:59:12       1602.0\n",
      "11    3  2019-05-03 12:13:17       1596.0\n",
      "12    3  2019-05-03 12:18:36       1597.0\n",
      "13    3  2019-05-03 12:25:06       1598.0\n",
      "14    3  2019-05-03 12:30:48       1599.0\n",
      "15    3  2019-05-03 12:34:57       1599.0\n",
      "16    4  2019-05-03 12:52:57       1601.0\n",
      "17    4  2019-05-03 12:58:43       1623.0\n",
      "18    4  2019-05-03 12:59:25       1625.0\n",
      "19    5  2019-05-03 13:23:19       1576.0\n",
      "20    5  2019-05-03 13:36:01       1602.0\n",
      "21    6  2019-05-03 13:49:24       1543.0\n",
      "22    6  2019-05-03 14:04:31       1581.0\n",
      "23    6  2019-05-03 14:11:11       1600.0\n",
      "24    6  2019-05-03 14:11:50       1600.0\n",
      "25    6  2019-05-03 14:12:29       1596.0\n",
      "26    7  2019-05-03 14:19:43       1586.0\n",
      "27    7  2019-05-03 14:20:19       1582.0\n",
      "28    7  2019-05-03 14:32:07       1599.0\n",
      "29    7  2019-05-03 14:38:48       1595.0\n",
      "        key         Время замера  Температура\n",
      "15887  3239  2019-09-01 01:42:46          NaN\n",
      "15888  3239  2019-09-01 01:48:00          NaN\n",
      "15889  3239  2019-09-01 01:59:27          NaN\n",
      "15890  3239  2019-09-01 02:13:30          NaN\n",
      "15891  3239  2019-09-01 02:22:15          NaN\n",
      "15892  3239  2019-09-01 02:23:02          NaN\n",
      "15893  3239  2019-09-01 02:24:15          NaN\n",
      "15894  3240  2019-09-01 02:39:01       1617.0\n",
      "15895  3240  2019-09-01 02:48:33          NaN\n",
      "15896  3240  2019-09-01 03:03:21          NaN\n",
      "15897  3240  2019-09-01 03:12:19          NaN\n",
      "15898  3240  2019-09-01 03:19:09          NaN\n",
      "15899  3240  2019-09-01 03:31:27          NaN\n",
      "15900  3240  2019-09-01 03:34:31          NaN\n",
      "15901  3240  2019-09-01 03:35:16          NaN\n",
      "15902  3241  2019-09-01 04:03:30       1586.0\n",
      "15903  3241  2019-09-01 04:16:12          NaN\n",
      "15904  3241  2019-09-01 04:22:39          NaN\n",
      "15905  3241  2019-09-01 04:33:42          NaN\n",
      "15906  3241  2019-09-01 04:38:08          NaN\n",
      "<class 'pandas.core.frame.DataFrame'>\n",
      "RangeIndex: 15907 entries, 0 to 15906\n",
      "Data columns (total 3 columns):\n",
      " #   Column        Non-Null Count  Dtype  \n",
      "---  ------        --------------  -----  \n",
      " 0   key           15907 non-null  int64  \n",
      " 1   Время замера  15907 non-null  object \n",
      " 2   Температура   13006 non-null  float64\n",
      "dtypes: float64(1), int64(1), object(1)\n",
      "memory usage: 372.9+ KB\n",
      "None\n"
     ]
    }
   ],
   "source": [
    "print(data_temp.head(30))\n",
    "print(data_temp.tail(20))\n",
    "print(data_temp.info())"
   ]
  },
  {
   "cell_type": "markdown",
   "id": "592aa1df",
   "metadata": {},
   "source": [
    "Итого - мы имеем дело с 3241 партиями, для некоторых из которых отсутствует различная информация. С температурой несколько сложно.\n",
    "\n",
    "Вызывает вопросы ситуация с партией 5: эти два значения - это первое и последнее? Или некие промежуточные, которые нам по итогу не нужны? Сделаем предположение, что первое и последнее, иначе с этим сетом просто невозможно работать. Тогда забьем дыры заглушками \"-1\", означающими, что данных нет, и посмотрим на все первые и последние значения:"
   ]
  },
  {
   "cell_type": "code",
   "execution_count": 13,
   "id": "4e89706d",
   "metadata": {},
   "outputs": [
    {
     "name": "stdout",
     "output_type": "stream",
     "text": [
      "Первые значения:\n",
      "           Время замера  Температура\n",
      "key                                 \n",
      "1   2019-05-03 11:16:18       1571.0\n",
      "2   2019-05-03 11:37:27       1581.0\n",
      "3   2019-05-03 12:13:17       1596.0\n",
      "4   2019-05-03 12:52:57       1601.0\n",
      "5   2019-05-03 13:23:19       1576.0\n",
      "            Время замера  Температура\n",
      "key                                  \n",
      "3237 2019-08-31 22:44:04       1569.0\n",
      "3238 2019-08-31 23:30:31       1584.0\n",
      "3239 2019-09-01 01:31:47       1598.0\n",
      "3240 2019-09-01 02:39:01       1617.0\n",
      "3241 2019-09-01 04:03:30       1586.0\n",
      "<class 'pandas.core.frame.DataFrame'>\n",
      "Int64Index: 3216 entries, 1 to 3241\n",
      "Data columns (total 2 columns):\n",
      " #   Column        Non-Null Count  Dtype         \n",
      "---  ------        --------------  -----         \n",
      " 0   Время замера  3216 non-null   datetime64[ns]\n",
      " 1   Температура   3216 non-null   float64       \n",
      "dtypes: datetime64[ns](1), float64(1)\n",
      "memory usage: 75.4 KB\n",
      "None\n",
      "***\n",
      "Последние значения:\n",
      "           Время замера  Температура\n",
      "key                                 \n",
      "1   2019-05-03 11:30:39       1613.0\n",
      "2   2019-05-03 11:59:12       1602.0\n",
      "3   2019-05-03 12:34:57       1599.0\n",
      "4   2019-05-03 12:59:25       1625.0\n",
      "5   2019-05-03 13:36:01       1602.0\n",
      "            Время замера  Температура\n",
      "key                                  \n",
      "3237 2019-08-31 23:05:43         -1.0\n",
      "3238 2019-08-31 23:43:00         -1.0\n",
      "3239 2019-09-01 02:24:15         -1.0\n",
      "3240 2019-09-01 03:35:16         -1.0\n",
      "3241 2019-09-01 04:38:08         -1.0\n",
      "<class 'pandas.core.frame.DataFrame'>\n",
      "Int64Index: 3216 entries, 1 to 3241\n",
      "Data columns (total 2 columns):\n",
      " #   Column        Non-Null Count  Dtype         \n",
      "---  ------        --------------  -----         \n",
      " 0   Время замера  3216 non-null   datetime64[ns]\n",
      " 1   Температура   3216 non-null   float64       \n",
      "dtypes: datetime64[ns](1), float64(1)\n",
      "memory usage: 75.4 KB\n",
      "None\n"
     ]
    }
   ],
   "source": [
    "data_temp['Время замера'] = pd.to_datetime(data_temp['Время замера'], format='%Y-%m-%d %H:%M:%S')\n",
    "data_temp = data_temp.fillna(-1)\n",
    "\n",
    "temp_start = pd.pivot_table(data_temp, index='key', values=['Время замера', 'Температура'], \n",
    "                            aggfunc='first')\n",
    "print('Первые значения:')\n",
    "print(temp_start.head(5))\n",
    "print(temp_start.tail(5))\n",
    "print(temp_start.info())\n",
    "\n",
    "temp_end = pd.pivot_table(data_temp, index='key', values=['Время замера', 'Температура'], \n",
    "                            aggfunc='last')\n",
    "print('***')\n",
    "print('Последние значения:')\n",
    "print(temp_end.head(5))\n",
    "print(temp_end.tail(5))\n",
    "print(temp_end.info())          "
   ]
  },
  {
   "cell_type": "markdown",
   "id": "b5ce713d",
   "metadata": {},
   "source": [
    "И вот в чём я не вижу смысла совершенно, так это в \"угадывании\" целевой переменной. Да, теоретически можно было бы забить дыры средним, но это ситуация \"сам придумал, потом предсказываешь\", которая мне не очень нравится. Уберём все дыры и посмотрим, сколько данных останется:"
   ]
  },
  {
   "cell_type": "code",
   "execution_count": 14,
   "id": "fedd8bd0",
   "metadata": {},
   "outputs": [
    {
     "name": "stdout",
     "output_type": "stream",
     "text": [
      "            Время замера  Температура\n",
      "key                                  \n",
      "2495 2019-08-06 00:54:42       1591.0\n",
      "2496 2019-08-06 01:29:52       1591.0\n",
      "2497 2019-08-06 01:53:50       1589.0\n",
      "2498 2019-08-06 02:25:31       1594.0\n",
      "2499 2019-08-06 03:00:28       1603.0\n",
      "       Температура\n",
      "count  2477.000000\n",
      "mean   1595.334275\n",
      "std      16.019339\n",
      "min    1541.000000\n",
      "25%    1587.000000\n",
      "50%    1593.000000\n",
      "75%    1599.000000\n",
      "max    1700.000000\n"
     ]
    }
   ],
   "source": [
    "temp_end_values = temp_end[temp_end['Температура'] > 0]\n",
    "\n",
    "print(temp_end_values.tail())\n",
    "print(temp_end_values.describe())"
   ]
  },
  {
   "cell_type": "markdown",
   "id": "a65299c8",
   "metadata": {},
   "source": [
    "Вообще здесь заполнить дыры средним не так уж жмёт; однако 2400+ записей - это достаточно, и я бы сказала, что лучше работать с меньшим числом записей, но быть уверенным в целевом признаке, чем взять больший сет, но у которого четверть - это \"ну скажем, что там было среднее\". \n",
    "\n",
    "Итого - работать будем только с тем, у чего есть целевой признак. И здесь начнём подготовку к будущей проверке на адекватность - начнём создавать множество с номерами партий, которые нам **не** нужны:"
   ]
  },
  {
   "cell_type": "code",
   "execution_count": 15,
   "id": "7e913c05",
   "metadata": {},
   "outputs": [],
   "source": [
    "to_delete = set()\n",
    "for i in range(1, 3242):\n",
    "    to_delete.add(i)\n",
    "    \n",
    "to_delete = to_delete.difference(temp_end_values.index)\n",
    "#print(to_delete) - здесь проверка, последние элементы действительно содержатся в множестве, всё хорошо"
   ]
  },
  {
   "cell_type": "markdown",
   "id": "beef08a5",
   "metadata": {},
   "source": [
    "В дальнейшем мы будем добавлять индексы в это множество и затем удалим всё, что нам по той или иной причине не нужно.\n",
    "\n",
    "Начальную же температуру при необходимости вполне можно заполнить средним, и если потребуется, мы это сделаем - но не сейчас."
   ]
  },
  {
   "cell_type": "markdown",
   "id": "b82d849c",
   "metadata": {},
   "source": [
    "Итого у нас есть целевой признак и начальная температура. Теперь разберёмся с адекватностью."
   ]
  },
  {
   "cell_type": "markdown",
   "id": "b6287505",
   "metadata": {},
   "source": [
    "## <center>Проверка на адекватность</center>"
   ]
  },
  {
   "cell_type": "markdown",
   "id": "fbde4e39",
   "metadata": {},
   "source": [
    "Измерение итоговой температуры должно быть **последним** действием, то есть дата этого измерения должна быть максимальной. Настало время сравнивать даты - начнём с нагрева дугой, где нас интересует только последний конец нагрева дугой:"
   ]
  },
  {
   "cell_type": "code",
   "execution_count": 16,
   "id": "7592c240",
   "metadata": {},
   "outputs": [
    {
     "name": "stdout",
     "output_type": "stream",
     "text": [
      "key\n",
      "1   2019-05-03 11:28:37\n",
      "2   2019-05-03 11:53:18\n",
      "3   2019-05-03 12:32:19\n",
      "4   2019-05-03 12:57:50\n",
      "5   2019-05-03 13:33:55\n",
      "dtype: datetime64[ns]\n",
      "key\n",
      "3237   2019-08-31 23:03:48\n",
      "3238   2019-08-31 23:41:28\n",
      "3239   2019-09-01 02:15:43\n",
      "3240   2019-09-01 03:34:08\n",
      "3241   2019-09-01 04:36:08\n",
      "dtype: datetime64[ns]\n"
     ]
    }
   ],
   "source": [
    "data_arc['Конец нагрева дугой'] = pd.to_datetime(data_arc['Конец нагрева дугой'], format='%Y-%m-%d %H:%M:%S')\n",
    "\n",
    "arc_timestamps = pd.pivot_table(data_arc, index='key', values='Конец нагрева дугой', \n",
    "                            aggfunc='last')\n",
    "arc_timestamps = pd.Series(arc_timestamps['Конец нагрева дугой']).rename()\n",
    "print(arc_timestamps.head())\n",
    "print(arc_timestamps.tail())"
   ]
  },
  {
   "cell_type": "markdown",
   "id": "e3edba36",
   "metadata": {},
   "source": [
    "Всё хорошо, индексы не слетели. Теперь разберёмся с `bulk_time` - заполним дыры датой-заглушкой \"1.1.1900\":"
   ]
  },
  {
   "cell_type": "code",
   "execution_count": 17,
   "id": "fe11659c",
   "metadata": {},
   "outputs": [
    {
     "name": "stdout",
     "output_type": "stream",
     "text": [
      "   key               Bulk 1               Bulk 2               Bulk 3  \\\n",
      "0    1  1990-01-01 00:00:00  1990-01-01 00:00:00  1990-01-01 00:00:00   \n",
      "1    2  1990-01-01 00:00:00  1990-01-01 00:00:00  1990-01-01 00:00:00   \n",
      "2    3  1990-01-01 00:00:00  1990-01-01 00:00:00  1990-01-01 00:00:00   \n",
      "3    4  1990-01-01 00:00:00  1990-01-01 00:00:00  1990-01-01 00:00:00   \n",
      "4    5  1990-01-01 00:00:00  1990-01-01 00:00:00  1990-01-01 00:00:00   \n",
      "\n",
      "                Bulk 4               Bulk 5               Bulk 6  \\\n",
      "0  2019-05-03 11:21:30  1990-01-01 00:00:00  1990-01-01 00:00:00   \n",
      "1  2019-05-03 11:46:38  1990-01-01 00:00:00  1990-01-01 00:00:00   \n",
      "2  2019-05-03 12:31:06  1990-01-01 00:00:00  1990-01-01 00:00:00   \n",
      "3  2019-05-03 12:48:43  1990-01-01 00:00:00  1990-01-01 00:00:00   \n",
      "4  2019-05-03 13:18:50  1990-01-01 00:00:00  1990-01-01 00:00:00   \n",
      "\n",
      "                Bulk 7               Bulk 8               Bulk 9  \\\n",
      "0  1990-01-01 00:00:00  1990-01-01 00:00:00  1990-01-01 00:00:00   \n",
      "1  1990-01-01 00:00:00  1990-01-01 00:00:00  1990-01-01 00:00:00   \n",
      "2  1990-01-01 00:00:00  1990-01-01 00:00:00  1990-01-01 00:00:00   \n",
      "3  1990-01-01 00:00:00  1990-01-01 00:00:00  1990-01-01 00:00:00   \n",
      "4  1990-01-01 00:00:00  1990-01-01 00:00:00  1990-01-01 00:00:00   \n",
      "\n",
      "               Bulk 10              Bulk 11              Bulk 12  \\\n",
      "0  1990-01-01 00:00:00  1990-01-01 00:00:00  2019-05-03 11:03:52   \n",
      "1  1990-01-01 00:00:00  1990-01-01 00:00:00  2019-05-03 11:40:20   \n",
      "2  1990-01-01 00:00:00  1990-01-01 00:00:00  2019-05-03 12:09:40   \n",
      "3  1990-01-01 00:00:00  1990-01-01 00:00:00  2019-05-03 12:41:24   \n",
      "4  1990-01-01 00:00:00  1990-01-01 00:00:00  2019-05-03 13:12:56   \n",
      "\n",
      "               Bulk 13              Bulk 14              Bulk 15  \n",
      "0  1990-01-01 00:00:00  2019-05-03 11:03:52  2019-05-03 11:03:52  \n",
      "1  1990-01-01 00:00:00  2019-05-03 11:40:20  2019-05-03 11:40:20  \n",
      "2  1990-01-01 00:00:00  2019-05-03 12:09:40  2019-05-03 12:09:40  \n",
      "3  1990-01-01 00:00:00  2019-05-03 12:41:24  2019-05-03 12:41:24  \n",
      "4  1990-01-01 00:00:00  2019-05-03 13:12:56  2019-05-03 13:12:56  \n",
      "<class 'pandas.core.frame.DataFrame'>\n",
      "RangeIndex: 3129 entries, 0 to 3128\n",
      "Data columns (total 16 columns):\n",
      " #   Column   Non-Null Count  Dtype \n",
      "---  ------   --------------  ----- \n",
      " 0   key      3129 non-null   int64 \n",
      " 1   Bulk 1   3129 non-null   object\n",
      " 2   Bulk 2   3129 non-null   object\n",
      " 3   Bulk 3   3129 non-null   object\n",
      " 4   Bulk 4   3129 non-null   object\n",
      " 5   Bulk 5   3129 non-null   object\n",
      " 6   Bulk 6   3129 non-null   object\n",
      " 7   Bulk 7   3129 non-null   object\n",
      " 8   Bulk 8   3129 non-null   object\n",
      " 9   Bulk 9   3129 non-null   object\n",
      " 10  Bulk 10  3129 non-null   object\n",
      " 11  Bulk 11  3129 non-null   object\n",
      " 12  Bulk 12  3129 non-null   object\n",
      " 13  Bulk 13  3129 non-null   object\n",
      " 14  Bulk 14  3129 non-null   object\n",
      " 15  Bulk 15  3129 non-null   object\n",
      "dtypes: int64(1), object(15)\n",
      "memory usage: 391.2+ KB\n",
      "None\n"
     ]
    }
   ],
   "source": [
    "data_bulk_time = data_bulk_time.fillna('1990-01-01 00:00:00')\n",
    "\n",
    "print(data_bulk_time.head())\n",
    "print(data_bulk_time.info())"
   ]
  },
  {
   "cell_type": "markdown",
   "id": "94b8ae45",
   "metadata": {},
   "source": [
    "Замечательно - на всякий случай сгруппируем по ключам и переведём в дату:"
   ]
  },
  {
   "cell_type": "code",
   "execution_count": 18,
   "id": "9e5650d9",
   "metadata": {},
   "outputs": [
    {
     "name": "stdout",
     "output_type": "stream",
     "text": [
      "<class 'pandas.core.frame.DataFrame'>\n",
      "Int64Index: 3129 entries, 1 to 3241\n",
      "Data columns (total 15 columns):\n",
      " #   Column   Non-Null Count  Dtype         \n",
      "---  ------   --------------  -----         \n",
      " 0   Bulk 1   3129 non-null   datetime64[ns]\n",
      " 1   Bulk 10  3129 non-null   datetime64[ns]\n",
      " 2   Bulk 11  3129 non-null   datetime64[ns]\n",
      " 3   Bulk 12  3129 non-null   datetime64[ns]\n",
      " 4   Bulk 13  3129 non-null   datetime64[ns]\n",
      " 5   Bulk 14  3129 non-null   datetime64[ns]\n",
      " 6   Bulk 15  3129 non-null   datetime64[ns]\n",
      " 7   Bulk 2   3129 non-null   datetime64[ns]\n",
      " 8   Bulk 3   3129 non-null   datetime64[ns]\n",
      " 9   Bulk 4   3129 non-null   datetime64[ns]\n",
      " 10  Bulk 5   3129 non-null   datetime64[ns]\n",
      " 11  Bulk 6   3129 non-null   datetime64[ns]\n",
      " 12  Bulk 7   3129 non-null   datetime64[ns]\n",
      " 13  Bulk 8   3129 non-null   datetime64[ns]\n",
      " 14  Bulk 9   3129 non-null   datetime64[ns]\n",
      "dtypes: datetime64[ns](15)\n",
      "memory usage: 391.1 KB\n",
      "None\n"
     ]
    }
   ],
   "source": [
    "bulk_timestamps = pd.pivot_table(data_bulk_time, index='key',\n",
    "                            aggfunc='last')\n",
    "bulk_timestamps = bulk_timestamps.apply(pd.to_datetime)\n",
    "\n",
    "print(bulk_timestamps.info())"
   ]
  },
  {
   "cell_type": "markdown",
   "id": "396f4573",
   "metadata": {},
   "source": [
    "Наконец, возьмём максимум по строке:"
   ]
  },
  {
   "cell_type": "code",
   "execution_count": 19,
   "id": "ea2a89d8",
   "metadata": {},
   "outputs": [
    {
     "name": "stdout",
     "output_type": "stream",
     "text": [
      "key\n",
      "1   2019-05-03 11:21:30\n",
      "2   2019-05-03 11:46:38\n",
      "3   2019-05-03 12:31:06\n",
      "4   2019-05-03 12:48:43\n",
      "5   2019-05-03 13:18:50\n",
      "dtype: datetime64[ns]\n",
      "key\n",
      "3237   2019-08-31 22:51:28\n",
      "3238   2019-08-31 23:39:11\n",
      "3239   2019-09-01 01:51:58\n",
      "3240   2019-09-01 03:12:40\n",
      "3241   2019-09-01 04:05:34\n",
      "dtype: datetime64[ns]\n"
     ]
    }
   ],
   "source": [
    "bulk_timestamps = bulk_timestamps.max(axis=1)\n",
    "print(bulk_timestamps.head())\n",
    "print(bulk_timestamps.tail())"
   ]
  },
  {
   "cell_type": "markdown",
   "id": "6e96c80a",
   "metadata": {},
   "source": [
    "Отлично - и теперь всё то же самое повторим для `wire_time`:"
   ]
  },
  {
   "cell_type": "code",
   "execution_count": 20,
   "id": "662e6819",
   "metadata": {},
   "outputs": [
    {
     "name": "stdout",
     "output_type": "stream",
     "text": [
      "key\n",
      "1   2019-05-03 11:11:41\n",
      "2   2019-05-03 11:46:10\n",
      "3   2019-05-03 12:13:47\n",
      "4   2019-05-03 12:48:05\n",
      "5   2019-05-03 13:32:06\n",
      "dtype: datetime64[ns]\n",
      "key\n",
      "3237   2019-08-31 22:50:20\n",
      "3238   2019-08-31 23:38:24\n",
      "3239   2019-09-01 01:50:43\n",
      "3240   2019-09-01 03:12:02\n",
      "3241   2019-09-01 04:16:01\n",
      "dtype: datetime64[ns]\n"
     ]
    }
   ],
   "source": [
    "data_wire_time = data_wire_time.fillna('1990-01-01 00:00:00')\n",
    "wire_timestamps = pd.pivot_table(data_wire_time, index='key',\n",
    "                            aggfunc='last')\n",
    "wire_timestamps = wire_timestamps.apply(pd.to_datetime)\n",
    "wire_timestamps = wire_timestamps.max(axis=1)\n",
    "print(wire_timestamps.head())\n",
    "print(wire_timestamps.tail())"
   ]
  },
  {
   "cell_type": "markdown",
   "id": "b3fcdfb7",
   "metadata": {},
   "source": [
    "А теперь добавим в множество \"на удаление\" все индексы, где время замера финальной температуры меньше хотя бы одного значения:"
   ]
  },
  {
   "cell_type": "code",
   "execution_count": 21,
   "id": "31effe6e",
   "metadata": {},
   "outputs": [
    {
     "name": "stdout",
     "output_type": "stream",
     "text": [
      "Длина множества до проверки:  764\n",
      "Длина множества после проверки:  887\n"
     ]
    }
   ],
   "source": [
    "print(f'Длина множества до проверки: ', len(to_delete))\n",
    "\n",
    "for i in temp_end_values.index:\n",
    "    flag = 0\n",
    "    try:\n",
    "        temp_time = temp_end.loc[i, 'Время замера']\n",
    "        arc_time = arc_timestamps[i]\n",
    "        bulk_time = bulk_timestamps[i]\n",
    "        wire_time = wire_timestamps[i]\n",
    "        if (temp_time < arc_time \n",
    "            or temp_time < bulk_time \n",
    "            or temp_time < wire_time):\n",
    "            flag = 1\n",
    "    except:\n",
    "        pass\n",
    "    if flag == 1:\n",
    "        to_delete.add(i)\n",
    "\n",
    "print(f'Длина множества после проверки: ', len(to_delete))"
   ]
  },
  {
   "cell_type": "markdown",
   "id": "26763611",
   "metadata": {},
   "source": [
    "Итого у нас вылетели ещё 123 значения - неприятно, но не катастрофа. "
   ]
  },
  {
   "cell_type": "markdown",
   "id": "78daa2cf",
   "metadata": {},
   "source": [
    "## <center>Составление итогового сета</center>"
   ]
  },
  {
   "cell_type": "markdown",
   "id": "4039b504",
   "metadata": {},
   "source": [
    "Пришла пора переходить к составлению итогового сета, который будет состоять из:\n",
    "\n",
    "**Целевой признак**:\n",
    "+ конечная температура\n",
    "\n",
    "**Признаки**:\n",
    "+ начальная температура\n",
    "+ газ\n",
    "+ суммарная активная мощность для партии\n",
    "+ суммарный bulk для партии: 15 столбцов\n",
    "+ суммарный wire для партии: 9 столбцов"
   ]
  },
  {
   "cell_type": "markdown",
   "id": "df44ad06",
   "metadata": {},
   "source": [
    "Целевой и начальная температура у нас уже есть. Газ тоже, но нужно посмотреть, нет ли там чего странного:"
   ]
  },
  {
   "cell_type": "code",
   "execution_count": 22,
   "id": "3de8bee1",
   "metadata": {},
   "outputs": [
    {
     "name": "stdout",
     "output_type": "stream",
     "text": [
      "count    3239.000000\n",
      "mean       11.002062\n",
      "std         6.220327\n",
      "min         0.008399\n",
      "25%         7.043089\n",
      "50%         9.836267\n",
      "75%        13.769915\n",
      "max        77.995040\n",
      "Name: Газ 1, dtype: float64\n"
     ]
    }
   ],
   "source": [
    "print(data_gas['Газ 1'].describe())"
   ]
  },
  {
   "cell_type": "markdown",
   "id": "579f7310",
   "metadata": {},
   "source": [
    "И вообще-то есть, минимум и максимум похожи на некие аномалии. Однако аномалии - это не явная дичь в виде отрицательных величин; трогать их без понимания процесса мне боязно. Здесь оставим всё как есть, только сделаем из партий индексы:"
   ]
  },
  {
   "cell_type": "code",
   "execution_count": 23,
   "id": "37073d06",
   "metadata": {},
   "outputs": [
    {
     "name": "stdout",
     "output_type": "stream",
     "text": [
      "         Газ 1\n",
      "key           \n",
      "1    29.749986\n",
      "2    12.555561\n",
      "3    28.554793\n",
      "4    18.841219\n",
      "5     5.413692\n",
      "          Газ 1\n",
      "key            \n",
      "3237   5.543905\n",
      "3238   6.745669\n",
      "3239  16.023518\n",
      "3240  11.863103\n",
      "3241  12.680959\n"
     ]
    }
   ],
   "source": [
    "gas = pd.pivot_table(data_gas, index='key', values='Газ 1', \n",
    "                            aggfunc='sum')\n",
    "\n",
    "print(gas.head())\n",
    "print(gas.tail())"
   ]
  },
  {
   "cell_type": "markdown",
   "id": "8a84d76a",
   "metadata": {},
   "source": [
    "Разберёмся с активной мощностью, предварительно глянув, нет ли там какой дичи:"
   ]
  },
  {
   "cell_type": "code",
   "execution_count": 24,
   "id": "d57d62bf",
   "metadata": {},
   "outputs": [
    {
     "name": "stdout",
     "output_type": "stream",
     "text": [
      "count    14876.000000\n",
      "mean         0.670441\n",
      "std          0.408159\n",
      "min          0.030002\n",
      "25%          0.395297\n",
      "50%          0.555517\n",
      "75%          0.857034\n",
      "max          3.731596\n",
      "Name: Активная мощность, dtype: float64\n"
     ]
    }
   ],
   "source": [
    "print(data_arc['Активная мощность'].describe())"
   ]
  },
  {
   "cell_type": "markdown",
   "id": "ea27b4b7",
   "metadata": {},
   "source": [
    "Здесь снова видны странноватые значения, но не откровенная дичь - не трогаем, суммируем:"
   ]
  },
  {
   "cell_type": "code",
   "execution_count": 25,
   "id": "f550d3fc",
   "metadata": {},
   "outputs": [
    {
     "name": "stdout",
     "output_type": "stream",
     "text": [
      "     Активная мощность\n",
      "key                   \n",
      "1             4.878147\n",
      "2             3.052598\n",
      "3             2.525882\n",
      "4             3.209250\n",
      "5             3.347173\n",
      "      Активная мощность\n",
      "key                    \n",
      "3237           3.932467\n",
      "3238           2.106529\n",
      "3239           4.666754\n",
      "3240           2.984083\n",
      "3241           2.471447\n",
      "<class 'pandas.core.frame.DataFrame'>\n",
      "Int64Index: 3214 entries, 1 to 3241\n",
      "Data columns (total 1 columns):\n",
      " #   Column             Non-Null Count  Dtype  \n",
      "---  ------             --------------  -----  \n",
      " 0   Активная мощность  3214 non-null   float64\n",
      "dtypes: float64(1)\n",
      "memory usage: 50.2 KB\n",
      "None\n"
     ]
    }
   ],
   "source": [
    "power = pd.pivot_table(data_arc, index='key', values='Активная мощность', \n",
    "                            aggfunc='sum')\n",
    "print(power.head())\n",
    "print(power.tail())\n",
    "print(power.info())"
   ]
  },
  {
   "cell_type": "markdown",
   "id": "fcccc160",
   "metadata": {},
   "source": [
    "Разобрались :) В `bulk` и `wire` логика следующая: если значений нет, то в котёл ничего не добавляли, то есть это 0 - заполняем пропуски нулями и суммируем:"
   ]
  },
  {
   "cell_type": "code",
   "execution_count": 26,
   "id": "52e87c1e",
   "metadata": {},
   "outputs": [
    {
     "name": "stdout",
     "output_type": "stream",
     "text": [
      "     Bulk 1  Bulk 10  Bulk 11  Bulk 12  Bulk 13  Bulk 14  Bulk 15  Bulk 2  \\\n",
      "key                                                                         \n",
      "1       0.0      0.0      0.0    206.0      0.0    150.0    154.0     0.0   \n",
      "2       0.0      0.0      0.0    206.0      0.0    149.0    154.0     0.0   \n",
      "3       0.0      0.0      0.0    205.0      0.0    152.0    153.0     0.0   \n",
      "4       0.0      0.0      0.0    207.0      0.0    153.0    154.0     0.0   \n",
      "5       0.0      0.0      0.0    203.0      0.0    151.0    152.0     0.0   \n",
      "\n",
      "     Bulk 3  Bulk 4  Bulk 5  Bulk 6  Bulk 7  Bulk 8  Bulk 9  \n",
      "key                                                          \n",
      "1       0.0    43.0     0.0     0.0     0.0     0.0     0.0  \n",
      "2       0.0    73.0     0.0     0.0     0.0     0.0     0.0  \n",
      "3       0.0    34.0     0.0     0.0     0.0     0.0     0.0  \n",
      "4       0.0    81.0     0.0     0.0     0.0     0.0     0.0  \n",
      "5       0.0    78.0     0.0     0.0     0.0     0.0     0.0  \n",
      "      Bulk 1  Bulk 10  Bulk 11  Bulk 12  Bulk 13  Bulk 14  Bulk 15  Bulk 2  \\\n",
      "key                                                                          \n",
      "3237     0.0      0.0      0.0    252.0      0.0    130.0    206.0     0.0   \n",
      "3238     0.0      0.0      0.0    254.0      0.0    108.0    106.0     0.0   \n",
      "3239     0.0      0.0      0.0    158.0      0.0    270.0     88.0     0.0   \n",
      "3240     0.0      0.0      0.0      0.0      0.0    192.0     54.0     0.0   \n",
      "3241     0.0      0.0      0.0      0.0      0.0    180.0     52.0     0.0   \n",
      "\n",
      "      Bulk 3  Bulk 4  Bulk 5  Bulk 6  Bulk 7  Bulk 8  Bulk 9  \n",
      "key                                                           \n",
      "3237   170.0     0.0     0.0     0.0     0.0     0.0     0.0  \n",
      "3238   126.0     0.0     0.0     0.0     0.0     0.0     0.0  \n",
      "3239     0.0     0.0     0.0   114.0     0.0     0.0     0.0  \n",
      "3240     0.0     0.0     0.0    26.0     0.0     0.0     0.0  \n",
      "3241     0.0     0.0     0.0     0.0     0.0     0.0     0.0  \n",
      "<class 'pandas.core.frame.DataFrame'>\n",
      "Int64Index: 3129 entries, 1 to 3241\n",
      "Data columns (total 15 columns):\n",
      " #   Column   Non-Null Count  Dtype  \n",
      "---  ------   --------------  -----  \n",
      " 0   Bulk 1   3129 non-null   float64\n",
      " 1   Bulk 10  3129 non-null   float64\n",
      " 2   Bulk 11  3129 non-null   float64\n",
      " 3   Bulk 12  3129 non-null   float64\n",
      " 4   Bulk 13  3129 non-null   float64\n",
      " 5   Bulk 14  3129 non-null   float64\n",
      " 6   Bulk 15  3129 non-null   float64\n",
      " 7   Bulk 2   3129 non-null   float64\n",
      " 8   Bulk 3   3129 non-null   float64\n",
      " 9   Bulk 4   3129 non-null   float64\n",
      " 10  Bulk 5   3129 non-null   float64\n",
      " 11  Bulk 6   3129 non-null   float64\n",
      " 12  Bulk 7   3129 non-null   float64\n",
      " 13  Bulk 8   3129 non-null   float64\n",
      " 14  Bulk 9   3129 non-null   float64\n",
      "dtypes: float64(15)\n",
      "memory usage: 391.1 KB\n",
      "None\n"
     ]
    }
   ],
   "source": [
    "bulk = data_bulk.fillna(0)\n",
    "bulk = pd.pivot_table(bulk, index='key',\n",
    "                            aggfunc='sum')\n",
    "print(bulk.head())\n",
    "print(bulk.tail())\n",
    "print(bulk.info())"
   ]
  },
  {
   "cell_type": "code",
   "execution_count": 27,
   "id": "2ad5e23f",
   "metadata": {},
   "outputs": [
    {
     "name": "stdout",
     "output_type": "stream",
     "text": [
      "        Wire 1   Wire 2  Wire 3  Wire 4  Wire 5  Wire 6  Wire 7  Wire 8  \\\n",
      "key                                                                       \n",
      "1    60.059998  0.00000     0.0     0.0     0.0     0.0     0.0     0.0   \n",
      "2    96.052315  0.00000     0.0     0.0     0.0     0.0     0.0     0.0   \n",
      "3    91.160157  0.00000     0.0     0.0     0.0     0.0     0.0     0.0   \n",
      "4    89.063515  0.00000     0.0     0.0     0.0     0.0     0.0     0.0   \n",
      "5    89.238236  9.11456     0.0     0.0     0.0     0.0     0.0     0.0   \n",
      "\n",
      "     Wire 9  \n",
      "key          \n",
      "1       0.0  \n",
      "2       0.0  \n",
      "3       0.0  \n",
      "4       0.0  \n",
      "5       0.0  \n",
      "          Wire 1  Wire 2  Wire 3  Wire 4  Wire 5  Wire 6  Wire 7  Wire 8  \\\n",
      "key                                                                        \n",
      "3237   38.088959     0.0     0.0     0.0     0.0     0.0     0.0     0.0   \n",
      "3238   56.128799     0.0     0.0     0.0     0.0     0.0     0.0     0.0   \n",
      "3239  143.357761     0.0     0.0     0.0     0.0     0.0     0.0     0.0   \n",
      "3240   34.070400     0.0     0.0     0.0     0.0     0.0     0.0     0.0   \n",
      "3241   63.117595     0.0     0.0     0.0     0.0     0.0     0.0     0.0   \n",
      "\n",
      "      Wire 9  \n",
      "key           \n",
      "3237     0.0  \n",
      "3238     0.0  \n",
      "3239     0.0  \n",
      "3240     0.0  \n",
      "3241     0.0  \n",
      "<class 'pandas.core.frame.DataFrame'>\n",
      "Int64Index: 3081 entries, 1 to 3241\n",
      "Data columns (total 9 columns):\n",
      " #   Column  Non-Null Count  Dtype  \n",
      "---  ------  --------------  -----  \n",
      " 0   Wire 1  3081 non-null   float64\n",
      " 1   Wire 2  3081 non-null   float64\n",
      " 2   Wire 3  3081 non-null   float64\n",
      " 3   Wire 4  3081 non-null   float64\n",
      " 4   Wire 5  3081 non-null   float64\n",
      " 5   Wire 6  3081 non-null   float64\n",
      " 6   Wire 7  3081 non-null   float64\n",
      " 7   Wire 8  3081 non-null   float64\n",
      " 8   Wire 9  3081 non-null   float64\n",
      "dtypes: float64(9)\n",
      "memory usage: 240.7 KB\n",
      "None\n"
     ]
    }
   ],
   "source": [
    "wire = data_wire.fillna(0)\n",
    "wire = pd.pivot_table(wire, index='key',\n",
    "                            aggfunc='sum')\n",
    "print(wire.head())\n",
    "print(wire.tail())\n",
    "print(wire.info())"
   ]
  },
  {
   "cell_type": "markdown",
   "id": "abd63546",
   "metadata": {},
   "source": [
    "А теперь сливаем всё воедино по индексам `key`, начиная с целевого признака, то есть конечной температуры:"
   ]
  },
  {
   "cell_type": "code",
   "execution_count": 28,
   "id": "3e7da5b8",
   "metadata": {
    "scrolled": true
   },
   "outputs": [
    {
     "name": "stdout",
     "output_type": "stream",
     "text": [
      "     temp_final  temp_start        gas     power  Bulk 1  Bulk 10  Bulk 11  \\\n",
      "key                                                                          \n",
      "1        1613.0      1571.0  29.749986  4.878147     0.0      0.0      0.0   \n",
      "2        1602.0      1581.0  12.555561  3.052598     0.0      0.0      0.0   \n",
      "3        1599.0      1596.0  28.554793  2.525882     0.0      0.0      0.0   \n",
      "4        1625.0      1601.0  18.841219  3.209250     0.0      0.0      0.0   \n",
      "5        1602.0      1576.0   5.413692  3.347173     0.0      0.0      0.0   \n",
      "\n",
      "     Bulk 12  Bulk 13  Bulk 14  ...  Bulk 9     Wire 1   Wire 2  Wire 3  \\\n",
      "key                             ...                                       \n",
      "1      206.0      0.0    150.0  ...     0.0  60.059998  0.00000     0.0   \n",
      "2      206.0      0.0    149.0  ...     0.0  96.052315  0.00000     0.0   \n",
      "3      205.0      0.0    152.0  ...     0.0  91.160157  0.00000     0.0   \n",
      "4      207.0      0.0    153.0  ...     0.0  89.063515  0.00000     0.0   \n",
      "5      203.0      0.0    151.0  ...     0.0  89.238236  9.11456     0.0   \n",
      "\n",
      "     Wire 4  Wire 5  Wire 6  Wire 7  Wire 8  Wire 9  \n",
      "key                                                  \n",
      "1       0.0     0.0     0.0     0.0     0.0     0.0  \n",
      "2       0.0     0.0     0.0     0.0     0.0     0.0  \n",
      "3       0.0     0.0     0.0     0.0     0.0     0.0  \n",
      "4       0.0     0.0     0.0     0.0     0.0     0.0  \n",
      "5       0.0     0.0     0.0     0.0     0.0     0.0  \n",
      "\n",
      "[5 rows x 28 columns]\n",
      "      temp_final  temp_start        gas     power  Bulk 1  Bulk 10  Bulk 11  \\\n",
      "key                                                                           \n",
      "2495      1591.0      1570.0   7.125735  3.210690     0.0     90.0      0.0   \n",
      "2496      1591.0      1554.0   9.412616  4.203064     0.0    122.0      0.0   \n",
      "2497      1589.0      1571.0   6.271699  2.212379     0.0      0.0      0.0   \n",
      "2498      1594.0      1591.0  14.953657  3.408725     0.0    101.0      0.0   \n",
      "2499      1603.0      1569.0  11.336151  4.098431     0.0      0.0      0.0   \n",
      "\n",
      "      Bulk 12  Bulk 13  Bulk 14  ...  Bulk 9      Wire 1    Wire 2  Wire 3  \\\n",
      "key                              ...                                         \n",
      "2495    256.0      0.0    129.0  ...     0.0   89.150879   0.00000     0.0   \n",
      "2496    256.0      0.0    129.0  ...     0.0  114.179527   0.00000     0.0   \n",
      "2497    230.0      0.0    124.0  ...     0.0   94.086723   9.04800     0.0   \n",
      "2498    206.0      0.0    129.0  ...     0.0  118.110717   0.00000     0.0   \n",
      "2499    233.0      0.0    126.0  ...     0.0  110.160958  50.00528     0.0   \n",
      "\n",
      "      Wire 4  Wire 5  Wire 6  Wire 7  Wire 8  Wire 9  \n",
      "key                                                   \n",
      "2495     0.0     0.0     0.0     0.0     0.0     0.0  \n",
      "2496     0.0     0.0     0.0     0.0     0.0     0.0  \n",
      "2497     0.0     0.0     0.0     0.0     0.0     0.0  \n",
      "2498     0.0     0.0     0.0     0.0     0.0     0.0  \n",
      "2499     0.0     0.0     0.0     0.0     0.0     0.0  \n",
      "\n",
      "[5 rows x 28 columns]\n",
      "<class 'pandas.core.frame.DataFrame'>\n",
      "Int64Index: 2477 entries, 1 to 2499\n",
      "Data columns (total 28 columns):\n",
      " #   Column      Non-Null Count  Dtype  \n",
      "---  ------      --------------  -----  \n",
      " 0   temp_final  2477 non-null   float64\n",
      " 1   temp_start  2477 non-null   float64\n",
      " 2   gas         2475 non-null   float64\n",
      " 3   power       2475 non-null   float64\n",
      " 4   Bulk 1      2408 non-null   float64\n",
      " 5   Bulk 10     2408 non-null   float64\n",
      " 6   Bulk 11     2408 non-null   float64\n",
      " 7   Bulk 12     2408 non-null   float64\n",
      " 8   Bulk 13     2408 non-null   float64\n",
      " 9   Bulk 14     2408 non-null   float64\n",
      " 10  Bulk 15     2408 non-null   float64\n",
      " 11  Bulk 2      2408 non-null   float64\n",
      " 12  Bulk 3      2408 non-null   float64\n",
      " 13  Bulk 4      2408 non-null   float64\n",
      " 14  Bulk 5      2408 non-null   float64\n",
      " 15  Bulk 6      2408 non-null   float64\n",
      " 16  Bulk 7      2408 non-null   float64\n",
      " 17  Bulk 8      2408 non-null   float64\n",
      " 18  Bulk 9      2408 non-null   float64\n",
      " 19  Wire 1      2373 non-null   float64\n",
      " 20  Wire 2      2373 non-null   float64\n",
      " 21  Wire 3      2373 non-null   float64\n",
      " 22  Wire 4      2373 non-null   float64\n",
      " 23  Wire 5      2373 non-null   float64\n",
      " 24  Wire 6      2373 non-null   float64\n",
      " 25  Wire 7      2373 non-null   float64\n",
      " 26  Wire 8      2373 non-null   float64\n",
      " 27  Wire 9      2373 non-null   float64\n",
      "dtypes: float64(28)\n",
      "memory usage: 561.2 KB\n",
      "None\n"
     ]
    }
   ],
   "source": [
    "temp_end_values = temp_end_values.drop(['Время замера'], axis=1).rename({'Температура':'temp_final'}, axis=1)\n",
    "temp_start = temp_start.drop(['Время замера'], axis=1).rename({'Температура':'temp_start'}, axis=1)\n",
    "\n",
    "data_final = temp_end_values.join(temp_start, on='key', how='left')\n",
    "data_final = data_final.join(gas, on='key', how='left').rename({'Газ 1':'gas'}, axis=1)\n",
    "data_final = data_final.join(power, on='key', how='left').rename({'Активная мощность':'power'}, axis=1)\n",
    "data_final = data_final.join(bulk, on='key', how='left')\n",
    "data_final = data_final.join(wire, on='key', how='left')\n",
    "\n",
    "print(data_final.head())\n",
    "print(data_final.tail())\n",
    "print(data_final.info())"
   ]
  },
  {
   "cell_type": "markdown",
   "id": "d34caeb1",
   "metadata": {},
   "source": [
    "У нас образовались дыры - это ожидаемо. Прежде чем чем-то их заполнять, вспомним о нашем множестве \"на удаление\" - и удалим все индексы оттуда:"
   ]
  },
  {
   "cell_type": "code",
   "execution_count": 29,
   "id": "d81d6242",
   "metadata": {},
   "outputs": [
    {
     "name": "stdout",
     "output_type": "stream",
     "text": [
      "<class 'pandas.core.frame.DataFrame'>\n",
      "Int64Index: 2354 entries, 1 to 2499\n",
      "Data columns (total 28 columns):\n",
      " #   Column      Non-Null Count  Dtype  \n",
      "---  ------      --------------  -----  \n",
      " 0   temp_final  2354 non-null   float64\n",
      " 1   temp_start  2354 non-null   float64\n",
      " 2   gas         2352 non-null   float64\n",
      " 3   power       2352 non-null   float64\n",
      " 4   Bulk 1      2285 non-null   float64\n",
      " 5   Bulk 10     2285 non-null   float64\n",
      " 6   Bulk 11     2285 non-null   float64\n",
      " 7   Bulk 12     2285 non-null   float64\n",
      " 8   Bulk 13     2285 non-null   float64\n",
      " 9   Bulk 14     2285 non-null   float64\n",
      " 10  Bulk 15     2285 non-null   float64\n",
      " 11  Bulk 2      2285 non-null   float64\n",
      " 12  Bulk 3      2285 non-null   float64\n",
      " 13  Bulk 4      2285 non-null   float64\n",
      " 14  Bulk 5      2285 non-null   float64\n",
      " 15  Bulk 6      2285 non-null   float64\n",
      " 16  Bulk 7      2285 non-null   float64\n",
      " 17  Bulk 8      2285 non-null   float64\n",
      " 18  Bulk 9      2285 non-null   float64\n",
      " 19  Wire 1      2250 non-null   float64\n",
      " 20  Wire 2      2250 non-null   float64\n",
      " 21  Wire 3      2250 non-null   float64\n",
      " 22  Wire 4      2250 non-null   float64\n",
      " 23  Wire 5      2250 non-null   float64\n",
      " 24  Wire 6      2250 non-null   float64\n",
      " 25  Wire 7      2250 non-null   float64\n",
      " 26  Wire 8      2250 non-null   float64\n",
      " 27  Wire 9      2250 non-null   float64\n",
      "dtypes: float64(28)\n",
      "memory usage: 533.3 KB\n",
      "None\n"
     ]
    }
   ],
   "source": [
    "for i in data_final.index:\n",
    "    if i in to_delete:\n",
    "        data_final = data_final.drop(i)\n",
    "        \n",
    "print(data_final.info())"
   ]
  },
  {
   "cell_type": "markdown",
   "id": "74028979",
   "metadata": {},
   "source": [
    "Замечательно - `gas` и `power` можно заполнить средними. Для `bulk` и `wire` я принимаю волевое решение вставить нули - это кажется более логичным.\n",
    "\n",
    "И вообще-то, как я понимаю, **вот здесь**, перед итоговым заполнением пропусков, следовало бы разделить сет на обучающую+валидационную и тестовые выборки и заполнять средними только по обучающей+валидационной. Но. С `bulk` и `wire` стратегия всегда проста: если пропуск - то ноль. А пропусков в `gas` и `power` у нас всего два. Два.\n",
    "Думаю, что если я заполню эти несчастные два пропуска данными по всему сету и впоследствии на вход - если в данных пропуск - пойдёт среднее по всему этому сету, то никакой беды не случится. Этот конкретный сет можно заполнить целиком и делить уже потом:"
   ]
  },
  {
   "cell_type": "code",
   "execution_count": 30,
   "id": "90951549",
   "metadata": {},
   "outputs": [
    {
     "name": "stdout",
     "output_type": "stream",
     "text": [
      "     temp_final  temp_start        gas     power  Bulk 1  Bulk 10  Bulk 11  \\\n",
      "key                                                                          \n",
      "1        1613.0      1571.0  29.749986  4.878147     0.0      0.0      0.0   \n",
      "2        1602.0      1581.0  12.555561  3.052598     0.0      0.0      0.0   \n",
      "3        1599.0      1596.0  28.554793  2.525882     0.0      0.0      0.0   \n",
      "4        1625.0      1601.0  18.841219  3.209250     0.0      0.0      0.0   \n",
      "5        1602.0      1576.0   5.413692  3.347173     0.0      0.0      0.0   \n",
      "\n",
      "     Bulk 12  Bulk 13  Bulk 14  ...  Bulk 9     Wire 1   Wire 2  Wire 3  \\\n",
      "key                             ...                                       \n",
      "1      206.0      0.0    150.0  ...     0.0  60.059998  0.00000     0.0   \n",
      "2      206.0      0.0    149.0  ...     0.0  96.052315  0.00000     0.0   \n",
      "3      205.0      0.0    152.0  ...     0.0  91.160157  0.00000     0.0   \n",
      "4      207.0      0.0    153.0  ...     0.0  89.063515  0.00000     0.0   \n",
      "5      203.0      0.0    151.0  ...     0.0  89.238236  9.11456     0.0   \n",
      "\n",
      "     Wire 4  Wire 5  Wire 6  Wire 7  Wire 8  Wire 9  \n",
      "key                                                  \n",
      "1       0.0     0.0     0.0     0.0     0.0     0.0  \n",
      "2       0.0     0.0     0.0     0.0     0.0     0.0  \n",
      "3       0.0     0.0     0.0     0.0     0.0     0.0  \n",
      "4       0.0     0.0     0.0     0.0     0.0     0.0  \n",
      "5       0.0     0.0     0.0     0.0     0.0     0.0  \n",
      "\n",
      "[5 rows x 28 columns]\n",
      "<class 'pandas.core.frame.DataFrame'>\n",
      "Int64Index: 2354 entries, 1 to 2499\n",
      "Data columns (total 28 columns):\n",
      " #   Column      Non-Null Count  Dtype  \n",
      "---  ------      --------------  -----  \n",
      " 0   temp_final  2354 non-null   float64\n",
      " 1   temp_start  2354 non-null   float64\n",
      " 2   gas         2354 non-null   float64\n",
      " 3   power       2354 non-null   float64\n",
      " 4   Bulk 1      2354 non-null   float64\n",
      " 5   Bulk 10     2354 non-null   float64\n",
      " 6   Bulk 11     2354 non-null   float64\n",
      " 7   Bulk 12     2354 non-null   float64\n",
      " 8   Bulk 13     2354 non-null   float64\n",
      " 9   Bulk 14     2354 non-null   float64\n",
      " 10  Bulk 15     2354 non-null   float64\n",
      " 11  Bulk 2      2354 non-null   float64\n",
      " 12  Bulk 3      2354 non-null   float64\n",
      " 13  Bulk 4      2354 non-null   float64\n",
      " 14  Bulk 5      2354 non-null   float64\n",
      " 15  Bulk 6      2354 non-null   float64\n",
      " 16  Bulk 7      2354 non-null   float64\n",
      " 17  Bulk 8      2354 non-null   float64\n",
      " 18  Bulk 9      2354 non-null   float64\n",
      " 19  Wire 1      2354 non-null   float64\n",
      " 20  Wire 2      2354 non-null   float64\n",
      " 21  Wire 3      2354 non-null   float64\n",
      " 22  Wire 4      2354 non-null   float64\n",
      " 23  Wire 5      2354 non-null   float64\n",
      " 24  Wire 6      2354 non-null   float64\n",
      " 25  Wire 7      2354 non-null   float64\n",
      " 26  Wire 8      2354 non-null   float64\n",
      " 27  Wire 9      2354 non-null   float64\n",
      "dtypes: float64(28)\n",
      "memory usage: 533.3 KB\n",
      "None\n"
     ]
    }
   ],
   "source": [
    "for col in data_final.columns:\n",
    "    if (col == 'gas' or col == 'power'):\n",
    "        data_final[col] = data_final[col].fillna(data_final[col].mean())\n",
    "    else:\n",
    "        data_final[col] = data_final[col].fillna(0)\n",
    "    \n",
    "print(data_final.head())    \n",
    "print(data_final.info())"
   ]
  },
  {
   "cell_type": "markdown",
   "id": "b3d1ca86",
   "metadata": {},
   "source": [
    "К - Красота. Да, датасет громоздкий, причём очень много значений в нём нули - однако именно он, на мой взгляд, аккуратнее всего отражает процесс: сливать все `bulk` и `wire` во что-то одно я не хочу, потому что не вижу в том физического смысла."
   ]
  },
  {
   "cell_type": "markdown",
   "id": "c3265c98",
   "metadata": {},
   "source": [
    "# <center>Проверка на мультиколлинеарность</center>"
   ]
  },
  {
   "cell_type": "markdown",
   "id": "2563ea27",
   "metadata": {},
   "source": [
    "Проверим сет на мультиколлинеарность (граница - 0.8):"
   ]
  },
  {
   "cell_type": "code",
   "execution_count": 31,
   "id": "77e9ef8f",
   "metadata": {},
   "outputs": [
    {
     "name": "stdout",
     "output_type": "stream",
     "text": [
      "Bulk 9 Wire 8\n",
      "Wire 8 Bulk 9\n"
     ]
    }
   ],
   "source": [
    "correlation = data_final.corr()\n",
    "\n",
    "for i in correlation.index:\n",
    "    for col in correlation.columns:\n",
    "        if (correlation.loc[i, col] > 0.8) and i != col:\n",
    "            print(i, col)"
   ]
  },
  {
   "cell_type": "markdown",
   "id": "6f9a96c0",
   "metadata": {},
   "source": [
    "И вот почему это и **только** это - бог весть. Пусть разбираются те, кто разбирается - а мы просто уберём `Wire 8`:"
   ]
  },
  {
   "cell_type": "code",
   "execution_count": 32,
   "id": "3cf54f38",
   "metadata": {},
   "outputs": [],
   "source": [
    "data_final = data_final.drop(['Wire 8'], axis=1)"
   ]
  },
  {
   "cell_type": "markdown",
   "id": "1f12cfb4",
   "metadata": {},
   "source": [
    "# <center>\"Тупые\" модели</center>"
   ]
  },
  {
   "cell_type": "markdown",
   "id": "ce54b984",
   "metadata": {},
   "source": [
    "Посмотрим, какое MAE выдают просто \"среднее\" и \"медиана\". Заодно отделим здесь тестовую выборку, которую в дальнейшем не будем трогать и будем использовать только для теста:"
   ]
  },
  {
   "cell_type": "code",
   "execution_count": 33,
   "id": "bc781197",
   "metadata": {},
   "outputs": [
    {
     "name": "stdout",
     "output_type": "stream",
     "text": [
      "Среднее: 10.273302416413246\n"
     ]
    }
   ],
   "source": [
    "target = data_final['temp_final']\n",
    "features = data_final.drop(['temp_final'], axis=1)\n",
    "\n",
    "features_train, features_test, target_train, target_test = train_test_split(features, target, \n",
    "                                                                            test_size=0.2, random_state=42)\n",
    "\n",
    "model = DummyRegressor(strategy='mean')\n",
    "model.fit(features_train, target_train)\n",
    "predicted_test = model.predict(features_test)\n",
    "dummy_mae_test = mean_absolute_error(target_test, predicted_test)\n",
    "print(f'Среднее:', dummy_mae_test)"
   ]
  },
  {
   "cell_type": "code",
   "execution_count": 34,
   "id": "dd7ed79d",
   "metadata": {},
   "outputs": [
    {
     "name": "stdout",
     "output_type": "stream",
     "text": [
      "Медиана: 10.099787685774947\n"
     ]
    }
   ],
   "source": [
    "model = DummyRegressor(strategy='median')\n",
    "model.fit(features_train, target_train)\n",
    "predicted_test = model.predict(features_test)\n",
    "dummy_mae_test = mean_absolute_error(target_test, predicted_test)\n",
    "print(f'Медиана:', dummy_mae_test)"
   ]
  },
  {
   "cell_type": "markdown",
   "id": "2f462af2",
   "metadata": {},
   "source": [
    "Результат ожидаемо \"сравнительно низкий в вакууме\", потому что целевая переменная колеблется в малом диапазоне. Что ж - попробуем получить MAE < 6 :)"
   ]
  },
  {
   "cell_type": "markdown",
   "id": "e8d6a8ef",
   "metadata": {},
   "source": [
    "# <center>Линейная регрессия</center>"
   ]
  },
  {
   "cell_type": "markdown",
   "id": "1044dcba",
   "metadata": {},
   "source": [
    "Начнём с простого и надёжного:"
   ]
  },
  {
   "cell_type": "code",
   "execution_count": 35,
   "id": "d5930dc5",
   "metadata": {},
   "outputs": [],
   "source": [
    "preprocessor = StandardScaler()\n",
    "lr_pipeline = make_pipeline(preprocessor, LinearRegression())"
   ]
  },
  {
   "cell_type": "code",
   "execution_count": 36,
   "id": "f92b06a5",
   "metadata": {},
   "outputs": [
    {
     "name": "stdout",
     "output_type": "stream",
     "text": [
      "Wall time: 3.24 s\n"
     ]
    },
    {
     "data": {
      "text/plain": [
       "Pipeline(steps=[('standardscaler', StandardScaler()),\n",
       "                ('linearregression', LinearRegression())])"
      ]
     },
     "execution_count": 36,
     "metadata": {},
     "output_type": "execute_result"
    }
   ],
   "source": [
    "%%time\n",
    "lr_pipeline.fit(features_train, target_train)"
   ]
  },
  {
   "cell_type": "code",
   "execution_count": 37,
   "id": "e1d6474f",
   "metadata": {},
   "outputs": [
    {
     "name": "stdout",
     "output_type": "stream",
     "text": [
      "Wall time: 2.99 ms\n"
     ]
    }
   ],
   "source": [
    "%%time\n",
    "predicted_test = lr_pipeline.predict(features_test)"
   ]
  },
  {
   "cell_type": "code",
   "execution_count": 38,
   "id": "75c369ec",
   "metadata": {},
   "outputs": [
    {
     "name": "stdout",
     "output_type": "stream",
     "text": [
      "7.943777071370562\n"
     ]
    }
   ],
   "source": [
    "lr_mae_test = mean_absolute_error(target_test, predicted_test)\n",
    "print(lr_mae_test)"
   ]
  },
  {
   "cell_type": "markdown",
   "id": "7f3fb281",
   "metadata": {},
   "source": [
    "Увы - в данном случае линейная регрессия справляется быстро, но очень плохо. Отставим её, попробуем дерево: "
   ]
  },
  {
   "cell_type": "markdown",
   "id": "b04cd271",
   "metadata": {},
   "source": [
    "# <center>Дерево решений</center>"
   ]
  },
  {
   "cell_type": "markdown",
   "id": "b85af9bf",
   "metadata": {},
   "source": [
    "Здесь и далее везде осуществляется поиск по сетке с 5-фолдовой кроссвалидацией:"
   ]
  },
  {
   "cell_type": "code",
   "execution_count": 39,
   "id": "fd6d9a54",
   "metadata": {},
   "outputs": [
    {
     "name": "stdout",
     "output_type": "stream",
     "text": [
      "-7.136179983808522\n",
      "{'est__max_depth': 8}\n"
     ]
    }
   ],
   "source": [
    "tree_pipeline = Pipeline(steps=[('prep', preprocessor), \n",
    "                                ('est', DecisionTreeRegressor(random_state=42))])\n",
    "tree_param = {'est__max_depth': [2, 3, 4, 5, 6, 7, 8, 9, 10]}\n",
    "\n",
    "gs_tree = GridSearchCV(tree_pipeline,\n",
    "                      param_grid=tree_param,\n",
    "                      scoring=make_scorer(mean_absolute_error, greater_is_better=False),\n",
    "                      cv=5, verbose=0)\n",
    "gs_tree.fit(features_train, target_train)\n",
    "\n",
    "print(gs_tree.best_score_)\n",
    "print(gs_tree.best_params_)"
   ]
  },
  {
   "cell_type": "code",
   "execution_count": 40,
   "id": "5c999982",
   "metadata": {},
   "outputs": [],
   "source": [
    "tree_pipeline = Pipeline(steps=[('prep', preprocessor), \n",
    "                                ('est', DecisionTreeRegressor(random_state=42, max_depth=8))])"
   ]
  },
  {
   "cell_type": "code",
   "execution_count": 41,
   "id": "5b98f4aa",
   "metadata": {},
   "outputs": [
    {
     "name": "stdout",
     "output_type": "stream",
     "text": [
      "Wall time: 14.9 ms\n"
     ]
    },
    {
     "data": {
      "text/plain": [
       "Pipeline(steps=[('prep', StandardScaler()),\n",
       "                ('est', DecisionTreeRegressor(max_depth=8, random_state=42))])"
      ]
     },
     "execution_count": 41,
     "metadata": {},
     "output_type": "execute_result"
    }
   ],
   "source": [
    "%%time\n",
    "tree_pipeline.fit(features_train, target_train)"
   ]
  },
  {
   "cell_type": "code",
   "execution_count": 42,
   "id": "a47b87d0",
   "metadata": {},
   "outputs": [
    {
     "name": "stdout",
     "output_type": "stream",
     "text": [
      "Wall time: 2.99 ms\n"
     ]
    }
   ],
   "source": [
    "%%time\n",
    "predicted_test = tree_pipeline.predict(features_test)"
   ]
  },
  {
   "cell_type": "code",
   "execution_count": 43,
   "id": "f7a95130",
   "metadata": {},
   "outputs": [
    {
     "name": "stdout",
     "output_type": "stream",
     "text": [
      "7.84928322358186\n"
     ]
    }
   ],
   "source": [
    "tree_mae_test = mean_absolute_error(target_test, predicted_test)\n",
    "print(tree_mae_test)"
   ]
  },
  {
   "cell_type": "markdown",
   "id": "575622e6",
   "metadata": {},
   "source": [
    "Результат едва лучше линейной регрессии, что не обнадёживает. Пробовать здесь что-то сделать смысла мало, переходим к лесу:"
   ]
  },
  {
   "cell_type": "markdown",
   "id": "ef4a01bd",
   "metadata": {},
   "source": [
    "# <center>Случайный лес</center>"
   ]
  },
  {
   "cell_type": "markdown",
   "id": "9eb1c09f",
   "metadata": {},
   "source": [
    "Первичный прогон:"
   ]
  },
  {
   "cell_type": "code",
   "execution_count": 44,
   "id": "40523a5a",
   "metadata": {},
   "outputs": [],
   "source": [
    "#rf_pipeline = Pipeline(steps=[('prep', preprocessor), \n",
    "#                                ('est', RandomForestRegressor(random_state=42))])\n",
    "#rf_param = [{'est__max_depth': [2, 3, 4, 5, 6, 7, 8, 9, 10],\n",
    "#             'est__n_estimators': [20, 40, 60, 80, 100]}]\n",
    "\n",
    "#gs_rf = GridSearchCV(rf_pipeline,\n",
    "#                      param_grid=rf_param,\n",
    "#                      scoring=make_scorer(mean_absolute_error, greater_is_better=False),\n",
    "#                      cv=5, verbose=0)\n",
    "#gs_rf.fit(features_train, target_train)\n",
    "\n",
    "#print(gs_rf.best_score_)\n",
    "#print(gs_rf.best_params_)"
   ]
  },
  {
   "cell_type": "markdown",
   "id": "5b102c21",
   "metadata": {},
   "source": [
    "Результат: `-6.188543593529425\n",
    "{'est__max_depth': 10, 'est__n_estimators': 60}`. Пробуем взять большую глубину:"
   ]
  },
  {
   "cell_type": "code",
   "execution_count": 45,
   "id": "9c55ef85",
   "metadata": {},
   "outputs": [],
   "source": [
    "#rf_pipeline = Pipeline(steps=[('prep', preprocessor), \n",
    "#                                ('est', RandomForestRegressor(random_state=42))])\n",
    "#rf_param = [{'est__max_depth': [9, 10, 11, 12, 13, 14, 15, 16, 17, 18],\n",
    "#             'est__n_estimators': [40, 50, 60, 70, 80]}]\n",
    "\n",
    "#gs_rf = GridSearchCV(rf_pipeline,\n",
    "#                      param_grid=rf_param,\n",
    "#                      scoring=make_scorer(mean_absolute_error, greater_is_better=False),\n",
    "#                      cv=5, verbose=0)\n",
    "#gs_rf.fit(features_train, target_train)\n",
    "\n",
    "#print(gs_rf.best_score_)\n",
    "#print(gs_rf.best_params_)"
   ]
  },
  {
   "cell_type": "markdown",
   "id": "74ecb494",
   "metadata": {},
   "source": [
    "Результат: `-6.185214447724029\n",
    "{'est__max_depth': 10, 'est__n_estimators': 70}`. Обнадёживающе - смотрим тест:"
   ]
  },
  {
   "cell_type": "code",
   "execution_count": 46,
   "id": "39a5870e",
   "metadata": {},
   "outputs": [],
   "source": [
    "rf_pipeline = Pipeline(steps=[('prep', preprocessor), \n",
    "                                ('est', RandomForestRegressor(random_state=42, \n",
    "                                                              max_depth=10, \n",
    "                                                              n_estimators=70))])"
   ]
  },
  {
   "cell_type": "code",
   "execution_count": 47,
   "id": "d2a1a6ad",
   "metadata": {},
   "outputs": [
    {
     "name": "stdout",
     "output_type": "stream",
     "text": [
      "Wall time: 666 ms\n"
     ]
    },
    {
     "data": {
      "text/plain": [
       "Pipeline(steps=[('prep', StandardScaler()),\n",
       "                ('est',\n",
       "                 RandomForestRegressor(max_depth=10, n_estimators=70,\n",
       "                                       random_state=42))])"
      ]
     },
     "execution_count": 47,
     "metadata": {},
     "output_type": "execute_result"
    }
   ],
   "source": [
    "%%time\n",
    "rf_pipeline.fit(features_train, target_train)"
   ]
  },
  {
   "cell_type": "code",
   "execution_count": 48,
   "id": "6959fef9",
   "metadata": {},
   "outputs": [
    {
     "name": "stdout",
     "output_type": "stream",
     "text": [
      "Wall time: 12 ms\n"
     ]
    }
   ],
   "source": [
    "%%time\n",
    "predicted_test = rf_pipeline.predict(features_test)"
   ]
  },
  {
   "cell_type": "code",
   "execution_count": 49,
   "id": "d21eb9e8",
   "metadata": {},
   "outputs": [
    {
     "name": "stdout",
     "output_type": "stream",
     "text": [
      "6.316984530623588\n"
     ]
    }
   ],
   "source": [
    "rf_mae_test = mean_absolute_error(target_test, predicted_test)\n",
    "print(rf_mae_test)"
   ]
  },
  {
   "cell_type": "markdown",
   "id": "19af72a7",
   "metadata": {},
   "source": [
    "Кто-то несколько переобучился, но результат обнадёживает - пытаться подбирать параметры леса смысл есть. Что не обнадёживает, так это время обучения - как показывает опыт, градиентный бустинг LightGBM может справиться и быстрее, и лучше, переходим к нему."
   ]
  },
  {
   "cell_type": "markdown",
   "id": "0311902a",
   "metadata": {},
   "source": [
    "# <center>LightGBM</center>"
   ]
  },
  {
   "cell_type": "markdown",
   "id": "bc5275ea",
   "metadata": {},
   "source": [
    "## <center>Предварительные подборы</center>"
   ]
  },
  {
   "cell_type": "markdown",
   "id": "0083c039",
   "metadata": {},
   "source": [
    "Первичный прогон:"
   ]
  },
  {
   "cell_type": "code",
   "execution_count": 50,
   "id": "a9687843",
   "metadata": {},
   "outputs": [],
   "source": [
    "#lgbm_pipeline = Pipeline(steps=[('prep', preprocessor), \n",
    "#                                ('est', LGBMRegressor(random_state=42))])\n",
    "\n",
    "#lgbm_params = [{'est__max_depth': [5, 6, 7, 8, 9, 10],\n",
    "#           'est__n_estimators': [50, 100, 150, 200], \n",
    "#           'est__learning_rate': [0.05, 0.1, 0.15, 0.2, 0.25, 0.3],\n",
    "#           'est__boosting_type': ['gbdt', 'dart']}]\n",
    "\n",
    "#gs_boost = GridSearchCV(lgbm_pipeline,\n",
    "#                      param_grid=lgbm_params,\n",
    "#                      scoring=make_scorer(mean_absolute_error, greater_is_better=False),\n",
    "#                      cv=5, verbose=0)\n",
    "#gs_boost.fit(features_train, target_train)\n",
    "\n",
    "#print(gs_boost.best_score_)\n",
    "#print(gs_boost.best_params_)"
   ]
  },
  {
   "cell_type": "markdown",
   "id": "1bc124da",
   "metadata": {},
   "source": [
    "Результат: `-6.196174592328298\n",
    "{'est__boosting_type': 'gbdt', 'est__learning_rate': 0.05, 'est__max_depth': 6, 'est__n_estimators': 150}`. Останавливаемся на `gbdt`, смотрим аккуратнее:"
   ]
  },
  {
   "cell_type": "code",
   "execution_count": 51,
   "id": "d44d542f",
   "metadata": {},
   "outputs": [],
   "source": [
    "#lgbm_pipeline = Pipeline(steps=[('prep', preprocessor), \n",
    "#                                ('est', LGBMRegressor(random_state=42, boosting_type='gbdt'))])\n",
    "\n",
    "#lgbm_params = [{'est__max_depth': [5, 6, 7, 8, 9, 10],\n",
    "#           'est__n_estimators': [110, 130, 150, 170, 190], \n",
    "#           'est__learning_rate': [0.01, 0.02, 0.03, 0.04, 0.05],\n",
    "#           'est__reg_lambda': [0.0, 0.1, 0.15, 0.2, 0.25, 0.3]}]\n",
    "\n",
    "#gs_boost = GridSearchCV(lgbm_pipeline,\n",
    "#                      param_grid=lgbm_params,\n",
    "#                      scoring=make_scorer(mean_absolute_error, greater_is_better=False),\n",
    "#                      cv=5, verbose=0)\n",
    "#gs_boost.fit(features_train, target_train)\n",
    "\n",
    "#print(gs_boost.best_score_)\n",
    "#print(gs_boost.best_params_)"
   ]
  },
  {
   "cell_type": "markdown",
   "id": "1ce38b19",
   "metadata": {},
   "source": [
    "Результат: `-6.172433183839788\n",
    "{'est__learning_rate': 0.04, 'est__max_depth': 5, 'est__n_estimators': 170, 'est__reg_lambda': 0.25}`. Здесь посмотрим, что покажет тест:"
   ]
  },
  {
   "cell_type": "code",
   "execution_count": 52,
   "id": "d9309088",
   "metadata": {},
   "outputs": [],
   "source": [
    "lgbm_pipeline = Pipeline(steps=[('prep', preprocessor), \n",
    "                                ('est', LGBMRegressor(random_state=42,\n",
    "                                                     boosting_type='gbdt', learning_rate=0.04,\n",
    "                                                     max_depth=5, n_estimators=170, reg_lambda=0.25))])                                                          "
   ]
  },
  {
   "cell_type": "code",
   "execution_count": 53,
   "id": "6f7ddfb0",
   "metadata": {},
   "outputs": [
    {
     "name": "stdout",
     "output_type": "stream",
     "text": [
      "Wall time: 806 ms\n"
     ]
    },
    {
     "data": {
      "text/plain": [
       "Pipeline(steps=[('prep', StandardScaler()),\n",
       "                ('est',\n",
       "                 LGBMRegressor(learning_rate=0.04, max_depth=5,\n",
       "                               n_estimators=170, random_state=42,\n",
       "                               reg_lambda=0.25))])"
      ]
     },
     "execution_count": 53,
     "metadata": {},
     "output_type": "execute_result"
    }
   ],
   "source": [
    "%%time\n",
    "lgbm_pipeline.fit(features_train, target_train)"
   ]
  },
  {
   "cell_type": "code",
   "execution_count": 54,
   "id": "6828a34a",
   "metadata": {},
   "outputs": [
    {
     "name": "stdout",
     "output_type": "stream",
     "text": [
      "Wall time: 3.99 ms\n"
     ]
    }
   ],
   "source": [
    "%%time\n",
    "predicted_test = lgbm_pipeline.predict(features_test)"
   ]
  },
  {
   "cell_type": "code",
   "execution_count": 55,
   "id": "a9b723ce",
   "metadata": {},
   "outputs": [
    {
     "name": "stdout",
     "output_type": "stream",
     "text": [
      "Обучающая: 4.846957194800644\n",
      "Тестовая: 6.168410242651911\n"
     ]
    }
   ],
   "source": [
    "predicted_train = lgbm_pipeline.predict(features_train)\n",
    "lgbm_mae_train = mean_absolute_error(target_train, predicted_train)\n",
    "print(f'Обучающая:', lgbm_mae_train)\n",
    "lgbm_mae_test = mean_absolute_error(target_test, predicted_test)\n",
    "print(f'Тестовая:', lgbm_mae_test)"
   ]
  },
  {
   "cell_type": "markdown",
   "id": "d9246889",
   "metadata": {},
   "source": [
    "Тест показывает примерно тот же результат, то есть модель не переобучается - это очень обнадёживает, смотрим дальше:"
   ]
  },
  {
   "cell_type": "code",
   "execution_count": 56,
   "id": "81fc6e00",
   "metadata": {},
   "outputs": [],
   "source": [
    "#lgbm_pipeline = Pipeline(steps=[('prep', preprocessor), \n",
    "#                                ('est', LGBMRegressor(random_state=42, boosting_type='gbdt'))])\n",
    "\n",
    "#lgbm_params = [{'est__max_depth': [5, 6, 7, 8],\n",
    "#                'est__n_estimators': [150, 170, 190],\n",
    "#                'est__learning_rate': [0.03, 0.04, 0.05],\n",
    "#                'est__reg_lambda': [0.15, 0.2, 0.25, 0.3],\n",
    "#                'est__min_child_samples': [10, 15, 20, 25, 30]}]\n",
    "\n",
    "#gs_boost = GridSearchCV(lgbm_pipeline,\n",
    "#                      param_grid=lgbm_params,\n",
    "#                      scoring=make_scorer(mean_absolute_error, greater_is_better=False),\n",
    "#                      cv=5, verbose=0)\n",
    "#gs_boost.fit(features_train, target_train)\n",
    "\n",
    "#print(gs_boost.best_score_)\n",
    "#print(gs_boost.best_params_)"
   ]
  },
  {
   "cell_type": "markdown",
   "id": "3b9d74ed",
   "metadata": {},
   "source": [
    "Результат: `-6.109172802940002\n",
    "{'est__learning_rate': 0.03, 'est__max_depth': 5, 'est__min_child_samples': 10, 'est__n_estimators': 190, 'est__reg_lambda': 0.25}`. Тест:"
   ]
  },
  {
   "cell_type": "code",
   "execution_count": 57,
   "id": "10b2e8d9",
   "metadata": {},
   "outputs": [],
   "source": [
    "lgbm_pipeline = Pipeline(steps=[('prep', preprocessor), \n",
    "                                ('est', LGBMRegressor(random_state=42,\n",
    "                                                     boosting_type='gbdt', learning_rate=0.03,\n",
    "                                                     max_depth=5, n_estimators=190, reg_lambda=0.25,\n",
    "                                                      min_child_samples=10))]) "
   ]
  },
  {
   "cell_type": "code",
   "execution_count": 58,
   "id": "a64bbcee",
   "metadata": {},
   "outputs": [
    {
     "name": "stdout",
     "output_type": "stream",
     "text": [
      "Wall time: 135 ms\n"
     ]
    },
    {
     "data": {
      "text/plain": [
       "Pipeline(steps=[('prep', StandardScaler()),\n",
       "                ('est',\n",
       "                 LGBMRegressor(learning_rate=0.03, max_depth=5,\n",
       "                               min_child_samples=10, n_estimators=190,\n",
       "                               random_state=42, reg_lambda=0.25))])"
      ]
     },
     "execution_count": 58,
     "metadata": {},
     "output_type": "execute_result"
    }
   ],
   "source": [
    "%%time\n",
    "lgbm_pipeline.fit(features_train, target_train)"
   ]
  },
  {
   "cell_type": "code",
   "execution_count": 59,
   "id": "db3435d6",
   "metadata": {},
   "outputs": [
    {
     "name": "stdout",
     "output_type": "stream",
     "text": [
      "Wall time: 66.8 ms\n"
     ]
    }
   ],
   "source": [
    "%%time\n",
    "predicted_test = lgbm_pipeline.predict(features_test)"
   ]
  },
  {
   "cell_type": "code",
   "execution_count": 60,
   "id": "e28eec98",
   "metadata": {},
   "outputs": [
    {
     "name": "stdout",
     "output_type": "stream",
     "text": [
      "Обучающая: 4.634594027833056\n",
      "Тестовая: 6.181212167515315\n"
     ]
    }
   ],
   "source": [
    "predicted_train = lgbm_pipeline.predict(features_train)\n",
    "lgbm_mae_train = mean_absolute_error(target_train, predicted_train)\n",
    "print(f'Обучающая:', lgbm_mae_train)\n",
    "lgbm_mae_test = mean_absolute_error(target_test, predicted_test)\n",
    "print(f'Тестовая:', lgbm_mae_test)"
   ]
  },
  {
   "cell_type": "markdown",
   "id": "dec69307",
   "metadata": {},
   "source": [
    "И вот тут результат не обрадовал - видимо, модель переобучилась. Но дальнейшие попытки показали, что смысл ковырять в этом направлении есть:"
   ]
  },
  {
   "cell_type": "code",
   "execution_count": 61,
   "id": "ab829a8f",
   "metadata": {},
   "outputs": [],
   "source": [
    "#lgbm_pipeline = Pipeline(steps=[('prep', preprocessor), \n",
    "#                                ('est', LGBMRegressor(random_state=42, boosting_type='gbdt'))])\n",
    "\n",
    "#lgbm_params = [{'est__max_depth': [3, 4, 5, 6, 7],\n",
    "#                'est__n_estimators': [150, 170, 190],\n",
    "#                'est__learning_rate': [0.03, 0.04, 0.05],\n",
    "#                'est__reg_lambda': [0.15, 0.2, 0.25, 0.3],\n",
    "#                'est__min_child_samples': [6, 8, 10, 12]}]\n",
    "\n",
    "#gs_boost = GridSearchCV(lgbm_pipeline,\n",
    "#                      param_grid=lgbm_params,\n",
    "#                      scoring=make_scorer(mean_absolute_error, greater_is_better=False),\n",
    "#                      cv=5, verbose=0)\n",
    "#gs_boost.fit(features_train, target_train)\n",
    "\n",
    "#print(gs_boost.best_score_)\n",
    "#print(gs_boost.best_params_)"
   ]
  },
  {
   "cell_type": "markdown",
   "id": "2d4602ed",
   "metadata": {},
   "source": [
    "Результат: `-6.053264815308516\n",
    "{'est__learning_rate': 0.03, 'est__max_depth': 5, 'est__min_child_samples': 6, 'est__n_estimators': 190, 'est__reg_lambda': 0.2}`. Тест:"
   ]
  },
  {
   "cell_type": "code",
   "execution_count": 62,
   "id": "3f3fab4f",
   "metadata": {},
   "outputs": [],
   "source": [
    "lgbm_pipeline = Pipeline(steps=[('prep', preprocessor), \n",
    "                                ('est', LGBMRegressor(random_state=42,\n",
    "                                                     boosting_type='gbdt', learning_rate=0.03,\n",
    "                                                     max_depth=5, n_estimators=190, reg_lambda=0.25,\n",
    "                                                      min_child_samples=6))]) "
   ]
  },
  {
   "cell_type": "code",
   "execution_count": 63,
   "id": "83bf53df",
   "metadata": {},
   "outputs": [
    {
     "name": "stdout",
     "output_type": "stream",
     "text": [
      "Wall time: 530 ms\n"
     ]
    },
    {
     "data": {
      "text/plain": [
       "Pipeline(steps=[('prep', StandardScaler()),\n",
       "                ('est',\n",
       "                 LGBMRegressor(learning_rate=0.03, max_depth=5,\n",
       "                               min_child_samples=6, n_estimators=190,\n",
       "                               random_state=42, reg_lambda=0.25))])"
      ]
     },
     "execution_count": 63,
     "metadata": {},
     "output_type": "execute_result"
    }
   ],
   "source": [
    "%%time\n",
    "lgbm_pipeline.fit(features_train, target_train)"
   ]
  },
  {
   "cell_type": "code",
   "execution_count": 64,
   "id": "cc017557",
   "metadata": {},
   "outputs": [
    {
     "name": "stdout",
     "output_type": "stream",
     "text": [
      "Wall time: 6.98 ms\n"
     ]
    }
   ],
   "source": [
    "%%time\n",
    "predicted_test = lgbm_pipeline.predict(features_test)"
   ]
  },
  {
   "cell_type": "code",
   "execution_count": 65,
   "id": "0273b1f3",
   "metadata": {},
   "outputs": [
    {
     "name": "stdout",
     "output_type": "stream",
     "text": [
      "Обучающая: 4.449740927837809\n",
      "Тестовая: 6.111096049115308\n"
     ]
    }
   ],
   "source": [
    "predicted_train = lgbm_pipeline.predict(features_train)\n",
    "lgbm_mae_train = mean_absolute_error(target_train, predicted_train)\n",
    "print(f'Обучающая:', lgbm_mae_train)\n",
    "lgbm_mae_test = mean_absolute_error(target_test, predicted_test)\n",
    "print(f'Тестовая:', lgbm_mae_test)"
   ]
  },
  {
   "cell_type": "markdown",
   "id": "2dde8d52",
   "metadata": {},
   "source": [
    "Лучше становится - и дальше тоже становилось лучше:"
   ]
  },
  {
   "cell_type": "code",
   "execution_count": 66,
   "id": "e05c03b7",
   "metadata": {},
   "outputs": [],
   "source": [
    "#lgbm_pipeline = Pipeline(steps=[('prep', preprocessor), \n",
    "#                                ('est', LGBMRegressor(random_state=42, boosting_type='gbdt'))])\n",
    "\n",
    "#lgbm_params = [{'est__max_depth': [3, 4, 5, 6, 7],\n",
    "#                'est__n_estimators': [150, 170, 190],\n",
    "#                'est__learning_rate': [0.03, 0.04, 0.05],\n",
    "#                'est__reg_lambda': [0.15, 0.2, 0.25, 0.3],\n",
    "#                'est__min_child_samples': [1, 2, 3, 4, 5]}]\n",
    "\n",
    "#gs_boost = GridSearchCV(lgbm_pipeline,\n",
    "#                      param_grid=lgbm_params,\n",
    "#                      scoring=make_scorer(mean_absolute_error, greater_is_better=False),\n",
    "#                      cv=5, verbose=0)\n",
    "#gs_boost.fit(features_train, target_train)\n",
    "\n",
    "#print(gs_boost.best_score_)\n",
    "#print(gs_boost.best_params_)"
   ]
  },
  {
   "cell_type": "markdown",
   "id": "31d43de3",
   "metadata": {},
   "source": [
    "`-6.02793794081695\n",
    "{'est__learning_rate': 0.05, 'est__max_depth': 5, 'est__min_child_samples': 2, 'est__n_estimators': 170, 'est__reg_lambda': 0.3}`"
   ]
  },
  {
   "cell_type": "code",
   "execution_count": 67,
   "id": "34be3435",
   "metadata": {},
   "outputs": [],
   "source": [
    "lgbm_pipeline = Pipeline(steps=[('prep', preprocessor), \n",
    "                                ('est', LGBMRegressor(random_state=42,\n",
    "                                                     boosting_type='gbdt', learning_rate=0.05,\n",
    "                                                     max_depth=5, n_estimators=170, reg_lambda=0.3,\n",
    "                                                      min_child_samples=2))]) "
   ]
  },
  {
   "cell_type": "code",
   "execution_count": 68,
   "id": "3132f415",
   "metadata": {},
   "outputs": [
    {
     "name": "stdout",
     "output_type": "stream",
     "text": [
      "Wall time: 155 ms\n"
     ]
    },
    {
     "data": {
      "text/plain": [
       "Pipeline(steps=[('prep', StandardScaler()),\n",
       "                ('est',\n",
       "                 LGBMRegressor(learning_rate=0.05, max_depth=5,\n",
       "                               min_child_samples=2, n_estimators=170,\n",
       "                               random_state=42, reg_lambda=0.3))])"
      ]
     },
     "execution_count": 68,
     "metadata": {},
     "output_type": "execute_result"
    }
   ],
   "source": [
    "%%time\n",
    "lgbm_pipeline.fit(features_train, target_train)"
   ]
  },
  {
   "cell_type": "code",
   "execution_count": 69,
   "id": "84943645",
   "metadata": {},
   "outputs": [
    {
     "name": "stdout",
     "output_type": "stream",
     "text": [
      "Wall time: 3.99 ms\n"
     ]
    }
   ],
   "source": [
    "%%time\n",
    "predicted_test = lgbm_pipeline.predict(features_test)"
   ]
  },
  {
   "cell_type": "code",
   "execution_count": 70,
   "id": "d810ebd0",
   "metadata": {},
   "outputs": [
    {
     "name": "stdout",
     "output_type": "stream",
     "text": [
      "Обучающая: 3.872843180562522\n",
      "Тестовая: 6.059333236562937\n"
     ]
    }
   ],
   "source": [
    "predicted_train = lgbm_pipeline.predict(features_train)\n",
    "lgbm_mae_train = mean_absolute_error(target_train, predicted_train)\n",
    "print(f'Обучающая:', lgbm_mae_train)\n",
    "lgbm_mae_test = mean_absolute_error(target_test, predicted_test)\n",
    "print(f'Тестовая:', lgbm_mae_test)"
   ]
  },
  {
   "cell_type": "markdown",
   "id": "237a3990",
   "metadata": {},
   "source": [
    "## <center>Финальный подбор</center>"
   ]
  },
  {
   "cell_type": "markdown",
   "id": "8a6af18d",
   "metadata": {},
   "source": [
    "В итоге финальный подбор выглядит вот так:"
   ]
  },
  {
   "cell_type": "code",
   "execution_count": 71,
   "id": "87d2cc71",
   "metadata": {},
   "outputs": [],
   "source": [
    "#lgbm_pipeline = Pipeline(steps=[('prep', preprocessor), \n",
    "#                                ('est', LGBMRegressor(random_state=42, boosting_type='gbdt'))])\n",
    "\n",
    "#lgbm_params = [{'est__max_depth': [3, 4, 5, 6, 7],\n",
    "#                'est__n_estimators': [150, 160, 170, 180, 190],\n",
    "#                'est__learning_rate': [0.04, 0.045, 0.05, 0.055, 0.06],\n",
    "#                'est__reg_lambda': [0.2, 0.25, 0.3, 0.35, 0.4],\n",
    "#                'est__min_child_samples': [2, 3, 4],\n",
    "#                'est__num_leaves': [18, 19, 20, 21, 22]}]\n",
    "\n",
    "#gs_boost = GridSearchCV(lgbm_pipeline,\n",
    "#                      param_grid=lgbm_params,\n",
    "#                      scoring=make_scorer(mean_absolute_error, greater_is_better=False),\n",
    "#                      cv=5, verbose=0)\n",
    "#gs_boost.fit(features_train, target_train)\n",
    "\n",
    "#print(gs_boost.best_score_)\n",
    "#print(gs_boost.best_params_)"
   ]
  },
  {
   "cell_type": "markdown",
   "id": "9755b302",
   "metadata": {},
   "source": [
    "Результат: `-5.982357756440104\n",
    "{'est__learning_rate': 0.045, 'est__max_depth': 6, 'est__min_child_samples': 2, 'est__n_estimators': 160, 'est__num_leaves': 19, 'est__reg_lambda': 0.35}`. Всё, кроме `min_child_samples`, лежит между границами - уменьшать же `min_child_samples` до 1 не кажется мне осмысленным. Тест:"
   ]
  },
  {
   "cell_type": "code",
   "execution_count": 72,
   "id": "c3a24c65",
   "metadata": {},
   "outputs": [],
   "source": [
    "lgbm_pipeline = Pipeline(steps=[('prep', preprocessor), \n",
    "                                ('est', LGBMRegressor(random_state=42,\n",
    "                                                     boosting_type='gbdt', learning_rate=0.045,\n",
    "                                                     max_depth=6, n_estimators=160, reg_lambda=0.35,\n",
    "                                                      min_child_samples=2, num_leaves=19))]) "
   ]
  },
  {
   "cell_type": "code",
   "execution_count": 73,
   "id": "cd47cbe1",
   "metadata": {},
   "outputs": [
    {
     "name": "stdout",
     "output_type": "stream",
     "text": [
      "Wall time: 177 ms\n"
     ]
    },
    {
     "data": {
      "text/plain": [
       "Pipeline(steps=[('prep', StandardScaler()),\n",
       "                ('est',\n",
       "                 LGBMRegressor(learning_rate=0.045, max_depth=6,\n",
       "                               min_child_samples=2, n_estimators=160,\n",
       "                               num_leaves=19, random_state=42,\n",
       "                               reg_lambda=0.35))])"
      ]
     },
     "execution_count": 73,
     "metadata": {},
     "output_type": "execute_result"
    }
   ],
   "source": [
    "%%time\n",
    "lgbm_pipeline.fit(features_train, target_train)"
   ]
  },
  {
   "cell_type": "code",
   "execution_count": 74,
   "id": "eb9d591e",
   "metadata": {},
   "outputs": [
    {
     "name": "stdout",
     "output_type": "stream",
     "text": [
      "Wall time: 7.98 ms\n"
     ]
    }
   ],
   "source": [
    "%%time\n",
    "predicted_test = lgbm_pipeline.predict(features_test)"
   ]
  },
  {
   "cell_type": "code",
   "execution_count": 75,
   "id": "ae01ab8c",
   "metadata": {},
   "outputs": [
    {
     "name": "stdout",
     "output_type": "stream",
     "text": [
      "Обучающая: 4.11038226292012\n",
      "Тестовая: 5.980860031467053\n"
     ]
    }
   ],
   "source": [
    "predicted_train = lgbm_pipeline.predict(features_train)\n",
    "lgbm_mae_train = mean_absolute_error(target_train, predicted_train)\n",
    "print(f'Обучающая:', lgbm_mae_train)\n",
    "lgbm_mae_test = mean_absolute_error(target_test, predicted_test)\n",
    "print(f'Тестовая:', lgbm_mae_test)"
   ]
  },
  {
   "cell_type": "markdown",
   "id": "ea3cfa9f",
   "metadata": {},
   "source": [
    "MAE < 6, обучающееся ~ в 5 раз быстрее, чем лес sklearn, и предсказывающее ~ в 2 раза быстрее. Победа разума, величие духа - осталось посмотреть на факторы:"
   ]
  },
  {
   "cell_type": "markdown",
   "id": "35721758",
   "metadata": {},
   "source": [
    "## <center>Важность факторов и удаление ненужных признаков</center>"
   ]
  },
  {
   "cell_type": "code",
   "execution_count": 76,
   "id": "576e204f",
   "metadata": {},
   "outputs": [
    {
     "data": {
      "image/png": "[encoded data removed]",
      "text/plain": [
       "<Figure size 1080x720 with 1 Axes>"
      ]
     },
     "metadata": {},
     "output_type": "display_data"
    }
   ],
   "source": [
    "lgbm_model = LGBMRegressor(random_state=42,\n",
    "                           boosting_type='gbdt', learning_rate=0.045,\n",
    "                           max_depth=6, n_estimators=160, reg_lambda=0.35,\n",
    "                           min_child_samples=2, num_leaves=19)\n",
    "\n",
    "features_st = preprocessor.fit_transform(features_train)\n",
    "lgbm_model.fit(features_st, target_train)\n",
    "\n",
    "importances = lgbm_model.feature_importances_\n",
    "lgbm_importances = pd.Series(importances, index=features_train.columns).sort_values(ascending=False).head(7)\n",
    "\n",
    "sns.set_style(\"whitegrid\")\n",
    "fig, ax = plt.subplots()\n",
    "lgbm_importances.plot.bar(ax=ax, figsize=(15, 10))\n",
    "plt.xticks(size = 20)\n",
    "plt.yticks(size = 15)\n",
    "fig.tight_layout()"
   ]
  },
  {
   "cell_type": "markdown",
   "id": "677537f1",
   "metadata": {},
   "source": [
    "И вот первое место достаточно ожидаемо: то, что конечная температура сильно зависит от начальной - это вывод из разряда Капитана Очевидность, он напрашивается. Ожидаема и вторая мощность - а вот то, что первый провод обогнал газ, для меня, признаться, неожиданность.\n",
    "\n",
    "Что там происходит с первым проводом и почему он так важен, пусть разбираются те, кто разбирается - но в итоге газ занимает почётное четвёртое место, а дальше идут `bulk` и `wire`.\n",
    "\n",
    "Опытным путём было установлено, что лучший результат получается, если удалить 7 признаков с наименьшим влиянием:"
   ]
  },
  {
   "cell_type": "code",
   "execution_count": 77,
   "id": "56558f72",
   "metadata": {},
   "outputs": [
    {
     "name": "stdout",
     "output_type": "stream",
     "text": [
      "Index(['Bulk 5', 'Bulk 2', 'Wire 7', 'Bulk 9', 'Bulk 8', 'Wire 5', 'Wire 9'], dtype='object')\n"
     ]
    }
   ],
   "source": [
    "ind = pd.Series(importances, index=features_train.columns).sort_values(ascending=False).tail(7).index\n",
    "print(ind)"
   ]
  },
  {
   "cell_type": "code",
   "execution_count": 78,
   "id": "63bd20bb",
   "metadata": {},
   "outputs": [],
   "source": [
    "features_train = features_train.drop(ind, axis=1)\n",
    "features_test = features_test.drop(ind, axis=1)"
   ]
  },
  {
   "cell_type": "code",
   "execution_count": 79,
   "id": "52cbbf78",
   "metadata": {},
   "outputs": [],
   "source": [
    "lgbm_pipeline = Pipeline(steps=[('prep', preprocessor), \n",
    "                                ('est', LGBMRegressor(random_state=42,\n",
    "                                                     boosting_type='gbdt', learning_rate=0.045,\n",
    "                                                     max_depth=6, n_estimators=160, reg_lambda=0.35,\n",
    "                                                      min_child_samples=2, num_leaves=19))]) "
   ]
  },
  {
   "cell_type": "code",
   "execution_count": 80,
   "id": "1fb37202",
   "metadata": {},
   "outputs": [
    {
     "name": "stdout",
     "output_type": "stream",
     "text": [
      "Wall time: 131 ms\n"
     ]
    },
    {
     "data": {
      "text/plain": [
       "Pipeline(steps=[('prep', StandardScaler()),\n",
       "                ('est',\n",
       "                 LGBMRegressor(learning_rate=0.045, max_depth=6,\n",
       "                               min_child_samples=2, n_estimators=160,\n",
       "                               num_leaves=19, random_state=42,\n",
       "                               reg_lambda=0.35))])"
      ]
     },
     "execution_count": 80,
     "metadata": {},
     "output_type": "execute_result"
    }
   ],
   "source": [
    "%%time\n",
    "lgbm_pipeline.fit(features_train, target_train)"
   ]
  },
  {
   "cell_type": "code",
   "execution_count": 81,
   "id": "1a33993f",
   "metadata": {},
   "outputs": [
    {
     "name": "stdout",
     "output_type": "stream",
     "text": [
      "Wall time: 3.99 ms\n"
     ]
    }
   ],
   "source": [
    "%%time\n",
    "predicted_test = lgbm_pipeline.predict(features_test)"
   ]
  },
  {
   "cell_type": "code",
   "execution_count": 82,
   "id": "53efbf69",
   "metadata": {},
   "outputs": [
    {
     "name": "stdout",
     "output_type": "stream",
     "text": [
      "Обучающая: 4.105818298639707\n",
      "Тестовая: 5.970887077986847\n"
     ]
    }
   ],
   "source": [
    "predicted_train = lgbm_pipeline.predict(features_train)\n",
    "lgbm_mae_train = mean_absolute_error(target_train, predicted_train)\n",
    "print(f'Обучающая:', lgbm_mae_train)\n",
    "lgbm_mae_test = mean_absolute_error(target_test, predicted_test)\n",
    "print(f'Тестовая:', lgbm_mae_test)"
   ]
  },
  {
   "cell_type": "markdown",
   "id": "15074721",
   "metadata": {},
   "source": [
    "Выигрыш не то чтобы сильно велик, но хоть что-то лучше, чем ничего.\n",
    "Итого `MAE ~ 5.97`"
   ]
  }
 ],
 "metadata": {
  "ExecuteTimeLog": [
   {
    "duration": 688,
    "start_time": "2022-02-25T05:46:38.459Z"
   },
   {
    "duration": 289,
    "start_time": "2022-02-25T05:46:40.361Z"
   },
   {
    "duration": 143,
    "start_time": "2022-02-25T05:47:01.863Z"
   },
   {
    "duration": 17,
    "start_time": "2022-02-25T05:47:07.832Z"
   },
   {
    "duration": 16,
    "start_time": "2022-02-25T05:47:12.452Z"
   },
   {
    "duration": 18,
    "start_time": "2022-02-25T05:47:20.566Z"
   },
   {
    "duration": 11,
    "start_time": "2022-02-25T05:47:26.219Z"
   },
   {
    "duration": 13,
    "start_time": "2022-02-25T05:47:30.716Z"
   },
   {
    "duration": 13,
    "start_time": "2022-02-25T05:47:34.256Z"
   },
   {
    "duration": 14,
    "start_time": "2022-02-25T05:47:38.537Z"
   },
   {
    "duration": 6,
    "start_time": "2022-02-25T05:48:23.230Z"
   },
   {
    "duration": 6,
    "start_time": "2022-02-25T05:48:25.661Z"
   },
   {
    "duration": 18,
    "start_time": "2022-02-25T05:48:28.839Z"
   },
   {
    "duration": 103,
    "start_time": "2022-02-25T05:48:31.086Z"
   },
   {
    "duration": 13,
    "start_time": "2022-02-25T05:48:33.393Z"
   },
   {
    "duration": 6,
    "start_time": "2022-02-25T05:48:34.516Z"
   },
   {
    "duration": 17,
    "start_time": "2022-02-25T05:48:35.594Z"
   },
   {
    "duration": 23,
    "start_time": "2022-02-25T05:48:35.911Z"
   },
   {
    "duration": 48,
    "start_time": "2022-02-25T05:48:36.225Z"
   },
   {
    "duration": 6,
    "start_time": "2022-02-25T05:48:36.547Z"
   },
   {
    "duration": 33,
    "start_time": "2022-02-25T05:48:36.872Z"
   },
   {
    "duration": 84,
    "start_time": "2022-02-25T05:48:37.206Z"
   },
   {
    "duration": 7,
    "start_time": "2022-02-25T05:48:38.479Z"
   },
   {
    "duration": 12,
    "start_time": "2022-02-25T05:48:38.856Z"
   },
   {
    "duration": 8,
    "start_time": "2022-02-25T05:48:39.713Z"
   },
   {
    "duration": 19,
    "start_time": "2022-02-25T05:48:40.072Z"
   },
   {
    "duration": 33,
    "start_time": "2022-02-25T05:48:40.401Z"
   },
   {
    "duration": 24,
    "start_time": "2022-02-25T05:48:40.576Z"
   },
   {
    "duration": 40,
    "start_time": "2022-02-25T05:48:40.908Z"
   },
   {
    "duration": 58,
    "start_time": "2022-02-25T05:48:41.232Z"
   },
   {
    "duration": 26,
    "start_time": "2022-02-25T05:48:41.572Z"
   },
   {
    "duration": 1151,
    "start_time": "2022-02-28T16:57:04.305Z"
   },
   {
    "duration": 131,
    "start_time": "2022-02-28T16:57:12.100Z"
   },
   {
    "duration": 12,
    "start_time": "2022-02-28T16:57:12.740Z"
   },
   {
    "duration": 13,
    "start_time": "2022-02-28T16:57:13.601Z"
   },
   {
    "duration": 14,
    "start_time": "2022-02-28T16:57:14.222Z"
   },
   {
    "duration": 8,
    "start_time": "2022-02-28T16:57:14.789Z"
   },
   {
    "duration": 9,
    "start_time": "2022-02-28T16:57:15.358Z"
   },
   {
    "duration": 11,
    "start_time": "2022-02-28T16:57:15.870Z"
   },
   {
    "duration": 11,
    "start_time": "2022-02-28T16:57:16.583Z"
   },
   {
    "duration": 7,
    "start_time": "2022-02-28T16:57:22.332Z"
   },
   {
    "duration": 6,
    "start_time": "2022-02-28T16:57:23.525Z"
   },
   {
    "duration": 11,
    "start_time": "2022-02-28T16:57:23.895Z"
   },
   {
    "duration": 36,
    "start_time": "2022-02-28T16:57:24.256Z"
   },
   {
    "duration": 12,
    "start_time": "2022-02-28T16:57:25.338Z"
   },
   {
    "duration": 3,
    "start_time": "2022-02-28T16:57:25.733Z"
   },
   {
    "duration": 17,
    "start_time": "2022-02-28T16:57:26.735Z"
   },
   {
    "duration": 17,
    "start_time": "2022-02-28T16:57:27.093Z"
   },
   {
    "duration": 46,
    "start_time": "2022-02-28T16:57:27.665Z"
   },
   {
    "duration": 6,
    "start_time": "2022-02-28T16:57:28.423Z"
   },
   {
    "duration": 35,
    "start_time": "2022-02-28T16:57:29.331Z"
   },
   {
    "duration": 97,
    "start_time": "2022-02-28T16:57:29.829Z"
   },
   {
    "duration": 9,
    "start_time": "2022-02-28T16:57:30.915Z"
   },
   {
    "duration": 12,
    "start_time": "2022-02-28T16:57:31.523Z"
   },
   {
    "duration": 8,
    "start_time": "2022-02-28T16:57:31.885Z"
   },
   {
    "duration": 16,
    "start_time": "2022-02-28T16:57:32.240Z"
   },
   {
    "duration": 25,
    "start_time": "2022-02-28T16:57:33.828Z"
   },
   {
    "duration": 19,
    "start_time": "2022-02-28T16:57:34.380Z"
   },
   {
    "duration": 36,
    "start_time": "2022-02-28T16:57:36.493Z"
   },
   {
    "duration": 65,
    "start_time": "2022-02-28T16:57:37.558Z"
   },
   {
    "duration": 24,
    "start_time": "2022-02-28T16:57:38.200Z"
   },
   {
    "duration": 13,
    "start_time": "2022-02-28T16:58:01.855Z"
   },
   {
    "duration": 5,
    "start_time": "2022-02-28T16:58:02.934Z"
   },
   {
    "duration": 9,
    "start_time": "2022-02-28T16:58:11.823Z"
   },
   {
    "duration": 6,
    "start_time": "2022-02-28T16:58:31.718Z"
   }
  ],
  "kernelspec": {
   "display_name": "Python 3 (ipykernel)",
   "language": "python",
   "name": "python3"
  },
  "language_info": {
   "codemirror_mode": {
    "name": "ipython",
    "version": 3
   },
   "file_extension": ".py",
   "mimetype": "text/x-python",
   "name": "python",
   "nbconvert_exporter": "python",
   "pygments_lexer": "ipython3",
   "version": "3.8.8"
  },
  "toc": {
   "base_numbering": 1,
   "nav_menu": {},
   "number_sections": true,
   "sideBar": true,
   "skip_h1_title": true,
   "title_cell": "Table of Contents",
   "title_sidebar": "Contents",
   "toc_cell": false,
   "toc_position": {},
   "toc_section_display": true,
   "toc_window_display": false
  }
 },
 "nbformat": 4,
 "nbformat_minor": 5
}
