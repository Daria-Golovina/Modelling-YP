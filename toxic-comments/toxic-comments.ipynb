{
 "cells": [
  {
   "cell_type": "markdown",
   "id": "aa27c4e9",
   "metadata": {},
   "source": [
    "# <center>Определение токсичности комментариев</center>"
   ]
  },
  {
   "cell_type": "markdown",
   "id": "bfd48b9a",
   "metadata": {},
   "source": [
    "## <center>Введение</center>"
   ]
  },
  {
   "cell_type": "markdown",
   "id": "5efb2058",
   "metadata": {},
   "source": [
    "Целью работы является создание модели, которая будет находить токсичные комментарии и отправлять их на модерацию. F1-мера должны быть выше 0.75."
   ]
  },
  {
   "cell_type": "markdown",
   "id": "55cfd8fb",
   "metadata": {},
   "source": [
    "## <center>План проекта</center>"
   ]
  },
  {
   "cell_type": "markdown",
   "id": "99b9780f",
   "metadata": {},
   "source": [
    "**Импорт библиотек**\n",
    "\n",
    "**Предобработка данных**\n",
    "+ Чистка с помощью регулярных выражений\n",
    "\n",
    "**\"Тупая\" модель**\n",
    "\n",
    "**Модели**\n",
    "+ Логистическая регрессия\n",
    "+ Дерево решений\n",
    "\n",
    "**Заключение**"
   ]
  },
  {
   "cell_type": "markdown",
   "id": "d431f1c7",
   "metadata": {},
   "source": [
    "## <center>Импорт библиотек</center>"
   ]
  },
  {
   "cell_type": "code",
   "execution_count": 1,
   "id": "7b0b67ad",
   "metadata": {},
   "outputs": [],
   "source": [
    "import pandas as pd\n",
    "import re\n",
    "import nltk\n",
    "from nltk.corpus import stopwords as nltk_stopwords\n",
    "from sklearn.feature_extraction.text import TfidfVectorizer \n",
    "from sklearn.model_selection import train_test_split, GridSearchCV \n",
    "from sklearn.pipeline import Pipeline\n",
    "from sklearn.metrics import recall_score, precision_score, f1_score, make_scorer\n",
    "from sklearn.tree import DecisionTreeClassifier\n",
    "from sklearn.linear_model import LogisticRegression\n",
    "from sklearn.dummy import DummyClassifier"
   ]
  },
  {
   "cell_type": "markdown",
   "id": "d4d468b9",
   "metadata": {},
   "source": [
    "## <center>Предобработка данных</center>"
   ]
  },
  {
   "cell_type": "markdown",
   "id": "c2061f70",
   "metadata": {},
   "source": [
    "Считаем данные и посмотрим на них:"
   ]
  },
  {
   "cell_type": "code",
   "execution_count": 2,
   "id": "eec93bb7",
   "metadata": {},
   "outputs": [
    {
     "data": {
      "text/html": [
       "<div>\n",
       "<style scoped>\n",
       "    .dataframe tbody tr th:only-of-type {\n",
       "        vertical-align: middle;\n",
       "    }\n",
       "\n",
       "    .dataframe tbody tr th {\n",
       "        vertical-align: top;\n",
       "    }\n",
       "\n",
       "    .dataframe thead th {\n",
       "        text-align: right;\n",
       "    }\n",
       "</style>\n",
       "<table border=\"1\" class=\"dataframe\">\n",
       "  <thead>\n",
       "    <tr style=\"text-align: right;\">\n",
       "      <th></th>\n",
       "      <th>text</th>\n",
       "      <th>toxic</th>\n",
       "    </tr>\n",
       "  </thead>\n",
       "  <tbody>\n",
       "    <tr>\n",
       "      <th>0</th>\n",
       "      <td>Explanation\\nWhy the edits made under my usern...</td>\n",
       "      <td>0</td>\n",
       "    </tr>\n",
       "    <tr>\n",
       "      <th>1</th>\n",
       "      <td>D'aww! He matches this background colour I'm s...</td>\n",
       "      <td>0</td>\n",
       "    </tr>\n",
       "    <tr>\n",
       "      <th>2</th>\n",
       "      <td>Hey man, I'm really not trying to edit war. It...</td>\n",
       "      <td>0</td>\n",
       "    </tr>\n",
       "    <tr>\n",
       "      <th>3</th>\n",
       "      <td>\"\\nMore\\nI can't make any real suggestions on ...</td>\n",
       "      <td>0</td>\n",
       "    </tr>\n",
       "    <tr>\n",
       "      <th>4</th>\n",
       "      <td>You, sir, are my hero. Any chance you remember...</td>\n",
       "      <td>0</td>\n",
       "    </tr>\n",
       "    <tr>\n",
       "      <th>5</th>\n",
       "      <td>\"\\n\\nCongratulations from me as well, use the ...</td>\n",
       "      <td>0</td>\n",
       "    </tr>\n",
       "    <tr>\n",
       "      <th>6</th>\n",
       "      <td>COCKSUCKER BEFORE YOU PISS AROUND ON MY WORK</td>\n",
       "      <td>1</td>\n",
       "    </tr>\n",
       "    <tr>\n",
       "      <th>7</th>\n",
       "      <td>Your vandalism to the Matt Shirvington article...</td>\n",
       "      <td>0</td>\n",
       "    </tr>\n",
       "    <tr>\n",
       "      <th>8</th>\n",
       "      <td>Sorry if the word 'nonsense' was offensive to ...</td>\n",
       "      <td>0</td>\n",
       "    </tr>\n",
       "    <tr>\n",
       "      <th>9</th>\n",
       "      <td>alignment on this subject and which are contra...</td>\n",
       "      <td>0</td>\n",
       "    </tr>\n",
       "    <tr>\n",
       "      <th>10</th>\n",
       "      <td>\"\\nFair use rationale for Image:Wonju.jpg\\n\\nT...</td>\n",
       "      <td>0</td>\n",
       "    </tr>\n",
       "    <tr>\n",
       "      <th>11</th>\n",
       "      <td>bbq \\n\\nbe a man and lets discuss it-maybe ove...</td>\n",
       "      <td>0</td>\n",
       "    </tr>\n",
       "    <tr>\n",
       "      <th>12</th>\n",
       "      <td>Hey... what is it..\\n@ | talk .\\nWhat is it......</td>\n",
       "      <td>1</td>\n",
       "    </tr>\n",
       "    <tr>\n",
       "      <th>13</th>\n",
       "      <td>Before you start throwing accusations and warn...</td>\n",
       "      <td>0</td>\n",
       "    </tr>\n",
       "    <tr>\n",
       "      <th>14</th>\n",
       "      <td>Oh, and the girl above started her arguments w...</td>\n",
       "      <td>0</td>\n",
       "    </tr>\n",
       "    <tr>\n",
       "      <th>15</th>\n",
       "      <td>\"\\n\\nJuelz Santanas Age\\n\\nIn 2002, Juelz Sant...</td>\n",
       "      <td>0</td>\n",
       "    </tr>\n",
       "    <tr>\n",
       "      <th>16</th>\n",
       "      <td>Bye! \\n\\nDon't look, come or think of comming ...</td>\n",
       "      <td>1</td>\n",
       "    </tr>\n",
       "    <tr>\n",
       "      <th>17</th>\n",
       "      <td>REDIRECT Talk:Voydan Pop Georgiev- Chernodrinski</td>\n",
       "      <td>0</td>\n",
       "    </tr>\n",
       "    <tr>\n",
       "      <th>18</th>\n",
       "      <td>The Mitsurugi point made no sense - why not ar...</td>\n",
       "      <td>0</td>\n",
       "    </tr>\n",
       "    <tr>\n",
       "      <th>19</th>\n",
       "      <td>Don't mean to bother you \\n\\nI see that you're...</td>\n",
       "      <td>0</td>\n",
       "    </tr>\n",
       "  </tbody>\n",
       "</table>\n",
       "</div>"
      ],
      "text/plain": [
       "                                                 text  toxic\n",
       "0   Explanation\\nWhy the edits made under my usern...      0\n",
       "1   D'aww! He matches this background colour I'm s...      0\n",
       "2   Hey man, I'm really not trying to edit war. It...      0\n",
       "3   \"\\nMore\\nI can't make any real suggestions on ...      0\n",
       "4   You, sir, are my hero. Any chance you remember...      0\n",
       "5   \"\\n\\nCongratulations from me as well, use the ...      0\n",
       "6        COCKSUCKER BEFORE YOU PISS AROUND ON MY WORK      1\n",
       "7   Your vandalism to the Matt Shirvington article...      0\n",
       "8   Sorry if the word 'nonsense' was offensive to ...      0\n",
       "9   alignment on this subject and which are contra...      0\n",
       "10  \"\\nFair use rationale for Image:Wonju.jpg\\n\\nT...      0\n",
       "11  bbq \\n\\nbe a man and lets discuss it-maybe ove...      0\n",
       "12  Hey... what is it..\\n@ | talk .\\nWhat is it......      1\n",
       "13  Before you start throwing accusations and warn...      0\n",
       "14  Oh, and the girl above started her arguments w...      0\n",
       "15  \"\\n\\nJuelz Santanas Age\\n\\nIn 2002, Juelz Sant...      0\n",
       "16  Bye! \\n\\nDon't look, come or think of comming ...      1\n",
       "17   REDIRECT Talk:Voydan Pop Georgiev- Chernodrinski      0\n",
       "18  The Mitsurugi point made no sense - why not ar...      0\n",
       "19  Don't mean to bother you \\n\\nI see that you're...      0"
      ]
     },
     "metadata": {},
     "output_type": "display_data"
    },
    {
     "name": "stdout",
     "output_type": "stream",
     "text": [
      "<class 'pandas.core.frame.DataFrame'>\n",
      "RangeIndex: 159571 entries, 0 to 159570\n",
      "Data columns (total 2 columns):\n",
      " #   Column  Non-Null Count   Dtype \n",
      "---  ------  --------------   ----- \n",
      " 0   text    159571 non-null  object\n",
      " 1   toxic   159571 non-null  int64 \n",
      "dtypes: int64(1), object(1)\n",
      "memory usage: 2.4+ MB\n",
      "None\n"
     ]
    }
   ],
   "source": [
    "data = pd.read_csv('toxic_comments.csv')\n",
    "\n",
    "display(data.head(20))\n",
    "print(data.info())"
   ]
  },
  {
   "cell_type": "markdown",
   "id": "e2503904",
   "metadata": {},
   "source": [
    "Да, 6-ая строка заставляет пожалеть о том, что знаешь английский :) Но проблема не в токсичности - проблема в мусоре: тегах, ссылках и служебных словах типа `REDIRECT`."
   ]
  },
  {
   "cell_type": "markdown",
   "id": "b613db31",
   "metadata": {},
   "source": [
    "Оценим дисбаланс:"
   ]
  },
  {
   "cell_type": "code",
   "execution_count": 3,
   "id": "53e3e965",
   "metadata": {},
   "outputs": [
    {
     "name": "stdout",
     "output_type": "stream",
     "text": [
      "0    143346\n",
      "1     16225\n",
      "Name: toxic, dtype: int64\n"
     ]
    }
   ],
   "source": [
    "print(data['toxic'].value_counts())"
   ]
  },
  {
   "cell_type": "markdown",
   "id": "3156bf35",
   "metadata": {},
   "source": [
    "Дисбаланс есть и сильный - но не катастрофически, токсичных комментариев у нас больше 10%. Апсемплить здесь, на мой взгляд, необходимости нет, объектов класса достаточно - будем бороться с дисбалансом другими методами."
   ]
  },
  {
   "cell_type": "markdown",
   "id": "ccad381b",
   "metadata": {},
   "source": [
    "### <center>Чистка с помощью регулярных выражений</center>"
   ]
  },
  {
   "cell_type": "markdown",
   "id": "0d6b6279",
   "metadata": {},
   "source": [
    "Переведём тексты в юникод и посмотрим на них повнимательнее:"
   ]
  },
  {
   "cell_type": "code",
   "execution_count": 4,
   "id": "2134d345",
   "metadata": {},
   "outputs": [
    {
     "name": "stdout",
     "output_type": "stream",
     "text": [
      "159571\n",
      "[\"Explanation\\nWhy the edits made under my username Hardcore Metallica Fan were reverted? They weren't vandalisms, just closure on some GAs after I voted at New York Dolls FAC. And please don't remove the template from the talk page since I'm retired now.89.205.38.27\"\n",
      " \"D'aww! He matches this background colour I'm seemingly stuck with. Thanks.  (talk) 21:51, January 11, 2016 (UTC)\"\n",
      " \"Hey man, I'm really not trying to edit war. It's just that this guy is constantly removing relevant information and talking to me through edits instead of my talk page. He seems to care more about the formatting than the actual info.\"\n",
      " '\"\\nMore\\nI can\\'t make any real suggestions on improvement - I wondered if the section statistics should be later on, or a subsection of \"\"types of accidents\"\"  -I think the references may need tidying so that they are all in the exact same format ie date format etc. I can do that later on, if no-one else does first - if you have any preferences for formatting style on references or want to do it yourself please let me know.\\n\\nThere appears to be a backlog on articles for review so I guess there may be a delay until a reviewer turns up. It\\'s listed in the relevant form eg Wikipedia:Good_article_nominations#Transport  \"'\n",
      " \"You, sir, are my hero. Any chance you remember what page that's on?\"\n",
      " '\"\\n\\nCongratulations from me as well, use the tools well. \\xa0· talk \"'\n",
      " 'COCKSUCKER BEFORE YOU PISS AROUND ON MY WORK'\n",
      " \"Your vandalism to the Matt Shirvington article has been reverted.  Please don't do it again, or you will be banned.\"\n",
      " \"Sorry if the word 'nonsense' was offensive to you. Anyway, I'm not intending to write anything in the article(wow they would jump on me for vandalism), I'm merely requesting that it be more encyclopedic so one can use it for school as a reference. I have been to the selective breeding page but it's almost a stub. It points to 'animal breeding' which is a short messy article that gives you no info. There must be someone around with expertise in eugenics? 93.161.107.169\"\n",
      " 'alignment on this subject and which are contrary to those of DuLithgow'\n",
      " '\"\\nFair use rationale for Image:Wonju.jpg\\n\\nThanks for uploading Image:Wonju.jpg. I notice the image page specifies that the image is being used under fair use but there is no explanation or rationale as to why its use in Wikipedia articles constitutes fair use. In addition to the boilerplate fair use template, you must also write out on the image description page a specific explanation or rationale for why using this image in each article is consistent with fair use.\\n\\nPlease go to the image description page and edit it to include a fair use rationale.\\n\\nIf you have uploaded other fair use media, consider checking that you have specified the fair use rationale on those pages too. You can find a list of \\'image\\' pages you have edited by clicking on the \"\"my contributions\"\" link (it is located at the very top of any Wikipedia page when you are logged in), and then selecting \"\"Image\"\" from the dropdown box. Note that any fair use images uploaded after 4 May, 2006, and lacking such an explanation will be deleted one week after they have been uploaded, as described on criteria for speedy deletion. If you have any questions please ask them at the Media copyright questions page. Thank you. (talk • contribs • ) \\nUnspecified source for Image:Wonju.jpg\\n\\nThanks for uploading Image:Wonju.jpg. I noticed that the file\\'s description page currently doesn\\'t specify who created the content, so the copyright status is unclear. If you did not create this file yourself, then you will need to specify the owner of the copyright. If you obtained it from a website, then a link to the website from which it was taken, together with a restatement of that website\\'s terms of use of its content, is usually sufficient information. However, if the copyright holder is different from the website\\'s publisher, then their copyright should also be acknowledged.\\n\\nAs well as adding the source, please add a proper copyright licensing tag if the file doesn\\'t have one already. If you created/took the picture, audio, or video then the  tag can be used to release it under the GFDL. If you believe the media meets the criteria at Wikipedia:Fair use, use a tag such as  or one of the other tags listed at Wikipedia:Image copyright tags#Fair use. See Wikipedia:Image copyright tags for the full list of copyright tags that you can use.\\n\\nIf you have uploaded other files, consider checking that you have specified their source and tagged them, too. You can find a list of files you have uploaded by following [ this link]. Unsourced and untagged images may be deleted one week after they have been tagged, as described on criteria for speedy deletion. If the image is copyrighted under a non-free license (per Wikipedia:Fair use) then the image will be deleted 48 hours after . If you have any questions please ask them at the Media copyright questions page. Thank you. (talk • contribs • ) \"'\n",
      " 'bbq \\n\\nbe a man and lets discuss it-maybe over the phone?'\n",
      " 'Hey... what is it..\\n@ | talk .\\nWhat is it... an exclusive group of some WP TALIBANS...who are good at destroying, self-appointed purist who GANG UP any one who asks them questions abt their ANTI-SOCIAL and DESTRUCTIVE (non)-contribution at WP?\\n\\nAsk Sityush to clean up his behavior than issue me nonsensical warnings...'\n",
      " \"Before you start throwing accusations and warnings at me, lets review the edit itself-making ad hominem attacks isn't going to strengthen your argument, it will merely make it look like you are abusing your power as an admin. \\nNow, the edit itself is relevant-this is probably the single most talked about event int he news as of late. His absence is notable, since he is the only living ex-president who did not attend. That's certainly more notable than his dedicating an aircracft carrier. \\nI intend to revert this edit, in hopes of attracting the attention of an admin that is willing to look at the issue itself, and not throw accusations around quite so liberally. Perhaps, if you achieve a level of civility where you can do this, we can have a rational discussion on the topic and resolve the matter peacefully.\"\n",
      " \"Oh, and the girl above started her arguments with me. She stuck her nose where it doesn't belong. I believe the argument was between me and Yvesnimmo. But like I said, the situation was settled and I apologized. Thanks,\"\n",
      " '\"\\n\\nJuelz Santanas Age\\n\\nIn 2002, Juelz Santana was 18 years old, then came February 18th, which makes Juelz turn 19 making songs with The Diplomats. The third neff to be signed to Cam\\'s label under Roc A Fella. In 2003, he was 20 years old coming out with his own singles \"\"Santana\\'s Town\"\" and \"\"Down\"\". So yes, he is born in 1983. He really is, how could he be older then Lloyd Banks? And how could he be 22 when his birthday passed? The homie neff is 23 years old. 1983 - 2006 (Juelz death, god forbid if your thinking about that) equals 23. Go to your caculator and stop changing his year of birth. My god.\"'\n",
      " \"Bye! \\n\\nDon't look, come or think of comming back! Tosser.\"\n",
      " 'REDIRECT Talk:Voydan Pop Georgiev- Chernodrinski'\n",
      " \"The Mitsurugi point made no sense - why not argue to include Hindi on Ryo Sakazaki's page to include more information?\"\n",
      " \"Don't mean to bother you \\n\\nI see that you're writing something regarding removing anything posted here and if you do oh well but if not and you can acctually discuss this with me then even better.\\n\\nI'd like to ask you to take a closer look at the Premature wrestling deaths catagory and the men listed in it, surely these men belong together in some catagory. Is there anything that you think we can do with the catagory besides delting it?\"]\n"
     ]
    }
   ],
   "source": [
    "corpus = data['text'].values.astype('U')\n",
    "\n",
    "print(len(corpus))\n",
    "print(corpus[0:20])"
   ]
  },
  {
   "cell_type": "markdown",
   "id": "378c661c",
   "metadata": {},
   "source": [
    "Основной мусор - это `\\n` и айпишиники, которые оказались здесь неясно как. Нас интересуют только слова, поэтому нужно оставить:\n",
    "+ Буквы a-z, A-Z;\n",
    "+ Пробелы;\n",
    "+ Символ `'`\n",
    "\n",
    "Символ `'` в английском используется часто в множестве сокращений: `I'm`, `I'd`, `doesn't` и т. д.. И нам не нужно превращать `doesn't` в два слова `doesn` и `t`, вот эти торчащие буквы просто не будут иметь смысла. Поэтому:"
   ]
  },
  {
   "cell_type": "code",
   "execution_count": 5,
   "id": "8bb4a643",
   "metadata": {},
   "outputs": [
    {
     "name": "stdout",
     "output_type": "stream",
     "text": [
      "159571\n",
      "Explanation Why the edits made under my username Hardcore Metallica Fan were reverted They weren't vandalisms just closure on some GAs after I voted at New York Dolls FAC And please don't remove the template from the talk page since I'm retired now\n",
      "\n",
      "D'aww He matches this background colour I'm seemingly stuck with Thanks talk January UTC\n",
      "\n",
      "Hey man I'm really not trying to edit war It's just that this guy is constantly removing relevant information and talking to me through edits instead of my talk page He seems to care more about the formatting than the actual info\n",
      "\n",
      "More I can't make any real suggestions on improvement I wondered if the section statistics should be later on or a subsection of types of accidents I think the references may need tidying so that they are all in the exact same format ie date format etc I can do that later on if no one else does first if you have any preferences for formatting style on references or want to do it yourself please let me know There appears to be a backlog on articles for review so I guess there may be a delay until a reviewer turns up It's listed in the relevant form eg Wikipedia Good article nominations Transport\n",
      "\n",
      "You sir are my hero Any chance you remember what page that's on\n",
      "\n",
      "Congratulations from me as well use the tools well talk\n",
      "\n",
      "COCKSUCKER BEFORE YOU PISS AROUND ON MY WORK\n",
      "\n",
      "Your vandalism to the Matt Shirvington article has been reverted Please don't do it again or you will be banned\n",
      "\n",
      "Sorry if the word 'nonsense' was offensive to you Anyway I'm not intending to write anything in the article wow they would jump on me for vandalism I'm merely requesting that it be more encyclopedic so one can use it for school as a reference I have been to the selective breeding page but it's almost a stub It points to 'animal breeding' which is a short messy article that gives you no info There must be someone around with expertise in eugenics\n",
      "\n",
      "alignment on this subject and which are contrary to those of DuLithgow\n",
      "\n",
      "Fair use rationale for Image Wonju jpg Thanks for uploading Image Wonju jpg I notice the image page specifies that the image is being used under fair use but there is no explanation or rationale as to why its use in Wikipedia articles constitutes fair use In addition to the boilerplate fair use template you must also write out on the image description page a specific explanation or rationale for why using this image in each article is consistent with fair use Please go to the image description page and edit it to include a fair use rationale If you have uploaded other fair use media consider checking that you have specified the fair use rationale on those pages too You can find a list of 'image' pages you have edited by clicking on the my contributions link it is located at the very top of any Wikipedia page when you are logged in and then selecting Image from the dropdown box Note that any fair use images uploaded after May and lacking such an explanation will be deleted one week after they have been uploaded as described on criteria for speedy deletion If you have any questions please ask them at the Media copyright questions page Thank you talk contribs Unspecified source for Image Wonju jpg Thanks for uploading Image Wonju jpg I noticed that the file's description page currently doesn't specify who created the content so the copyright status is unclear If you did not create this file yourself then you will need to specify the owner of the copyright If you obtained it from a website then a link to the website from which it was taken together with a restatement of that website's terms of use of its content is usually sufficient information However if the copyright holder is different from the website's publisher then their copyright should also be acknowledged As well as adding the source please add a proper copyright licensing tag if the file doesn't have one already If you created took the picture audio or video then the tag can be used to release it under the GFDL If you believe the media meets the criteria at Wikipedia Fair use use a tag such as or one of the other tags listed at Wikipedia Image copyright tags Fair use See Wikipedia Image copyright tags for the full list of copyright tags that you can use If you have uploaded other files consider checking that you have specified their source and tagged them too You can find a list of files you have uploaded by following this link Unsourced and untagged images may be deleted one week after they have been tagged as described on criteria for speedy deletion If the image is copyrighted under a non free license per Wikipedia Fair use then the image will be deleted hours after If you have any questions please ask them at the Media copyright questions page Thank you talk contribs\n",
      "\n",
      "bbq be a man and lets discuss it maybe over the phone\n",
      "\n",
      "Hey what is it talk What is it an exclusive group of some WP TALIBANS who are good at destroying self appointed purist who GANG UP any one who asks them questions abt their ANTI SOCIAL and DESTRUCTIVE non contribution at WP Ask Sityush to clean up his behavior than issue me nonsensical warnings\n",
      "\n",
      "Before you start throwing accusations and warnings at me lets review the edit itself making ad hominem attacks isn't going to strengthen your argument it will merely make it look like you are abusing your power as an admin Now the edit itself is relevant this is probably the single most talked about event int he news as of late His absence is notable since he is the only living ex president who did not attend That's certainly more notable than his dedicating an aircracft carrier I intend to revert this edit in hopes of attracting the attention of an admin that is willing to look at the issue itself and not throw accusations around quite so liberally Perhaps if you achieve a level of civility where you can do this we can have a rational discussion on the topic and resolve the matter peacefully\n",
      "\n",
      "Oh and the girl above started her arguments with me She stuck her nose where it doesn't belong I believe the argument was between me and Yvesnimmo But like I said the situation was settled and I apologized Thanks\n",
      "\n",
      "Juelz Santanas Age In Juelz Santana was years old then came February th which makes Juelz turn making songs with The Diplomats The third neff to be signed to Cam's label under Roc A Fella In he was years old coming out with his own singles Santana's Town and Down So yes he is born in He really is how could he be older then Lloyd Banks And how could he be when his birthday passed The homie neff is years old Juelz death god forbid if your thinking about that equals Go to your caculator and stop changing his year of birth My god\n",
      "\n",
      "Bye Don't look come or think of comming back Tosser\n",
      "\n",
      "REDIRECT Talk Voydan Pop Georgiev Chernodrinski\n",
      "\n",
      "The Mitsurugi point made no sense why not argue to include Hindi on Ryo Sakazaki's page to include more information\n",
      "\n",
      "Don't mean to bother you I see that you're writing something regarding removing anything posted here and if you do oh well but if not and you can acctually discuss this with me then even better I'd like to ask you to take a closer look at the Premature wrestling deaths catagory and the men listed in it surely these men belong together in some catagory Is there anything that you think we can do with the catagory besides delting it\n",
      "\n"
     ]
    }
   ],
   "source": [
    "cleared_corpus = []\n",
    "\n",
    "for i in range(len(corpus)):\n",
    "    temp = re.sub(r\"[^a-zA-Z' ]\", ' ', corpus[i])\n",
    "    cleared_corpus.append(' '.join(temp.split()))\n",
    "    \n",
    "print(len(cleared_corpus))\n",
    "for i in range(0, 20):\n",
    "    print(cleared_corpus[i])\n",
    "    print()"
   ]
  },
  {
   "cell_type": "markdown",
   "id": "2a948619",
   "metadata": {},
   "source": [
    "Вот так вроде хорошо - мне кажется, что осталось сделать одну вещь: перевести всё в нижний регистр. Я полагаю, что sklearn достаточно умён, чтобы сделать это своими методами и не считать `cocksucker` и `COCKSUCKER` двумя разными словами, но я не уверена - так что поможем ему:"
   ]
  },
  {
   "cell_type": "code",
   "execution_count": 6,
   "id": "79de0485",
   "metadata": {},
   "outputs": [
    {
     "name": "stdout",
     "output_type": "stream",
     "text": [
      "159571\n",
      "explanation why the edits made under my username hardcore metallica fan were reverted they weren't vandalisms just closure on some gas after i voted at new york dolls fac and please don't remove the template from the talk page since i'm retired now\n",
      "\n",
      "d'aww he matches this background colour i'm seemingly stuck with thanks talk january utc\n",
      "\n",
      "hey man i'm really not trying to edit war it's just that this guy is constantly removing relevant information and talking to me through edits instead of my talk page he seems to care more about the formatting than the actual info\n",
      "\n",
      "more i can't make any real suggestions on improvement i wondered if the section statistics should be later on or a subsection of types of accidents i think the references may need tidying so that they are all in the exact same format ie date format etc i can do that later on if no one else does first if you have any preferences for formatting style on references or want to do it yourself please let me know there appears to be a backlog on articles for review so i guess there may be a delay until a reviewer turns up it's listed in the relevant form eg wikipedia good article nominations transport\n",
      "\n",
      "you sir are my hero any chance you remember what page that's on\n",
      "\n"
     ]
    }
   ],
   "source": [
    "for i in range(len(cleared_corpus)):\n",
    "    cleared_corpus[i] = cleared_corpus[i].lower()\n",
    "    \n",
    "print(len(cleared_corpus))\n",
    "for i in range(0, 5):\n",
    "    print(cleared_corpus[i])\n",
    "    print()"
   ]
  },
  {
   "cell_type": "markdown",
   "id": "4d1ec845",
   "metadata": {},
   "source": [
    "Отлично - убрать отсюда местоимения, междометия, предлоги и прочие вещи, которые не нужны, по идее должен `stop_words`. Заменим исходные данные предобработанными:"
   ]
  },
  {
   "cell_type": "code",
   "execution_count": 7,
   "id": "193266e1",
   "metadata": {},
   "outputs": [
    {
     "data": {
      "text/html": [
       "<div>\n",
       "<style scoped>\n",
       "    .dataframe tbody tr th:only-of-type {\n",
       "        vertical-align: middle;\n",
       "    }\n",
       "\n",
       "    .dataframe tbody tr th {\n",
       "        vertical-align: top;\n",
       "    }\n",
       "\n",
       "    .dataframe thead th {\n",
       "        text-align: right;\n",
       "    }\n",
       "</style>\n",
       "<table border=\"1\" class=\"dataframe\">\n",
       "  <thead>\n",
       "    <tr style=\"text-align: right;\">\n",
       "      <th></th>\n",
       "      <th>text</th>\n",
       "      <th>toxic</th>\n",
       "    </tr>\n",
       "  </thead>\n",
       "  <tbody>\n",
       "    <tr>\n",
       "      <th>0</th>\n",
       "      <td>explanation why the edits made under my userna...</td>\n",
       "      <td>0</td>\n",
       "    </tr>\n",
       "    <tr>\n",
       "      <th>1</th>\n",
       "      <td>d'aww he matches this background colour i'm se...</td>\n",
       "      <td>0</td>\n",
       "    </tr>\n",
       "    <tr>\n",
       "      <th>2</th>\n",
       "      <td>hey man i'm really not trying to edit war it's...</td>\n",
       "      <td>0</td>\n",
       "    </tr>\n",
       "    <tr>\n",
       "      <th>3</th>\n",
       "      <td>more i can't make any real suggestions on impr...</td>\n",
       "      <td>0</td>\n",
       "    </tr>\n",
       "    <tr>\n",
       "      <th>4</th>\n",
       "      <td>you sir are my hero any chance you remember wh...</td>\n",
       "      <td>0</td>\n",
       "    </tr>\n",
       "    <tr>\n",
       "      <th>5</th>\n",
       "      <td>congratulations from me as well use the tools ...</td>\n",
       "      <td>0</td>\n",
       "    </tr>\n",
       "    <tr>\n",
       "      <th>6</th>\n",
       "      <td>cocksucker before you piss around on my work</td>\n",
       "      <td>1</td>\n",
       "    </tr>\n",
       "    <tr>\n",
       "      <th>7</th>\n",
       "      <td>your vandalism to the matt shirvington article...</td>\n",
       "      <td>0</td>\n",
       "    </tr>\n",
       "    <tr>\n",
       "      <th>8</th>\n",
       "      <td>sorry if the word 'nonsense' was offensive to ...</td>\n",
       "      <td>0</td>\n",
       "    </tr>\n",
       "    <tr>\n",
       "      <th>9</th>\n",
       "      <td>alignment on this subject and which are contra...</td>\n",
       "      <td>0</td>\n",
       "    </tr>\n",
       "    <tr>\n",
       "      <th>10</th>\n",
       "      <td>fair use rationale for image wonju jpg thanks ...</td>\n",
       "      <td>0</td>\n",
       "    </tr>\n",
       "    <tr>\n",
       "      <th>11</th>\n",
       "      <td>bbq be a man and lets discuss it maybe over th...</td>\n",
       "      <td>0</td>\n",
       "    </tr>\n",
       "    <tr>\n",
       "      <th>12</th>\n",
       "      <td>hey what is it talk what is it an exclusive gr...</td>\n",
       "      <td>1</td>\n",
       "    </tr>\n",
       "    <tr>\n",
       "      <th>13</th>\n",
       "      <td>before you start throwing accusations and warn...</td>\n",
       "      <td>0</td>\n",
       "    </tr>\n",
       "    <tr>\n",
       "      <th>14</th>\n",
       "      <td>oh and the girl above started her arguments wi...</td>\n",
       "      <td>0</td>\n",
       "    </tr>\n",
       "    <tr>\n",
       "      <th>15</th>\n",
       "      <td>juelz santanas age in juelz santana was years ...</td>\n",
       "      <td>0</td>\n",
       "    </tr>\n",
       "    <tr>\n",
       "      <th>16</th>\n",
       "      <td>bye don't look come or think of comming back t...</td>\n",
       "      <td>1</td>\n",
       "    </tr>\n",
       "    <tr>\n",
       "      <th>17</th>\n",
       "      <td>redirect talk voydan pop georgiev chernodrinski</td>\n",
       "      <td>0</td>\n",
       "    </tr>\n",
       "    <tr>\n",
       "      <th>18</th>\n",
       "      <td>the mitsurugi point made no sense why not argu...</td>\n",
       "      <td>0</td>\n",
       "    </tr>\n",
       "    <tr>\n",
       "      <th>19</th>\n",
       "      <td>don't mean to bother you i see that you're wri...</td>\n",
       "      <td>0</td>\n",
       "    </tr>\n",
       "  </tbody>\n",
       "</table>\n",
       "</div>"
      ],
      "text/plain": [
       "                                                 text  toxic\n",
       "0   explanation why the edits made under my userna...      0\n",
       "1   d'aww he matches this background colour i'm se...      0\n",
       "2   hey man i'm really not trying to edit war it's...      0\n",
       "3   more i can't make any real suggestions on impr...      0\n",
       "4   you sir are my hero any chance you remember wh...      0\n",
       "5   congratulations from me as well use the tools ...      0\n",
       "6        cocksucker before you piss around on my work      1\n",
       "7   your vandalism to the matt shirvington article...      0\n",
       "8   sorry if the word 'nonsense' was offensive to ...      0\n",
       "9   alignment on this subject and which are contra...      0\n",
       "10  fair use rationale for image wonju jpg thanks ...      0\n",
       "11  bbq be a man and lets discuss it maybe over th...      0\n",
       "12  hey what is it talk what is it an exclusive gr...      1\n",
       "13  before you start throwing accusations and warn...      0\n",
       "14  oh and the girl above started her arguments wi...      0\n",
       "15  juelz santanas age in juelz santana was years ...      0\n",
       "16  bye don't look come or think of comming back t...      1\n",
       "17    redirect talk voydan pop georgiev chernodrinski      0\n",
       "18  the mitsurugi point made no sense why not argu...      0\n",
       "19  don't mean to bother you i see that you're wri...      0"
      ]
     },
     "metadata": {},
     "output_type": "display_data"
    },
    {
     "name": "stdout",
     "output_type": "stream",
     "text": [
      "<class 'pandas.core.frame.DataFrame'>\n",
      "RangeIndex: 159571 entries, 0 to 159570\n",
      "Data columns (total 2 columns):\n",
      " #   Column  Non-Null Count   Dtype \n",
      "---  ------  --------------   ----- \n",
      " 0   text    159571 non-null  object\n",
      " 1   toxic   159571 non-null  int64 \n",
      "dtypes: int64(1), object(1)\n",
      "memory usage: 2.4+ MB\n",
      "None\n"
     ]
    }
   ],
   "source": [
    "data['text'] = pd.Series(cleared_corpus)\n",
    "\n",
    "display(data.head(20))\n",
    "print(data.info())"
   ]
  },
  {
   "cell_type": "markdown",
   "id": "4cbd5462",
   "metadata": {},
   "source": [
    "Получилось - едем дальше :)"
   ]
  },
  {
   "cell_type": "markdown",
   "id": "467f9428",
   "metadata": {},
   "source": [
    "## <center>\"Тупая\" модель</center>"
   ]
  },
  {
   "cell_type": "markdown",
   "id": "884d0a9f",
   "metadata": {},
   "source": [
    "Непонятно, 0.75 - это много или мало; посмотрим на F1-меру в сценарии \"все токсичные, всех в бан, полнота 1\". Считать здесь TF-IDF - только ресурсы тратить, обойдемся без предобработки:"
   ]
  },
  {
   "cell_type": "code",
   "execution_count": 8,
   "id": "14356001",
   "metadata": {},
   "outputs": [
    {
     "name": "stdout",
     "output_type": "stream",
     "text": [
      "Полнота -  1.0000, точность -  0.1016, F1-мера -  0.1845\n"
     ]
    }
   ],
   "source": [
    "train, test = train_test_split(data, test_size=0.2, random_state=42)\n",
    "features_train = train['text']\n",
    "target_train = train['toxic']\n",
    "features_test = test['text']\n",
    "target_test = test['toxic']\n",
    "\n",
    "model_dummy = DummyClassifier(strategy='constant', constant=1, random_state=42)\n",
    "model_dummy.fit(features_train, target_train)\n",
    "predictions = model_dummy.predict(features_test)\n",
    "\n",
    "recall = recall_score(target_test, predictions)\n",
    "precision = precision_score(target_test, predictions)\n",
    "f1_sc = f1_score(target_test, predictions)\n",
    "print(f'Полнота - {recall: .4f}, точность - {precision: .4f}, F1-мера - {f1_sc: .4f}')"
   ]
  },
  {
   "cell_type": "markdown",
   "id": "2e2c3a30",
   "metadata": {},
   "source": [
    "Ага - много. Что ж, поехали :)"
   ]
  },
  {
   "cell_type": "markdown",
   "id": "133a779e",
   "metadata": {},
   "source": [
    "## <center>Модели</center>"
   ]
  },
  {
   "cell_type": "markdown",
   "id": "c5832e8b",
   "metadata": {},
   "source": [
    "### <center>Логистическая регрессия</center>"
   ]
  },
  {
   "cell_type": "markdown",
   "id": "1ddedbdd",
   "metadata": {},
   "source": [
    "Начнём с логистической регрессии - F1 мера должна быть не меньше 0.75 и также хотя бы из интереса мы посмотрим на полноту и точность."
   ]
  },
  {
   "cell_type": "code",
   "execution_count": 9,
   "id": "cdc98c3d",
   "metadata": {},
   "outputs": [],
   "source": [
    "stopwords = set(nltk_stopwords.words('english'))\n",
    "count_tf_idf = TfidfVectorizer(stop_words=stopwords) \n",
    "\n",
    "train, test = train_test_split(data, test_size=0.2, random_state=42)\n",
    "features_train = count_tf_idf.fit_transform(train['text'])\n",
    "target_train = train['toxic']\n",
    "features_test = count_tf_idf.transform(test['text'])\n",
    "target_test = test['toxic']\n",
    "\n",
    "model_lr = LogisticRegression(solver='liblinear', class_weight='balanced', random_state=42) "
   ]
  },
  {
   "cell_type": "code",
   "execution_count": 10,
   "id": "6a1bd5b1",
   "metadata": {},
   "outputs": [
    {
     "name": "stdout",
     "output_type": "stream",
     "text": [
      "Wall time: 2.43 s\n"
     ]
    },
    {
     "data": {
      "text/plain": [
       "LogisticRegression(class_weight='balanced', random_state=42, solver='liblinear')"
      ]
     },
     "execution_count": 10,
     "metadata": {},
     "output_type": "execute_result"
    }
   ],
   "source": [
    "%%time\n",
    "model_lr.fit(features_train, target_train)"
   ]
  },
  {
   "cell_type": "code",
   "execution_count": 11,
   "id": "e64c889f",
   "metadata": {},
   "outputs": [
    {
     "name": "stdout",
     "output_type": "stream",
     "text": [
      "Wall time: 25.9 ms\n"
     ]
    }
   ],
   "source": [
    "%%time\n",
    "predictions = model_lr.predict(features_test)"
   ]
  },
  {
   "cell_type": "code",
   "execution_count": 12,
   "id": "28941dc2",
   "metadata": {},
   "outputs": [
    {
     "name": "stdout",
     "output_type": "stream",
     "text": [
      "Полнота -  0.8533, точность -  0.6740, F1-мера -  0.7531\n"
     ]
    }
   ],
   "source": [
    "recall = recall_score(target_test, predictions)\n",
    "precision = precision_score(target_test, predictions)\n",
    "f1_sc = f1_score(target_test, predictions)\n",
    "print(f'Полнота - {recall: .4f}, точность - {precision: .4f}, F1-мера - {f1_sc: .4f}')"
   ]
  },
  {
   "cell_type": "markdown",
   "id": "d67836b5",
   "metadata": {},
   "source": [
    "В целом мы уже получили нужный результат - попробуем добиться лучшего, меняя регуляризацию:"
   ]
  },
  {
   "cell_type": "code",
   "execution_count": 13,
   "id": "b83b8e62",
   "metadata": {},
   "outputs": [],
   "source": [
    "features_train = train['text']\n",
    "target_train = train['toxic']\n",
    "features_test = test['text']\n",
    "target_test = test['toxic']\n",
    "\n",
    "lr_pipeline = Pipeline(steps=[('prep', count_tf_idf), \n",
    "                                ('est', LogisticRegression(solver='liblinear', \n",
    "                                                           class_weight='balanced', random_state=42))])\n",
    "lr_param = {'est__C': [0.1, 0.2, 0.3, 0.4, 0.5, 0.6, 0.7, 0.8, 0.9]}\n",
    "\n",
    "#gs_lr = GridSearchCV(lr_pipeline,\n",
    "#                      param_grid=lr_param,\n",
    "#                      scoring=make_scorer(f1_score),\n",
    "#                      cv=3, verbose=0)\n",
    "#gs_lr.fit(features_train, target_train)\n",
    "\n",
    "#print(gs_lr.best_score_)\n",
    "#print(gs_lr.best_params_)"
   ]
  },
  {
   "cell_type": "markdown",
   "id": "99f95540",
   "metadata": {},
   "source": [
    "Лучший результат: `0.7427747396662953\n",
    "{'est__C': 0.9}`. Сильнее не надо, надо слабее:"
   ]
  },
  {
   "cell_type": "code",
   "execution_count": 14,
   "id": "5a55830f",
   "metadata": {},
   "outputs": [],
   "source": [
    "lr_param = {'est__C': [1.2, 1.5, 1.7, 2, 2.2, 2.5, 2.7, 3, 3.2]}\n",
    "\n",
    "#gs_lr = GridSearchCV(lr_pipeline,\n",
    "#                      param_grid=lr_param,\n",
    "#                      scoring=make_scorer(f1_score),\n",
    "#                      cv=3, verbose=0)\n",
    "#gs_lr.fit(features_train, target_train)\n",
    "\n",
    "#print(gs_lr.best_score_)\n",
    "#print(gs_lr.best_params_)"
   ]
  },
  {
   "cell_type": "markdown",
   "id": "fe271a2f",
   "metadata": {},
   "source": [
    "Лучший результат: `0.7594573301134838\n",
    "{'est__C': 3.2}`. Ещё слабее:"
   ]
  },
  {
   "cell_type": "code",
   "execution_count": 15,
   "id": "63c4102d",
   "metadata": {},
   "outputs": [],
   "source": [
    "lr_param = {'est__C': [4, 5, 6, 7, 8, 9, 10]}\n",
    "\n",
    "#gs_lr = GridSearchCV(lr_pipeline,\n",
    "#                      param_grid=lr_param,\n",
    "#                      scoring=make_scorer(f1_score),\n",
    "#                      cv=3, verbose=0)\n",
    "#gs_lr.fit(features_train, target_train)\n",
    "\n",
    "#print(gs_lr.best_score_)\n",
    "#print(gs_lr.best_params_)"
   ]
  },
  {
   "cell_type": "markdown",
   "id": "e8d9ce95",
   "metadata": {},
   "source": [
    "Лучший результат: `0.7636692421225026\n",
    "{'est__C': 10}`. Пробуем дальше:"
   ]
  },
  {
   "cell_type": "code",
   "execution_count": 16,
   "id": "7baa38d1",
   "metadata": {},
   "outputs": [],
   "source": [
    "lr_param = {'est__C': [15, 20, 25, 30, 35, 40, 45, 50]}\n",
    "\n",
    "#gs_lr = GridSearchCV(lr_pipeline,\n",
    "#                      param_grid=lr_param,\n",
    "#                      scoring=make_scorer(f1_score),\n",
    "#                      cv=3, verbose=0)\n",
    "#gs_lr.fit(features_train, target_train)\n",
    "\n",
    "#print(gs_lr.best_score_)\n",
    "#print(gs_lr.best_params_)"
   ]
  },
  {
   "cell_type": "markdown",
   "id": "958cf978",
   "metadata": {},
   "source": [
    "Лучший результат: `0.7627577174824255\n",
    "{'est__C': 15}`. Хуже, чем при 10 - значит смотрим отрезок от 10 до 15:\n",
    "</div>"
   ]
  },
  {
   "cell_type": "code",
   "execution_count": 17,
   "id": "aeb6c0b4",
   "metadata": {},
   "outputs": [],
   "source": [
    "lr_param = {'est__C': [11, 12, 13, 14]}\n",
    "\n",
    "#gs_lr = GridSearchCV(lr_pipeline,\n",
    "#                      param_grid=lr_param,\n",
    "#                      scoring=make_scorer(f1_score),\n",
    "#                      cv=3, verbose=0)\n",
    "#gs_lr.fit(features_train, target_train)\n",
    "\n",
    "#print(gs_lr.best_score_)\n",
    "#print(gs_lr.best_params_)"
   ]
  },
  {
   "cell_type": "markdown",
   "id": "8158f506",
   "metadata": {},
   "source": [
    "Лучший результат: `0.7634608170294283\n",
    "{'est__C': 12}`. Итого лучшее - 10:"
   ]
  },
  {
   "cell_type": "code",
   "execution_count": 18,
   "id": "d5312dbc",
   "metadata": {},
   "outputs": [],
   "source": [
    "features_train = count_tf_idf.fit_transform(train['text'])\n",
    "target_train = train['toxic']\n",
    "features_test = count_tf_idf.transform(test['text'])\n",
    "target_test = test['toxic']\n",
    "\n",
    "model_lr = LogisticRegression(solver='liblinear', class_weight='balanced', random_state=42, C=10) "
   ]
  },
  {
   "cell_type": "code",
   "execution_count": 19,
   "id": "552fd0ce",
   "metadata": {},
   "outputs": [
    {
     "name": "stdout",
     "output_type": "stream",
     "text": [
      "Wall time: 2.5 s\n"
     ]
    },
    {
     "data": {
      "text/plain": [
       "LogisticRegression(C=10, class_weight='balanced', random_state=42,\n",
       "                   solver='liblinear')"
      ]
     },
     "execution_count": 19,
     "metadata": {},
     "output_type": "execute_result"
    }
   ],
   "source": [
    "%%time\n",
    "model_lr.fit(features_train, target_train)"
   ]
  },
  {
   "cell_type": "code",
   "execution_count": 20,
   "id": "1bf5ebfa",
   "metadata": {},
   "outputs": [
    {
     "name": "stdout",
     "output_type": "stream",
     "text": [
      "Wall time: 4.99 ms\n"
     ]
    }
   ],
   "source": [
    "%%time\n",
    "predictions = model_lr.predict(features_test)"
   ]
  },
  {
   "cell_type": "code",
   "execution_count": 21,
   "id": "8687b1b9",
   "metadata": {},
   "outputs": [
    {
     "name": "stdout",
     "output_type": "stream",
     "text": [
      "Полнота -  0.8280, точность -  0.7299, F1-мера -  0.7759\n"
     ]
    }
   ],
   "source": [
    "recall = recall_score(target_test, predictions)\n",
    "precision = precision_score(target_test, predictions)\n",
    "f1_sc = f1_score(target_test, predictions)\n",
    "print(f'Полнота - {recall: .4f}, точность - {precision: .4f}, F1-мера - {f1_sc: .4f}')"
   ]
  },
  {
   "cell_type": "markdown",
   "id": "1fb0ebce",
   "metadata": {},
   "source": [
    "Результат очень хороший - посмотрим, как справятся другие модели."
   ]
  },
  {
   "cell_type": "markdown",
   "id": "15300476",
   "metadata": {},
   "source": [
    "### <center>Дерево решений</center>"
   ]
  },
  {
   "cell_type": "markdown",
   "id": "57ba8996",
   "metadata": {},
   "source": [
    "Здесь уже не обойтись без пайплайна и гридсёрча - отделим тестовую выборку и будем искать лучшее дерево с 5-фолдовой кроссвалидацией:\n",
    "(Здесь и далее сам поиск в коде закомменчен, потому что занимает много времени)"
   ]
  },
  {
   "cell_type": "code",
   "execution_count": 22,
   "id": "cd934bc0",
   "metadata": {},
   "outputs": [],
   "source": [
    "features_train = train['text']\n",
    "target_train = train['toxic']\n",
    "features_test = test['text']\n",
    "target_test = test['toxic']\n",
    "\n",
    "tree_pipeline = Pipeline(steps=[('prep', count_tf_idf), \n",
    "                                ('est', DecisionTreeClassifier(random_state=42, class_weight='balanced'))])\n",
    "tree_param = {'est__max_depth': [2, 3, 4, 5, 6, 7, 8, 9, 10]}\n",
    "\n",
    "#gs_tree = GridSearchCV(tree_pipeline,\n",
    "#                      param_grid=tree_param,\n",
    "#                      scoring=make_scorer(f1_score),\n",
    "#                      cv=5, verbose=0)\n",
    "#gs_tree.fit(features_train, target_train)\n",
    "\n",
    "#print(gs_tree.best_score_)\n",
    "#print(gs_tree.best_params_)"
   ]
  },
  {
   "cell_type": "markdown",
   "id": "b4e7b3a8",
   "metadata": {},
   "source": [
    "Лучший результат: `0.5454164639462677\n",
    "{'est__max_depth': 10}`... Что вообще-то фантастически плохо - здесь хочется выжать тест и посмотреть на полноту с точностью:"
   ]
  },
  {
   "cell_type": "code",
   "execution_count": 23,
   "id": "f47c3ee6",
   "metadata": {},
   "outputs": [
    {
     "name": "stdout",
     "output_type": "stream",
     "text": [
      "Полнота -  0.4063, точность -  0.8723, F1-мера -  0.5544\n"
     ]
    }
   ],
   "source": [
    "features_train = count_tf_idf.fit_transform(train['text'])\n",
    "target_train = train['toxic']\n",
    "features_test = count_tf_idf.transform(test['text'])\n",
    "target_test = test['toxic']\n",
    "\n",
    "model_tree = DecisionTreeClassifier(max_depth=10, class_weight='balanced', random_state=42) \n",
    "model_tree.fit(features_train, target_train)\n",
    "predictions = model_tree.predict(features_test)\n",
    "recall = recall_score(target_test, predictions)\n",
    "precision = precision_score(target_test, predictions)\n",
    "f1_sc = f1_score(target_test, predictions)\n",
    "print(f'Полнота - {recall: .4f}, точность - {precision: .4f}, F1-мера - {f1_sc: .4f}')"
   ]
  },
  {
   "cell_type": "markdown",
   "id": "f39644c5",
   "metadata": {},
   "source": [
    "Ага. Дерево заметно выигрывает у регрессии в точности - однако жутко просаживается по полноте, и итоговый результат нас, конечно, никак не устраивает. Попробуем поискать дальше:"
   ]
  },
  {
   "cell_type": "code",
   "execution_count": 24,
   "id": "77f62731",
   "metadata": {},
   "outputs": [],
   "source": [
    "features_train = train['text']\n",
    "target_train = train['toxic']\n",
    "features_test = test['text']\n",
    "target_test = test['toxic']\n",
    "\n",
    "tree_param = {'est__max_depth': [11, 13, 15, 17, 19, 21, 23]}\n",
    "\n",
    "#gs_tree = GridSearchCV(tree_pipeline,\n",
    "#                      param_grid=tree_param,\n",
    "#                      scoring=make_scorer(f1_score),\n",
    "#                      cv=5, verbose=0)\n",
    "#gs_tree.fit(features_train, target_train)\n",
    "\n",
    "#print(gs_tree.best_score_)\n",
    "#print(gs_tree.best_params_)"
   ]
  },
  {
   "cell_type": "markdown",
   "id": "fd5e5f54",
   "metadata": {},
   "source": [
    "`0.6081108797088997\n",
    "{'est__max_depth': 23}`. Пробовать дальше не имеет смысла."
   ]
  },
  {
   "cell_type": "markdown",
   "id": "f77b630f",
   "metadata": {},
   "source": [
    "## <center>Заключение</center>"
   ]
  },
  {
   "cell_type": "markdown",
   "id": "da684de0",
   "metadata": {},
   "source": [
    "Также был попробован градиентный бустинг (LightGBM) - лучший результат F1-мера `0.738`, что также нас не устраивает. Без применения иных подходов (BERT и т.д.) лучший результат показывает логистическая регрессия с регуляризацией `C = 10`."
   ]
  }
 ],
 "metadata": {
  "kernelspec": {
   "display_name": "Python 3 (ipykernel)",
   "language": "python",
   "name": "python3"
  },
  "language_info": {
   "codemirror_mode": {
    "name": "ipython",
    "version": 3
   },
   "file_extension": ".py",
   "mimetype": "text/x-python",
   "name": "python",
   "nbconvert_exporter": "python",
   "pygments_lexer": "ipython3",
   "version": "3.8.8"
  },
  "toc": {
   "base_numbering": 1,
   "nav_menu": {},
   "number_sections": true,
   "sideBar": true,
   "skip_h1_title": true,
   "title_cell": "Table of Contents",
   "title_sidebar": "Contents",
   "toc_cell": false,
   "toc_position": {},
   "toc_section_display": true,
   "toc_window_display": false
  }
 },
 "nbformat": 4,
 "nbformat_minor": 5
}
